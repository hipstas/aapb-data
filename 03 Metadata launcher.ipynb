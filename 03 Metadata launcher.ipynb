{
 "cells": [
  {
   "cell_type": "code",
   "execution_count": 2,
   "metadata": {},
   "outputs": [
    {
     "data": {
      "text/html": [
       "<div>\n",
       "<table border=\"1\" class=\"dataframe\">\n",
       "  <thead>\n",
       "    <tr style=\"text-align: right;\">\n",
       "      <th></th>\n",
       "      <th>AAPB Unique Identifier (GUID)</th>\n",
       "      <th>Type</th>\n",
       "      <th>Value</th>\n",
       "      <th>class ID</th>\n",
       "      <th>Timecode IN</th>\n",
       "      <th>Timecode OUT</th>\n",
       "      <th>Tag Duration</th>\n",
       "      <th>File Duration</th>\n",
       "      <th>SonyCi ID</th>\n",
       "      <th>Filename</th>\n",
       "    </tr>\n",
       "  </thead>\n",
       "  <tbody>\n",
       "    <tr>\n",
       "      <th>2984</th>\n",
       "      <td>NaN</td>\n",
       "      <td>NaN</td>\n",
       "      <td>Nixon, Richard</td>\n",
       "      <td>Richard Nixon</td>\n",
       "      <td>2378.884354</td>\n",
       "      <td>2389.031474</td>\n",
       "      <td>10.147120</td>\n",
       "      <td>3544.062</td>\n",
       "      <td>NaN</td>\n",
       "      <td>cpb-aacip-75-88qbzvhx.h264</td>\n",
       "    </tr>\n",
       "    <tr>\n",
       "      <th>2985</th>\n",
       "      <td>NaN</td>\n",
       "      <td>NaN</td>\n",
       "      <td>Nixon, Richard</td>\n",
       "      <td>Richard Nixon</td>\n",
       "      <td>2433.962086</td>\n",
       "      <td>2439.674195</td>\n",
       "      <td>5.712109</td>\n",
       "      <td>3544.062</td>\n",
       "      <td>NaN</td>\n",
       "      <td>cpb-aacip-75-88qbzvhx.h264</td>\n",
       "    </tr>\n",
       "  </tbody>\n",
       "</table>\n",
       "</div>"
      ],
      "text/plain": [
       "     AAPB Unique Identifier (GUID) Type           Value       class ID  \\\n",
       "2984                           NaN  NaN  Nixon, Richard  Richard Nixon   \n",
       "2985                           NaN  NaN  Nixon, Richard  Richard Nixon   \n",
       "\n",
       "      Timecode IN  Timecode OUT  Tag Duration  File Duration SonyCi ID  \\\n",
       "2984  2378.884354   2389.031474     10.147120       3544.062       NaN   \n",
       "2985  2433.962086   2439.674195      5.712109       3544.062       NaN   \n",
       "\n",
       "                        Filename  \n",
       "2984  cpb-aacip-75-88qbzvhx.h264  \n",
       "2985  cpb-aacip-75-88qbzvhx.h264  "
      ]
     },
     "execution_count": 2,
     "metadata": {},
     "output_type": "execute_result"
    }
   ],
   "source": [
    "import pandas as pd\n",
    "import os\n",
    "\n",
    "os.chdir(os.path.expanduser('~/Dropbox/aapb-hipstas'))\n",
    "aapb_metadata_all=pd.read_csv(\"AAPB_ARLO_All_170412.csv\")\n",
    "aapb_metadata_all.tail(2)\n"
   ]
  },
  {
   "cell_type": "code",
   "execution_count": 13,
   "metadata": {},
   "outputs": [
    {
     "data": {
      "text/plain": [
       "['cpb-aacip_15-9m03xx2p__94696_',\n",
       " 'cpb-aacip_28-vm42r3ph61__PRA_AAPP_BB0637_100_years_of_freedom_',\n",
       " 'cpb-aacip_151-mc8rb6wk8n__fma_2_56_3_2_pres_20100112_',\n",
       " 'cpb-aacip_28-td9n29pp9j__PRA_AAPP_BC0642_James_Baldwin_on_Angela_Davis_',\n",
       " 'cpb-aacip_305-86nzshkq',\n",
       " 'cpb-aacip_15-97p8td0k__217005_',\n",
       " 'cpb-aacip_15-92804z5z__318380_',\n",
       " 'cpb-aacip_28-bv79s1kx0r__PRA_AAPP_BB0641_Living_and_growing_in_a_white_world_',\n",
       " 'cpb-aacip_15-0v89g5gf5r__barcode94696_clip1_',\n",
       " 'cpb-aacip_15-687h4jgd',\n",
       " 'cpb-aacip_28-959c53fb23__PRA_AAPP_BB0873_After_the_murder_of_four_children_',\n",
       " 'cpb-aacip_28-9z90863j5g__PRA_AAPP_BB2011_Free_and_brave_',\n",
       " 'cpb-aacip_75-48sbchq4',\n",
       " 'cpb-aacip_15-719kdkmx',\n",
       " 'cpb-aacip_500-mc8rgt5t',\n",
       " 'cpb-aacip_28-n872v2ct06__PRA_AAPP_BB0838_Baldwin_at_the_Masonic_Temple_',\n",
       " 'cpb-aacip_28-8s4jm23q52__PRA_AAPP_BB0632_A_conversation_with_James_Baldwin_',\n",
       " 'cpb-aacip_55-76f1wc38',\n",
       " 'cpb-aacip_15-9gh9b874__231080_',\n",
       " 'cpb-aacip_15-92j6845b__230962_']"
      ]
     },
     "execution_count": 13,
     "metadata": {},
     "output_type": "execute_result"
    }
   ],
   "source": [
    "filenames=list(set(list(aapb_metadata_all[aapb_metadata_all['Value']==\"Baldwin, James\"]['Filename'])))\n",
    "filenames=[item.replace('.h264','').replace('aacip-','aacip_') for item in filenames]\n",
    "filenames"
   ]
  },
  {
   "cell_type": "code",
   "execution_count": 14,
   "metadata": {},
   "outputs": [],
   "source": [
    "pbcore_dir=\"/Volumes/McLaughlin-6TB-1/Dropbox/aapb-hipstas/PBCore_XML\"\n",
    "\n",
    "pbcore_filenames=os.listdir(pbcore_dir)"
   ]
  },
  {
   "cell_type": "code",
   "execution_count": 17,
   "metadata": {},
   "outputs": [
    {
     "name": "stdout",
     "output_type": "stream",
     "text": [
      "cpb-aacip_305-86nzshkq\n",
      "cpb-aacip_15-687h4jgd\n",
      "cpb-aacip_75-48sbchq4\n",
      "cpb-aacip_15-719kdkmx\n",
      "cpb-aacip_500-mc8rgt5t\n",
      "cpb-aacip_55-76f1wc38\n"
     ]
    }
   ],
   "source": [
    "for item in filenames:\n",
    "    if item+'.pbcore' in pbcore_filenames:\n",
    "        print(item)\n",
    "        os.system('open -a TextWrangler '+os.path.join(pbcore_dir,item+'.pbcore'))"
   ]
  },
  {
   "cell_type": "code",
   "execution_count": null,
   "metadata": {
    "collapsed": true
   },
   "outputs": [],
   "source": []
  },
  {
   "cell_type": "code",
   "execution_count": null,
   "metadata": {
    "collapsed": true
   },
   "outputs": [],
   "source": []
  },
  {
   "cell_type": "code",
   "execution_count": null,
   "metadata": {
    "collapsed": true
   },
   "outputs": [],
   "source": []
  }
 ],
 "metadata": {
  "kernelspec": {
   "display_name": "Python 3",
   "language": "python",
   "name": "python3"
  },
  "language_info": {
   "codemirror_mode": {
    "name": "ipython",
    "version": 3
   },
   "file_extension": ".py",
   "mimetype": "text/x-python",
   "name": "python",
   "nbconvert_exporter": "python",
   "pygments_lexer": "ipython3",
   "version": "3.6.0"
  }
 },
 "nbformat": 4,
 "nbformat_minor": 2
}
