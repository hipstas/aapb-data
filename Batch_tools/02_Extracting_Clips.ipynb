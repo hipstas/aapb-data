{
 "cells": [
  {
   "cell_type": "code",
   "execution_count": 2,
   "metadata": {
    "collapsed": true
   },
   "outputs": [],
   "source": [
    "import os\n",
    "import sys, getopt\n",
    "import time, datetime\n",
    "from pydub import AudioSegment\n",
    "import pydub\n",
    "import subprocess\n",
    "import pandas as pd\n",
    "import numpy as np\n",
    "import math\n",
    "from copy import copy\n",
    "from random import random\n",
    "\n",
    "os.chdir(os.path.expanduser('~/Dropbox/aapb-hipstas'))"
   ]
  },
  {
   "cell_type": "code",
   "execution_count": 3,
   "metadata": {},
   "outputs": [
    {
     "data": {
      "text/plain": [
       "2153"
      ]
     },
     "execution_count": 3,
     "metadata": {},
     "output_type": "execute_result"
    }
   ],
   "source": [
    "import glob\n",
    "import fnmatch\n",
    "import os\n",
    "\n",
    "matches = []\n",
    "audio_paths=[\"/Volumes/Turcich-2012/AAPB_Test_Haystack_16000\",\\\n",
    "\"/Users/mclaugh/Desktop/AAPB_400_hrs_labeled/wav_16000/\",\\\n",
    "\"/Volumes/McLaughlin-6TB-1/Extended_Corpus/\"]\n",
    "\n",
    "\n",
    "\n",
    "matches_mp4 = []\n",
    "\n",
    "matches_mp3 = []\n",
    "\n",
    "matches_wav = []\n",
    "\n",
    "\n",
    "\n",
    "for dir_path in audio_paths:\n",
    "    for root, dirnames, filenames in os.walk(dir_path):\n",
    "        for filename in fnmatch.filter(filenames, '*.mp4'):\n",
    "            matches_mp4.append(os.path.join(root, filename))\n",
    "        for filename in fnmatch.filter(filenames, '*.mp3'):\n",
    "            matches_mp3.append(os.path.join(root, filename))\n",
    "        for filename in fnmatch.filter(filenames, '*.16000.wav'):\n",
    "            matches_wav.append(os.path.join(root, filename))\n",
    "\n",
    "#matches=list(set(matches_mp4+matches_mp3+matches_wav))\n",
    "\n",
    "matches=matches_wav\n",
    "\n",
    "len(matches)"
   ]
  },
  {
   "cell_type": "code",
   "execution_count": null,
   "metadata": {},
   "outputs": [],
   "source": []
  },
  {
   "cell_type": "code",
   "execution_count": 4,
   "metadata": {},
   "outputs": [
    {
     "name": "stdout",
     "output_type": "stream",
     "text": [
      "/Volumes/McLaughlin-6TB-1/Extended_Corpus/Malcolm_X/cpb-aacip-15-579s51qt.h264.16000.wav\n"
     ]
    }
   ],
   "source": [
    "basename_to_path={}\n",
    "\n",
    "for pathname in matches:\n",
    "    basename=pathname.split('/')[-1][:-4]  # removing file extension and rest of path\n",
    "    if basename[-6:]=='.16000':\n",
    "        basename = basename[:-6]\n",
    "    basename_to_path[basename]=pathname\n",
    "\n",
    "print(basename_to_path['cpb-aacip-15-579s51qt.h264'])"
   ]
  },
  {
   "cell_type": "code",
   "execution_count": 5,
   "metadata": {},
   "outputs": [
    {
     "name": "stdout",
     "output_type": "stream",
     "text": [
      "/Users/mclaugh/Desktop/AAPB_400_hrs_labeled/wav_16000/cpb-aacip-15-9995xnw4.16000.wav\n"
     ]
    }
   ],
   "source": [
    "print(basename_to_path['cpb-aacip-15-9995xnw4'])"
   ]
  },
  {
   "cell_type": "code",
   "execution_count": null,
   "metadata": {
    "collapsed": true
   },
   "outputs": [],
   "source": []
  },
  {
   "cell_type": "code",
   "execution_count": 6,
   "metadata": {},
   "outputs": [
    {
     "data": {
      "text/html": [
       "<div>\n",
       "<table border=\"1\" class=\"dataframe\">\n",
       "  <thead>\n",
       "    <tr style=\"text-align: right;\">\n",
       "      <th></th>\n",
       "      <th>AAPB Unique Identifier (GUID)</th>\n",
       "      <th>Type</th>\n",
       "      <th>Value</th>\n",
       "      <th>class ID</th>\n",
       "      <th>Timecode IN</th>\n",
       "      <th>Timecode OUT</th>\n",
       "      <th>Tag Duration</th>\n",
       "      <th>File Duration</th>\n",
       "      <th>SonyCi ID</th>\n",
       "      <th>Filename</th>\n",
       "    </tr>\n",
       "  </thead>\n",
       "  <tbody>\n",
       "    <tr>\n",
       "      <th>2984</th>\n",
       "      <td>NaN</td>\n",
       "      <td>NaN</td>\n",
       "      <td>Nixon, Richard</td>\n",
       "      <td>Richard Nixon</td>\n",
       "      <td>2378.884354</td>\n",
       "      <td>2389.031474</td>\n",
       "      <td>10.147120</td>\n",
       "      <td>3544.062</td>\n",
       "      <td>NaN</td>\n",
       "      <td>cpb-aacip-75-88qbzvhx.h264</td>\n",
       "    </tr>\n",
       "    <tr>\n",
       "      <th>2985</th>\n",
       "      <td>NaN</td>\n",
       "      <td>NaN</td>\n",
       "      <td>Nixon, Richard</td>\n",
       "      <td>Richard Nixon</td>\n",
       "      <td>2433.962086</td>\n",
       "      <td>2439.674195</td>\n",
       "      <td>5.712109</td>\n",
       "      <td>3544.062</td>\n",
       "      <td>NaN</td>\n",
       "      <td>cpb-aacip-75-88qbzvhx.h264</td>\n",
       "    </tr>\n",
       "  </tbody>\n",
       "</table>\n",
       "</div>"
      ],
      "text/plain": [
       "     AAPB Unique Identifier (GUID) Type           Value       class ID  \\\n",
       "2984                           NaN  NaN  Nixon, Richard  Richard Nixon   \n",
       "2985                           NaN  NaN  Nixon, Richard  Richard Nixon   \n",
       "\n",
       "      Timecode IN  Timecode OUT  Tag Duration  File Duration SonyCi ID  \\\n",
       "2984  2378.884354   2389.031474     10.147120       3544.062       NaN   \n",
       "2985  2433.962086   2439.674195      5.712109       3544.062       NaN   \n",
       "\n",
       "                        Filename  \n",
       "2984  cpb-aacip-75-88qbzvhx.h264  \n",
       "2985  cpb-aacip-75-88qbzvhx.h264  "
      ]
     },
     "execution_count": 6,
     "metadata": {},
     "output_type": "execute_result"
    }
   ],
   "source": [
    "aapb_metadata_all=pd.read_csv(\"AAPB_ARLO_All_170412.csv\")\n",
    "aapb_metadata_all.tail(2)"
   ]
  },
  {
   "cell_type": "code",
   "execution_count": 7,
   "metadata": {},
   "outputs": [
    {
     "name": "stdout",
     "output_type": "stream",
     "text": [
      "nan\n",
      "nan\n",
      "nan\n",
      "nan\n",
      "nan\n",
      "cpb-aacip-15-6688g8fn75__25311-2010_09_15_.h264\n",
      "cpb-aacip-15-6688g8fn75__25311-2010_09_15_.h264\n"
     ]
    }
   ],
   "source": [
    "#Adding current pathname for each row\n",
    "\n",
    "aapb_metadata_all['Pathname']=''\n",
    "\n",
    "for i in range(len(aapb_metadata_all)):\n",
    "    row=aapb_metadata_all.iloc[i]\n",
    "    basename=row['Filename']\n",
    "    try:\n",
    "        #print(str(dur_dict[basename]))\n",
    "        aapb_metadata_all.set_value(i, 'Pathname', basename_to_path[basename])\n",
    "    except:\n",
    "        print(basename)\n",
    "    \n"
   ]
  },
  {
   "cell_type": "code",
   "execution_count": 8,
   "metadata": {},
   "outputs": [
    {
     "data": {
      "text/html": [
       "<div>\n",
       "<table border=\"1\" class=\"dataframe\">\n",
       "  <thead>\n",
       "    <tr style=\"text-align: right;\">\n",
       "      <th></th>\n",
       "      <th>AAPB Unique Identifier (GUID)</th>\n",
       "      <th>Type</th>\n",
       "      <th>Value</th>\n",
       "      <th>class ID</th>\n",
       "      <th>Timecode IN</th>\n",
       "      <th>Timecode OUT</th>\n",
       "      <th>Tag Duration</th>\n",
       "      <th>File Duration</th>\n",
       "      <th>SonyCi ID</th>\n",
       "      <th>Filename</th>\n",
       "      <th>Pathname</th>\n",
       "    </tr>\n",
       "  </thead>\n",
       "  <tbody>\n",
       "    <tr>\n",
       "      <th>0</th>\n",
       "      <td>cpb-aacip/500-j9609t48</td>\n",
       "      <td>Significant speaker voice</td>\n",
       "      <td>Kennedy, John F.</td>\n",
       "      <td>NaN</td>\n",
       "      <td>5.0</td>\n",
       "      <td>110.0</td>\n",
       "      <td>105.0</td>\n",
       "      <td>1739.184</td>\n",
       "      <td>6d54987efa73413cb3558c95baa907a6</td>\n",
       "      <td>cpb-aacip-500-j9609t48</td>\n",
       "      <td>/Volumes/McLaughlin-6TB-1/Extended_Corpus/John...</td>\n",
       "    </tr>\n",
       "    <tr>\n",
       "      <th>1</th>\n",
       "      <td>cpb-aacip/500-j9609t48</td>\n",
       "      <td>Sound quality</td>\n",
       "      <td>audience clapping</td>\n",
       "      <td>NaN</td>\n",
       "      <td>131.0</td>\n",
       "      <td>140.0</td>\n",
       "      <td>9.0</td>\n",
       "      <td>1739.184</td>\n",
       "      <td>6d54987efa73413cb3558c95baa907a6</td>\n",
       "      <td>cpb-aacip-500-j9609t48</td>\n",
       "      <td>/Volumes/McLaughlin-6TB-1/Extended_Corpus/John...</td>\n",
       "    </tr>\n",
       "    <tr>\n",
       "      <th>2</th>\n",
       "      <td>cpb-aacip/500-j9609t48</td>\n",
       "      <td>Significant speaker voice</td>\n",
       "      <td>Kennedy, John F.</td>\n",
       "      <td>NaN</td>\n",
       "      <td>119.0</td>\n",
       "      <td>254.0</td>\n",
       "      <td>135.0</td>\n",
       "      <td>1739.184</td>\n",
       "      <td>6d54987efa73413cb3558c95baa907a6</td>\n",
       "      <td>cpb-aacip-500-j9609t48</td>\n",
       "      <td>/Volumes/McLaughlin-6TB-1/Extended_Corpus/John...</td>\n",
       "    </tr>\n",
       "  </tbody>\n",
       "</table>\n",
       "</div>"
      ],
      "text/plain": [
       "  AAPB Unique Identifier (GUID)                       Type              Value  \\\n",
       "0        cpb-aacip/500-j9609t48  Significant speaker voice   Kennedy, John F.   \n",
       "1        cpb-aacip/500-j9609t48              Sound quality  audience clapping   \n",
       "2        cpb-aacip/500-j9609t48  Significant speaker voice   Kennedy, John F.   \n",
       "\n",
       "  class ID  Timecode IN  Timecode OUT  Tag Duration  File Duration  \\\n",
       "0      NaN          5.0         110.0         105.0       1739.184   \n",
       "1      NaN        131.0         140.0           9.0       1739.184   \n",
       "2      NaN        119.0         254.0         135.0       1739.184   \n",
       "\n",
       "                          SonyCi ID                Filename  \\\n",
       "0  6d54987efa73413cb3558c95baa907a6  cpb-aacip-500-j9609t48   \n",
       "1  6d54987efa73413cb3558c95baa907a6  cpb-aacip-500-j9609t48   \n",
       "2  6d54987efa73413cb3558c95baa907a6  cpb-aacip-500-j9609t48   \n",
       "\n",
       "                                            Pathname  \n",
       "0  /Volumes/McLaughlin-6TB-1/Extended_Corpus/John...  \n",
       "1  /Volumes/McLaughlin-6TB-1/Extended_Corpus/John...  \n",
       "2  /Volumes/McLaughlin-6TB-1/Extended_Corpus/John...  "
      ]
     },
     "execution_count": 8,
     "metadata": {},
     "output_type": "execute_result"
    }
   ],
   "source": [
    "aapb_metadata_all.head(3)"
   ]
  },
  {
   "cell_type": "code",
   "execution_count": 9,
   "metadata": {},
   "outputs": [
    {
     "name": "stdout",
     "output_type": "stream",
     "text": [
      "['Baldwin, James', 'Buckley, William F.', 'Bush, George HW', 'Bush, George W.', 'Carter, Jimmy', 'Child, Julia', 'Classical Music', 'Clinton, Bill', 'Clinton, Hillary', 'Dog Bark', 'Ford, Gerald', 'Galbraith, John Kenneth', 'Gore, Al', 'Johnson, Lyndon', 'Kennedy, John F.', 'King, Martin Luther', 'Kissinger, Henry', 'Lehrer, Jim', 'NPR embedded feed', 'Nixon, Richard', 'PRI embedded feed', 'Pepin, Jacques', 'Reagan, Ronald', 'Spanish Language', 'Steinem, Gloria', 'Vidal, Gore', 'X, Malcolm', 'applause', 'audience clapping']\n"
     ]
    }
   ],
   "source": [
    "# finding all \"Value\" labels\n",
    "label_values=sorted([str(item) for item in list(set(list(aapb_metadata_all['Value'])))])\n",
    "label_values.remove('nan')\n",
    "print(label_values)"
   ]
  },
  {
   "cell_type": "code",
   "execution_count": 10,
   "metadata": {
    "collapsed": true
   },
   "outputs": [],
   "source": [
    "aapb_metadata_all_split=pd.DataFrame(columns=['AAPB Unique Identifier (GUID)', 'Type', 'Value', 'class ID',\\\n",
    "       'Timecode IN', 'Timecode OUT', 'Tag Duration', 'File Duration',\\\n",
    "       'SonyCi ID', 'Filename', 'Pathname'])\n",
    "\n",
    "\n",
    "\n",
    "for value in label_values:\n",
    "\n",
    "    x_table=aapb_metadata_all[aapb_metadata_all['Value']==value]\n",
    "\n",
    "    for index, rowref in x_table.iterrows():\n",
    "        row=aapb_metadata_all.iloc[index]\n",
    "        num_clips=math.trunc(float(row['Tag Duration'])/2) #checking how many solid 2-second clips we can extract\n",
    "        #print(num_clips)\n",
    "        #break\n",
    "        row_list=list(aapb_metadata_all.iloc[index])\n",
    "        series_start=row[\"Timecode IN\"]\n",
    "        list_of_lists=[]\n",
    "    \n",
    "        for i in range(num_clips):\n",
    "            row_list=list(aapb_metadata_all.iloc[index])\n",
    "            row_list[4]=float(row_list[4])+(2.0*i)\n",
    "            row_list[5]=float(row_list[4])+2.0\n",
    "            row_list[6]=2.0\n",
    "            list_of_lists.append(copy(row_list))\n",
    "            #print(row_list)\n",
    "        \n",
    "        table=pd.DataFrame(list_of_lists,columns=['AAPB Unique Identifier (GUID)', 'Type', 'Value', 'class ID',\\\n",
    "               'Timecode IN', 'Timecode OUT', 'Tag Duration', 'File Duration',\\\n",
    "               'SonyCi ID', 'Filename', 'Pathname'])\n",
    "    \n",
    "        aapb_metadata_all_split=aapb_metadata_all_split.append(table,ignore_index=True)"
   ]
  },
  {
   "cell_type": "code",
   "execution_count": 11,
   "metadata": {},
   "outputs": [
    {
     "name": "stdout",
     "output_type": "stream",
     "text": [
      "42407.0\n",
      "42358.0\n"
     ]
    }
   ],
   "source": [
    "\n",
    "print(np.sum(list(aapb_metadata_all[aapb_metadata_all['Value']==\"King, Martin Luther\"]['Tag Duration'])))\n",
    "\n",
    "print(np.sum(list(aapb_metadata_all_split[aapb_metadata_all_split['Value']==\"King, Martin Luther\"]['Tag Duration'])))\n"
   ]
  },
  {
   "cell_type": "code",
   "execution_count": 12,
   "metadata": {},
   "outputs": [
    {
     "name": "stdout",
     "output_type": "stream",
     "text": [
      "95\n",
      "21179\n"
     ]
    }
   ],
   "source": [
    "print(len(list(aapb_metadata_all[aapb_metadata_all['Value']==\"King, Martin Luther\"]['Filename'])))\n",
    "print(len(list(aapb_metadata_all_split[aapb_metadata_all_split['Value']==\"King, Martin Luther\"]['Filename'])))"
   ]
  },
  {
   "cell_type": "code",
   "execution_count": null,
   "metadata": {},
   "outputs": [],
   "source": []
  },
  {
   "cell_type": "code",
   "execution_count": 13,
   "metadata": {},
   "outputs": [
    {
     "data": {
      "text/html": [
       "<div>\n",
       "<table border=\"1\" class=\"dataframe\">\n",
       "  <thead>\n",
       "    <tr style=\"text-align: right;\">\n",
       "      <th></th>\n",
       "      <th>AAPB Unique Identifier (GUID)</th>\n",
       "      <th>Type</th>\n",
       "      <th>Value</th>\n",
       "      <th>class ID</th>\n",
       "      <th>Timecode IN</th>\n",
       "      <th>Timecode OUT</th>\n",
       "      <th>Tag Duration</th>\n",
       "      <th>File Duration</th>\n",
       "      <th>SonyCi ID</th>\n",
       "      <th>Filename</th>\n",
       "      <th>Pathname</th>\n",
       "    </tr>\n",
       "  </thead>\n",
       "  <tbody>\n",
       "    <tr>\n",
       "      <th>0</th>\n",
       "      <td>cpb-aacip/28-td9n29pp9j</td>\n",
       "      <td>Significant speaker voice</td>\n",
       "      <td>Baldwin, James</td>\n",
       "      <td>NaN</td>\n",
       "      <td>32.0</td>\n",
       "      <td>34.0</td>\n",
       "      <td>2.0</td>\n",
       "      <td>1605.408</td>\n",
       "      <td>f965cf9612054347aabe2cbdf87cd487</td>\n",
       "      <td>cpb-aacip-28-td9n29pp9j__PRA_AAPP_BC0642_James...</td>\n",
       "      <td>/Volumes/McLaughlin-6TB-1/Extended_Corpus/Mart...</td>\n",
       "    </tr>\n",
       "    <tr>\n",
       "      <th>1</th>\n",
       "      <td>cpb-aacip/28-td9n29pp9j</td>\n",
       "      <td>Significant speaker voice</td>\n",
       "      <td>Baldwin, James</td>\n",
       "      <td>NaN</td>\n",
       "      <td>34.0</td>\n",
       "      <td>36.0</td>\n",
       "      <td>2.0</td>\n",
       "      <td>1605.408</td>\n",
       "      <td>f965cf9612054347aabe2cbdf87cd487</td>\n",
       "      <td>cpb-aacip-28-td9n29pp9j__PRA_AAPP_BC0642_James...</td>\n",
       "      <td>/Volumes/McLaughlin-6TB-1/Extended_Corpus/Mart...</td>\n",
       "    </tr>\n",
       "    <tr>\n",
       "      <th>2</th>\n",
       "      <td>cpb-aacip/28-td9n29pp9j</td>\n",
       "      <td>Significant speaker voice</td>\n",
       "      <td>Baldwin, James</td>\n",
       "      <td>NaN</td>\n",
       "      <td>36.0</td>\n",
       "      <td>38.0</td>\n",
       "      <td>2.0</td>\n",
       "      <td>1605.408</td>\n",
       "      <td>f965cf9612054347aabe2cbdf87cd487</td>\n",
       "      <td>cpb-aacip-28-td9n29pp9j__PRA_AAPP_BC0642_James...</td>\n",
       "      <td>/Volumes/McLaughlin-6TB-1/Extended_Corpus/Mart...</td>\n",
       "    </tr>\n",
       "  </tbody>\n",
       "</table>\n",
       "</div>"
      ],
      "text/plain": [
       "  AAPB Unique Identifier (GUID)                       Type           Value  \\\n",
       "0       cpb-aacip/28-td9n29pp9j  Significant speaker voice  Baldwin, James   \n",
       "1       cpb-aacip/28-td9n29pp9j  Significant speaker voice  Baldwin, James   \n",
       "2       cpb-aacip/28-td9n29pp9j  Significant speaker voice  Baldwin, James   \n",
       "\n",
       "  class ID  Timecode IN  Timecode OUT  Tag Duration  File Duration  \\\n",
       "0      NaN         32.0          34.0           2.0       1605.408   \n",
       "1      NaN         34.0          36.0           2.0       1605.408   \n",
       "2      NaN         36.0          38.0           2.0       1605.408   \n",
       "\n",
       "                          SonyCi ID  \\\n",
       "0  f965cf9612054347aabe2cbdf87cd487   \n",
       "1  f965cf9612054347aabe2cbdf87cd487   \n",
       "2  f965cf9612054347aabe2cbdf87cd487   \n",
       "\n",
       "                                            Filename  \\\n",
       "0  cpb-aacip-28-td9n29pp9j__PRA_AAPP_BC0642_James...   \n",
       "1  cpb-aacip-28-td9n29pp9j__PRA_AAPP_BC0642_James...   \n",
       "2  cpb-aacip-28-td9n29pp9j__PRA_AAPP_BC0642_James...   \n",
       "\n",
       "                                            Pathname  \n",
       "0  /Volumes/McLaughlin-6TB-1/Extended_Corpus/Mart...  \n",
       "1  /Volumes/McLaughlin-6TB-1/Extended_Corpus/Mart...  \n",
       "2  /Volumes/McLaughlin-6TB-1/Extended_Corpus/Mart...  "
      ]
     },
     "execution_count": 13,
     "metadata": {},
     "output_type": "execute_result"
    }
   ],
   "source": [
    "aapb_metadata_all_split.head(3)"
   ]
  },
  {
   "cell_type": "code",
   "execution_count": 17,
   "metadata": {},
   "outputs": [
    {
     "data": {
      "text/html": [
       "<div>\n",
       "<table border=\"1\" class=\"dataframe\">\n",
       "  <thead>\n",
       "    <tr style=\"text-align: right;\">\n",
       "      <th></th>\n",
       "      <th>AAPB Unique Identifier (GUID)</th>\n",
       "      <th>Type</th>\n",
       "      <th>Value</th>\n",
       "      <th>class ID</th>\n",
       "      <th>Timecode IN</th>\n",
       "      <th>Timecode OUT</th>\n",
       "      <th>Tag Duration</th>\n",
       "      <th>File Duration</th>\n",
       "      <th>SonyCi ID</th>\n",
       "      <th>Filename</th>\n",
       "      <th>Pathname</th>\n",
       "    </tr>\n",
       "  </thead>\n",
       "  <tbody>\n",
       "    <tr>\n",
       "      <th>127421</th>\n",
       "      <td>cpb-aacip/15-04dncrzg</td>\n",
       "      <td>Significant speaker voice</td>\n",
       "      <td>Reagan, Ronald</td>\n",
       "      <td>NaN</td>\n",
       "      <td>188.00</td>\n",
       "      <td>190.00</td>\n",
       "      <td>2.0</td>\n",
       "      <td>2777.760</td>\n",
       "      <td>ed6bff6cce104b79a41bf1097cb42423</td>\n",
       "      <td>cpb-aacip-15-04dncrzg</td>\n",
       "      <td>/Volumes/McLaughlin-6TB-1/Extended_Corpus/Rona...</td>\n",
       "    </tr>\n",
       "    <tr>\n",
       "      <th>3565</th>\n",
       "      <td>cpb-aacip/15-687h4jgd</td>\n",
       "      <td>Significant speaker voice</td>\n",
       "      <td>Baldwin, James</td>\n",
       "      <td>NaN</td>\n",
       "      <td>843.00</td>\n",
       "      <td>845.00</td>\n",
       "      <td>2.0</td>\n",
       "      <td>3588.120</td>\n",
       "      <td>995bcf24bb85481694753c567d021f58</td>\n",
       "      <td>cpb-aacip-15-687h4jgd</td>\n",
       "      <td>/Volumes/McLaughlin-6TB-1/Extended_Corpus/Jame...</td>\n",
       "    </tr>\n",
       "    <tr>\n",
       "      <th>110203</th>\n",
       "      <td>NaN</td>\n",
       "      <td>NaN</td>\n",
       "      <td>Nixon, Richard</td>\n",
       "      <td>RIchard Nixon</td>\n",
       "      <td>1289.95</td>\n",
       "      <td>1291.95</td>\n",
       "      <td>2.0</td>\n",
       "      <td>1790.592</td>\n",
       "      <td>NaN</td>\n",
       "      <td>cpb-aacip-15-569329x3</td>\n",
       "      <td>/Volumes/McLaughlin-6TB-1/Extended_Corpus/Rich...</td>\n",
       "    </tr>\n",
       "  </tbody>\n",
       "</table>\n",
       "</div>"
      ],
      "text/plain": [
       "       AAPB Unique Identifier (GUID)                       Type  \\\n",
       "127421         cpb-aacip/15-04dncrzg  Significant speaker voice   \n",
       "3565           cpb-aacip/15-687h4jgd  Significant speaker voice   \n",
       "110203                           NaN                        NaN   \n",
       "\n",
       "                 Value       class ID  Timecode IN  Timecode OUT  \\\n",
       "127421  Reagan, Ronald            NaN       188.00        190.00   \n",
       "3565    Baldwin, James            NaN       843.00        845.00   \n",
       "110203  Nixon, Richard  RIchard Nixon      1289.95       1291.95   \n",
       "\n",
       "        Tag Duration  File Duration                         SonyCi ID  \\\n",
       "127421           2.0       2777.760  ed6bff6cce104b79a41bf1097cb42423   \n",
       "3565             2.0       3588.120  995bcf24bb85481694753c567d021f58   \n",
       "110203           2.0       1790.592                               NaN   \n",
       "\n",
       "                     Filename  \\\n",
       "127421  cpb-aacip-15-04dncrzg   \n",
       "3565    cpb-aacip-15-687h4jgd   \n",
       "110203  cpb-aacip-15-569329x3   \n",
       "\n",
       "                                                 Pathname  \n",
       "127421  /Volumes/McLaughlin-6TB-1/Extended_Corpus/Rona...  \n",
       "3565    /Volumes/McLaughlin-6TB-1/Extended_Corpus/Jame...  \n",
       "110203  /Volumes/McLaughlin-6TB-1/Extended_Corpus/Rich...  "
      ]
     },
     "execution_count": 17,
     "metadata": {},
     "output_type": "execute_result"
    }
   ],
   "source": [
    "aapb_metadata_all_split.sample(n=3)"
   ]
  },
  {
   "cell_type": "code",
   "execution_count": 18,
   "metadata": {
    "collapsed": true
   },
   "outputs": [],
   "source": [
    "##writing csv\n",
    "aapb_metadata_all_split.to_csv('AAPB_ARLO_All_170414_2_sec_segs.csv',index=False)"
   ]
  },
  {
   "cell_type": "code",
   "execution_count": null,
   "metadata": {},
   "outputs": [],
   "source": [
    "!pwd"
   ]
  },
  {
   "cell_type": "code",
   "execution_count": null,
   "metadata": {},
   "outputs": [],
   "source": [
    "row=aapb_metadata_all_split.iloc[9]\n",
    "row[\"Pathname\"]"
   ]
  },
  {
   "cell_type": "code",
   "execution_count": null,
   "metadata": {
    "collapsed": true
   },
   "outputs": [],
   "source": [
    "os.chdir('/Volumes/McLaughlin-6TB-1/Dropbox/aapb-hipstas/Model_training_clips')"
   ]
  },
  {
   "cell_type": "code",
   "execution_count": null,
   "metadata": {
    "collapsed": true
   },
   "outputs": [],
   "source": []
  },
  {
   "cell_type": "code",
   "execution_count": null,
   "metadata": {
    "collapsed": true
   },
   "outputs": [],
   "source": [
    "\n",
    "def extract_clips(x_table):\n",
    "    for unique_audio_path in sorted(list(set(list(x_table['Pathname'])))):\n",
    "        inputfile=unique_audio_path\n",
    "        if os.path.exists(inputfile):\n",
    "            if inputfile.lower()[-4:].lower() in ('.wav','.mp3','.mp4'):\n",
    "                wav_source=True\n",
    "                if inputfile.lower()[-4:]=='.mp4':     # Creates a temporary WAV\n",
    "                    wav_source=False                         # if input is MP4\n",
    "                    temp_filename=inputfile.split('/')[-1]+'_temp.wav'\n",
    "                    audio_path='/var/tmp/'+temp_filename   # Pathname for temp WAV\n",
    "                    subprocess.call(['ffmpeg', '-y', '-i', inputfile, audio_path]) # '-y' option overwrites existing file if present\n",
    "                else:\n",
    "                    audio_path=inputfile\n",
    "\n",
    "                song=None\n",
    "                from pydub import AudioSegment\n",
    "                \n",
    "                if inputfile[-4:].lower()=='.mp3':\n",
    "                    song = AudioSegment.from_mp3(audio_path)\n",
    "                else:\n",
    "                    song = AudioSegment.from_wav(audio_path)\n",
    "\n",
    "\n",
    "        for index, rowref in x_table[x_table['Pathname']==unique_audio_path].iterrows():\n",
    "            row=aapb_metadata_all_split.iloc[index] ## Ref to master split table\n",
    "            time_in=row['Timecode IN']\n",
    "            clip_duration=row['Tag Duration']\n",
    "            inputfile=row['Pathname']\n",
    "            basename=row['Filename']\n",
    "            dir_name=row['Value']\n",
    "            \n",
    "            try: os.mkdir(dir_name)\n",
    "            except: pass\n",
    "\n",
    "        \n",
    "            from pydub import AudioSegment \n",
    "            start_msec = float(time_in) * 1000.0\n",
    "            duration_msec = float(clip_duration) * 1000\n",
    "            clip_pathname=basename+'.start_'+str(time_in)[:8]+'.dur_2s.wav'\n",
    "            if not os.path.exists(os.path.join(dir_name,clip_pathname)):\n",
    "                clip_data = song[start_msec:start_msec+duration_msec]\n",
    "                clip_data=clip_data.set_channels(1)\n",
    "                clip_data.export(os.path.join(dir_name,clip_pathname), format=\"wav\")\n",
    "\n",
    "        try:\n",
    "            if wav_source==False:\n",
    "                os.remove(audio_path)\n",
    "        except: pass\n",
    "\n",
    "    print(\"*** All segments extracted! ***\")\n",
    "\n"
   ]
  },
  {
   "cell_type": "code",
   "execution_count": null,
   "metadata": {},
   "outputs": [],
   "source": [
    "##### Running the Random Clip Extractor #####\n",
    "\n",
    "name=\"Baldwin, James\"\n",
    "num_clips=846     ## number of 2-second clips desired\n",
    "print(len(aapb_metadata_all_split[aapb_metadata_all_split['Value']==name]))\n",
    "\n",
    "\n",
    "x_table=aapb_metadata_all_split[aapb_metadata_all_split['Value']==name].sample(n=num_clips)\n",
    "\n",
    "extract_clips(x_table)\n",
    "\n"
   ]
  },
  {
   "cell_type": "code",
   "execution_count": null,
   "metadata": {},
   "outputs": [],
   "source": []
  },
  {
   "cell_type": "code",
   "execution_count": null,
   "metadata": {
    "collapsed": true
   },
   "outputs": [],
   "source": [
    "#extract_clips(x_table)"
   ]
  },
  {
   "cell_type": "code",
   "execution_count": null,
   "metadata": {
    "collapsed": true
   },
   "outputs": [],
   "source": [
    "# Get files not included\n",
    "\n",
    "subset_paths=set(list(x_table[\"Pathname\"]))\n",
    "all_paths=set(list(aapb_metadata_all_split[aapb_metadata_all_split['Value']==name][\"Pathname\"]))\n",
    "list(all_paths-subset_paths)"
   ]
  },
  {
   "cell_type": "code",
   "execution_count": null,
   "metadata": {
    "collapsed": true
   },
   "outputs": [],
   "source": []
  },
  {
   "cell_type": "code",
   "execution_count": null,
   "metadata": {
    "collapsed": true
   },
   "outputs": [],
   "source": []
  },
  {
   "cell_type": "code",
   "execution_count": null,
   "metadata": {
    "collapsed": true
   },
   "outputs": [],
   "source": []
  },
  {
   "cell_type": "code",
   "execution_count": null,
   "metadata": {
    "collapsed": true
   },
   "outputs": [],
   "source": []
  },
  {
   "cell_type": "code",
   "execution_count": null,
   "metadata": {},
   "outputs": [],
   "source": [
    "## Loading table of labeled 2-second audio segments\n",
    "\n",
    "aapb_metadata_all_split_1=pd.read_csv(\"/Volumes/McLaughlin-6TB-1/Dropbox/aapb-hipstas/AAPB_ARLO_All_170414_2_sec_segs.csv\")\n",
    "aapb_metadata_all_split_1.tail(1)\n",
    "\n",
    "len(list(aapb_metadata_all_split_1[aapb_metadata_all_split_1['Value']==\"King, Martin Luther\"]['Filename']))"
   ]
  },
  {
   "cell_type": "code",
   "execution_count": null,
   "metadata": {},
   "outputs": [],
   "source": [
    "\n",
    "## Loading table of labeled 2-second audio segments\n",
    "\n",
    "aapb_metadata_all_0=pd.read_csv(\"/Volumes/McLaughlin-6TB-1/Dropbox/aapb-hipstas/AAPB_ARLO_All_170412.csv\")\n",
    "aapb_metadata_all_0.tail(1)\n",
    "\n",
    "len(list(aapb_metadata_all_0[aapb_metadata_all_0['Value']==\"King, Martin Luther\"]['Filename']))"
   ]
  },
  {
   "cell_type": "code",
   "execution_count": null,
   "metadata": {},
   "outputs": [],
   "source": [
    "\n",
    "\n",
    "len(list(aapb_metadata_all_split[aapb_metadata_all_split['Value']==\"King, Martin Luther\"]['Filename']))\n",
    "\n",
    "\n",
    "\n",
    "np.sum(list(aapb_metadata_all_split[aapb_metadata_all_split['Value']==\"King, Martin Luther\"]['Tag Duration']))"
   ]
  },
  {
   "cell_type": "code",
   "execution_count": null,
   "metadata": {},
   "outputs": [],
   "source": [
    "\n",
    "\n",
    "len(list(aapb_metadata_all[aapb_metadata_all['Value']==\"King, Martin Luther\"]['Filename']))\n",
    "\n",
    "\n",
    "\n",
    "np.sum(list(aapb_metadata_all[aapb_metadata_all['Value']==\"King, Martin Luther\"]['Tag Duration']))"
   ]
  },
  {
   "cell_type": "code",
   "execution_count": null,
   "metadata": {
    "collapsed": true
   },
   "outputs": [],
   "source": []
  }
 ],
 "metadata": {
  "kernelspec": {
   "display_name": "Python 3",
   "language": "python",
   "name": "python3"
  },
  "language_info": {
   "codemirror_mode": {
    "name": "ipython",
    "version": 3
   },
   "file_extension": ".py",
   "mimetype": "text/x-python",
   "name": "python",
   "nbconvert_exporter": "python",
   "pygments_lexer": "ipython3",
   "version": "3.6.0"
  }
 },
 "nbformat": 4,
 "nbformat_minor": 2
}
