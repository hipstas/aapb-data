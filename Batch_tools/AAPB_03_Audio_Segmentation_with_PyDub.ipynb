{
 "cells": [
  {
   "cell_type": "code",
   "execution_count": 1,
   "metadata": {
    "collapsed": true
   },
   "outputs": [],
   "source": [
    "from pydub import AudioSegment\n",
    "import time, datetime\n",
    "import pandas as pd\n",
    "#import xlrd         # for importing Excel spreadsheets\n",
    "import numpy as np\n",
    "import os\n",
    "from IPython.display import display, Audio"
   ]
  },
  {
   "cell_type": "code",
   "execution_count": 2,
   "metadata": {},
   "outputs": [
    {
     "name": "stdout",
     "output_type": "stream",
     "text": [
      "--2016-10-21 00:49:02--  http://www.stephenmclaughlin.net/hipstas/wgbh_temp/cpb-aacip-15-24jm6d99.mp3\n",
      "Resolving www.stephenmclaughlin.net... 208.113.163.135\n",
      "Connecting to www.stephenmclaughlin.net|208.113.163.135|:80... connected.\n",
      "HTTP request sent, awaiting response... 200 OK\n",
      "Length: 42599065 (41M) [audio/mpeg]\n",
      "Saving to: 'cpb-aacip-15-24jm6d99.mp3.4'\n",
      "\n",
      "cpb-aacip-15-24jm6d 100%[===================>]  40.62M  3.31MB/s    in 11s     \n",
      "\n",
      "2016-10-21 00:49:13 (3.84 MB/s) - 'cpb-aacip-15-24jm6d99.mp3.4' saved [42599065/42599065]\n",
      "\n"
     ]
    }
   ],
   "source": [
    "os.chdir(\"/Users/mclaugh/Desktop/home/\")\n",
    "\n",
    "!wget http://www.stephenmclaughlin.net/hipstas/wgbh_temp/cpb-aacip-15-24jm6d99.mp3"
   ]
  },
  {
   "cell_type": "code",
   "execution_count": 3,
   "metadata": {},
   "outputs": [
    {
     "data": {
      "text/html": [
       "<div>\n",
       "<table border=\"1\" class=\"dataframe\">\n",
       "  <thead>\n",
       "    <tr style=\"text-align: right;\">\n",
       "      <th></th>\n",
       "      <th>AAPB Unique Identifier (GUID)</th>\n",
       "      <th>Type</th>\n",
       "      <th>Value</th>\n",
       "      <th>Timecode IN</th>\n",
       "      <th>Timecode OUT</th>\n",
       "      <th>Duration</th>\n",
       "      <th>dur_hh</th>\n",
       "      <th>dur_mm</th>\n",
       "      <th>dur_ss</th>\n",
       "      <th>seq_duration_SS</th>\n",
       "      <th>seq_duration_hh_mm_ss</th>\n",
       "      <th>SonyCi ID</th>\n",
       "      <th>Filename</th>\n",
       "    </tr>\n",
       "  </thead>\n",
       "  <tbody>\n",
       "    <tr>\n",
       "      <th>0</th>\n",
       "      <td>cpb-aacip/500-j9609t48</td>\n",
       "      <td>Significant speaker voice</td>\n",
       "      <td>Kennedy, John F.</td>\n",
       "      <td>00:00:05</td>\n",
       "      <td>00:01:50</td>\n",
       "      <td>00:28:40</td>\n",
       "      <td>0.0</td>\n",
       "      <td>28.0</td>\n",
       "      <td>40.0</td>\n",
       "      <td>1720</td>\n",
       "      <td>00:28:40</td>\n",
       "      <td>6d54987efa73413cb3558c95baa907a6</td>\n",
       "      <td>cpb-aacip-500-j9609t48.mp3</td>\n",
       "    </tr>\n",
       "    <tr>\n",
       "      <th>1</th>\n",
       "      <td>cpb-aacip/500-j9609t48</td>\n",
       "      <td>Sound quality</td>\n",
       "      <td>audience clapping</td>\n",
       "      <td>00:02:11</td>\n",
       "      <td>00:02:20</td>\n",
       "      <td>NaN</td>\n",
       "      <td>NaN</td>\n",
       "      <td>NaN</td>\n",
       "      <td>NaN</td>\n",
       "      <td>1720</td>\n",
       "      <td>00:28:40</td>\n",
       "      <td>6d54987efa73413cb3558c95baa907a6</td>\n",
       "      <td>cpb-aacip-500-j9609t48.mp3</td>\n",
       "    </tr>\n",
       "    <tr>\n",
       "      <th>2</th>\n",
       "      <td>cpb-aacip/500-j9609t48</td>\n",
       "      <td>Significant speaker voice</td>\n",
       "      <td>Kennedy, John F.</td>\n",
       "      <td>00:01:59</td>\n",
       "      <td>00:04:14</td>\n",
       "      <td>NaN</td>\n",
       "      <td>NaN</td>\n",
       "      <td>NaN</td>\n",
       "      <td>NaN</td>\n",
       "      <td>1720</td>\n",
       "      <td>00:28:40</td>\n",
       "      <td>6d54987efa73413cb3558c95baa907a6</td>\n",
       "      <td>cpb-aacip-500-j9609t48.mp3</td>\n",
       "    </tr>\n",
       "    <tr>\n",
       "      <th>3</th>\n",
       "      <td>cpb-aacip/500-j9609t48</td>\n",
       "      <td>Sound quality</td>\n",
       "      <td>audience clapping</td>\n",
       "      <td>00:04:15</td>\n",
       "      <td>00:04:22</td>\n",
       "      <td>NaN</td>\n",
       "      <td>NaN</td>\n",
       "      <td>NaN</td>\n",
       "      <td>NaN</td>\n",
       "      <td>1720</td>\n",
       "      <td>00:28:40</td>\n",
       "      <td>6d54987efa73413cb3558c95baa907a6</td>\n",
       "      <td>cpb-aacip-500-j9609t48.mp3</td>\n",
       "    </tr>\n",
       "    <tr>\n",
       "      <th>4</th>\n",
       "      <td>cpb-aacip/500-ff3m1h34</td>\n",
       "      <td>Significant speaker voice</td>\n",
       "      <td>Kennedy, John F.</td>\n",
       "      <td>00:05:58</td>\n",
       "      <td>00:07:16</td>\n",
       "      <td>00:29:47</td>\n",
       "      <td>0.0</td>\n",
       "      <td>29.0</td>\n",
       "      <td>47.0</td>\n",
       "      <td>3507</td>\n",
       "      <td>00:58:27</td>\n",
       "      <td>d440faa5f295427c962e6edc4d0031a8</td>\n",
       "      <td>cpb-aacip-500-ff3m1h34.mp3</td>\n",
       "    </tr>\n",
       "  </tbody>\n",
       "</table>\n",
       "</div>"
      ],
      "text/plain": [
       "  AAPB Unique Identifier (GUID)                       Type              Value  \\\n",
       "0        cpb-aacip/500-j9609t48  Significant speaker voice   Kennedy, John F.   \n",
       "1        cpb-aacip/500-j9609t48              Sound quality  audience clapping   \n",
       "2        cpb-aacip/500-j9609t48  Significant speaker voice   Kennedy, John F.   \n",
       "3        cpb-aacip/500-j9609t48              Sound quality  audience clapping   \n",
       "4        cpb-aacip/500-ff3m1h34  Significant speaker voice   Kennedy, John F.   \n",
       "\n",
       "  Timecode IN Timecode OUT  Duration  dur_hh  dur_mm  dur_ss  seq_duration_SS  \\\n",
       "0    00:00:05     00:01:50  00:28:40     0.0    28.0    40.0             1720   \n",
       "1    00:02:11     00:02:20       NaN     NaN     NaN     NaN             1720   \n",
       "2    00:01:59     00:04:14       NaN     NaN     NaN     NaN             1720   \n",
       "3    00:04:15     00:04:22       NaN     NaN     NaN     NaN             1720   \n",
       "4    00:05:58     00:07:16  00:29:47     0.0    29.0    47.0             3507   \n",
       "\n",
       "  seq_duration_hh_mm_ss                         SonyCi ID  \\\n",
       "0              00:28:40  6d54987efa73413cb3558c95baa907a6   \n",
       "1              00:28:40  6d54987efa73413cb3558c95baa907a6   \n",
       "2              00:28:40  6d54987efa73413cb3558c95baa907a6   \n",
       "3              00:28:40  6d54987efa73413cb3558c95baa907a6   \n",
       "4              00:58:27  d440faa5f295427c962e6edc4d0031a8   \n",
       "\n",
       "                     Filename  \n",
       "0  cpb-aacip-500-j9609t48.mp3  \n",
       "1  cpb-aacip-500-j9609t48.mp3  \n",
       "2  cpb-aacip-500-j9609t48.mp3  \n",
       "3  cpb-aacip-500-j9609t48.mp3  \n",
       "4  cpb-aacip-500-ff3m1h34.mp3  "
      ]
     },
     "execution_count": 3,
     "metadata": {},
     "output_type": "execute_result"
    }
   ],
   "source": [
    "tag_data = pd.read_csv(\"audio-ml-demo-code/Metadata/AAPB_ARLO_400hrs_161007.csv\")\n",
    "\n",
    "tag_data.head()"
   ]
  },
  {
   "cell_type": "code",
   "execution_count": 4,
   "metadata": {},
   "outputs": [],
   "source": [
    "# Picking an arbitrary row (which we already downloaded above)\n",
    "    \n",
    "row=tag_data.iloc[555]\n"
   ]
  },
  {
   "cell_type": "code",
   "execution_count": 5,
   "metadata": {},
   "outputs": [
    {
     "name": "stdout",
     "output_type": "stream",
     "text": [
      "40.9582481384 seconds\n"
     ]
    }
   ],
   "source": [
    "## Loading mp3 audio, with timer\n",
    "\n",
    "import time\n",
    "start_time = time.time()\n",
    "\n",
    "\n",
    "song = AudioSegment.from_mp3(row['Filename'])\n",
    "\n",
    "\n",
    "print(\"%s\" % (time.time() - start_time)+\" seconds\")"
   ]
  },
  {
   "cell_type": "code",
   "execution_count": 6,
   "metadata": {},
   "outputs": [
    {
     "name": "stdout",
     "output_type": "stream",
     "text": [
      "6\n",
      "3099\n"
     ]
    }
   ],
   "source": [
    "start = row['Timecode IN']\n",
    "\n",
    "end = row['Timecode OUT']\n",
    "\n",
    "a = time.strptime(start, \"%H:%M:%S\")\n",
    "\n",
    "b = time.strptime(end, \"%H:%M:%S\")\n",
    "\n",
    "start_sec = (60**2 * a.tm_hour) + (60 * a.tm_min) + a.tm_sec\n",
    "\n",
    "end_sec = (60**2 * b.tm_hour) + (60 * b.tm_min) + b.tm_sec\n",
    "\n",
    "print start_sec\n",
    "print end_sec"
   ]
  },
  {
   "cell_type": "code",
   "execution_count": 7,
   "metadata": {},
   "outputs": [],
   "source": [
    "clip_length_sec = end_sec-start_sec\n",
    "\n",
    "clip_length_msec = clip_length_sec * 1000\n",
    "\n",
    "start_pos_sec = start_sec\n",
    "\n",
    "start_pos_msec = start_pos_sec * 1000.0\n",
    "            \n",
    "clip_data = song[start_pos_msec:start_pos_msec+clip_length_msec] # Slice notation with brackets\n",
    "                                                                 # excerpts from AudioSegment \n",
    "                                                                 # object, with millisecond \n",
    "                                                                 # integers as indices"
   ]
  },
  {
   "cell_type": "code",
   "execution_count": 8,
   "metadata": {},
   "outputs": [
    {
     "name": "stdout",
     "output_type": "stream",
     "text": [
      "King, Martin Luther\n"
     ]
    }
   ],
   "source": [
    "print row['Value']"
   ]
  },
  {
   "cell_type": "code",
   "execution_count": null,
   "metadata": {},
   "outputs": [],
   "source": []
  },
  {
   "cell_type": "code",
   "execution_count": 9,
   "metadata": {},
   "outputs": [
    {
     "name": "stdout",
     "output_type": "stream",
     "text": [
      "5.2020740509 seconds\n"
     ]
    }
   ],
   "source": [
    "## Generate a filename and export audio to WAV file, with timer\n",
    "\n",
    "start_time = time.time()\n",
    "\n",
    "\n",
    "clip_filename=row['Value']+\"_\"+str(start_pos_sec)+\"_\"+str(clip_length_sec)+\"s_\"+row['Filename'].replace(\".mp4\",\".wav\").replace(\".mp3\",\".wav\")\n",
    "\n",
    "clip_data.export(clip_filename, format=\"wav\", parameters=[\"-ar 44100\", \"-acodec pcm_s16le\"])\n",
    "\n",
    "\n",
    "print(\"%s\" % (time.time() - start_time)+\" seconds\")\n"
   ]
  },
  {
   "cell_type": "code",
   "execution_count": null,
   "metadata": {},
   "outputs": [],
   "source": []
  },
  {
   "cell_type": "code",
   "execution_count": 10,
   "metadata": {},
   "outputs": [],
   "source": [
    "## Play audio in browser (fairly slow)\n",
    "#display(Audio(data = clip_filename, rate = 44100))"
   ]
  },
  {
   "cell_type": "code",
   "execution_count": null,
   "metadata": {},
   "outputs": [],
   "source": []
  },
  {
   "cell_type": "code",
   "execution_count": 11,
   "metadata": {
    "collapsed": true
   },
   "outputs": [],
   "source": [
    "# Tying it all together\n",
    "\n",
    "## Passed a row of tag metadata, this function extracts the corresponding audio and writes\n",
    "## a WAV file.\n",
    "\n",
    "def create_tag_excerpt(row):\n",
    "    try:\n",
    "        song = AudioSegment.from_mp3(row['Filename'])\n",
    "    except:\n",
    "        print \"ERROR: \"+row['Filename']+\" can't be found.\"\n",
    "\n",
    "    start = row['Timecode IN']\n",
    "    end = row['Timecode OUT']\n",
    "\n",
    "    a = time.strptime(start, \"%H:%M:%S\")\n",
    "    b = time.strptime(end, \"%H:%M:%S\")\n",
    "\n",
    "    start_sec = (60**2 * a.tm_hour) + (60 * a.tm_min) + a.tm_sec\n",
    "    end_sec = (60**2 * b.tm_hour) + (60 * b.tm_min) + b.tm_sec\n",
    "\n",
    "    clip_length_sec = end_sec-start_sec\n",
    "    clip_length_msec = clip_length_sec * 1000\n",
    "    start_pos_sec = start_sec\n",
    "    start_pos_msec = start_pos_sec * 1000.0      \n",
    "    clip_data = song[start_pos_msec:start_pos_msec+clip_length_msec]\n",
    "\n",
    "    clip_filename=row['Value']+\"_\"+str(start_pos_sec)+\"_\"+str(clip_length_sec)+\"s_\"+row['Filename'].replace(\".mp3\",\"\")+\".wav\"\n",
    "    clip_data=clip_data.set_channels(1)\n",
    "    clip_data.export(clip_filename, format=\"wav\", parameters=[\"-ar 44100\", \"-acodec pcm_s16le\"])\n",
    "\n",
    "\n"
   ]
  },
  {
   "cell_type": "code",
   "execution_count": 12,
   "metadata": {},
   "outputs": [
    {
     "name": "stdout",
     "output_type": "stream",
     "text": [
      "74.8138010502 seconds\n"
     ]
    }
   ],
   "source": [
    "## Test on a single file, with timer\n",
    "\n",
    "start_time = time.time()\n",
    "\n",
    "\n",
    "tag_data = pd.read_csv(\"audio-ml-demo-code/Metadata/AAPB_ARLO_400hrs_161007.csv\")\n",
    "\n",
    "os.chdir(\"/Users/mclaugh/Desktop/home/\")\n",
    "\n",
    "## Running our function on a file in the pandas dataframe 'tag_data'\n",
    "\n",
    "create_tag_excerpt(tag_data.iloc[555])\n",
    "\n",
    "\n",
    "print(\"%s\" % (time.time() - start_time)+\" seconds\")\n"
   ]
  },
  {
   "cell_type": "code",
   "execution_count": null,
   "metadata": {
    "collapsed": true
   },
   "outputs": [],
   "source": []
  },
  {
   "cell_type": "code",
   "execution_count": null,
   "metadata": {},
   "outputs": [],
   "source": [
    "## Extracts tagged segments from every mp3 file in the current directory and converts to WAV\n",
    "\n",
    "tag_data = pd.read_csv(\"/Users/mclaugh/Desktop/home/AAPB_ARLO_400hrs.csv\")\n",
    "\n",
    "os.chdir(\"/Users/mclaugh/Desktop/WGBH_Files/\")\n",
    "\n",
    "for i in range(len(tag_data)):\n",
    "    row = tag_data.iloc[i]\n",
    "    try: \n",
    "        if \".mp3\" in row['Filename']:\n",
    "            create_tag_excerpt(row)\n",
    "    except: print row"
   ]
  },
  {
   "cell_type": "code",
   "execution_count": null,
   "metadata": {},
   "outputs": [],
   "source": []
  },
  {
   "cell_type": "code",
   "execution_count": null,
   "metadata": {
    "collapsed": true
   },
   "outputs": [],
   "source": []
  }
 ],
 "metadata": {
  "kernelspec": {
   "display_name": "Python 2",
   "language": "python",
   "name": "python2"
  },
  "language_info": {
   "codemirror_mode": {
    "name": "ipython",
    "version": 2
   },
   "file_extension": ".py",
   "mimetype": "text/x-python",
   "name": "python",
   "nbconvert_exporter": "python",
   "pygments_lexer": "ipython2",
   "version": "2.7.12"
  }
 },
 "nbformat": 4,
 "nbformat_minor": 1
}
