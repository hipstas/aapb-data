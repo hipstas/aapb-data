{
 "cells": [
  {
   "cell_type": "code",
   "execution_count": 15,
   "metadata": {
    "collapsed": true
   },
   "outputs": [],
   "source": [
    "from pyAudioAnalysis import audioFeatureExtraction as aF\n",
    "from pyAudioAnalysis import audioTrainTest as aT\n",
    "from pyAudioAnalysis import audioBasicIO"
   ]
  },
  {
   "cell_type": "code",
   "execution_count": null,
   "metadata": {
    "collapsed": true
   },
   "outputs": [],
   "source": []
  },
  {
   "cell_type": "code",
   "execution_count": 26,
   "metadata": {},
   "outputs": [
    {
     "data": {
      "text/plain": [
       "0.05"
      ]
     },
     "execution_count": 26,
     "metadata": {},
     "output_type": "execute_result"
    }
   ],
   "source": [
    "modelName=\"/Volumes/McLaughlin-6TB-1/Dropbox/aapb-hipstas/Model_training_clips/svm_King_UBM_900x2s\"\n",
    "\n",
    "[Classifier, MEAN, STD, classNames, mtWin, mtStep, stWin, stStep, computeBEAT] = aT.loadSVModel(modelName)\n",
    "\n",
    "stStep"
   ]
  },
  {
   "cell_type": "code",
   "execution_count": null,
   "metadata": {
    "collapsed": true
   },
   "outputs": [],
   "source": []
  },
  {
   "cell_type": "code",
   "execution_count": 27,
   "metadata": {},
   "outputs": [
    {
     "ename": "IndexError",
     "evalue": "index -9223372036854775808 is out of bounds for axis 1 with size 6400000",
     "output_type": "error",
     "traceback": [
      "\u001b[0;31m---------------------------------------------------------------------------\u001b[0m",
      "\u001b[0;31mIndexError\u001b[0m                                Traceback (most recent call last)",
      "\u001b[0;32m<ipython-input-27-0a292d9d14fa>\u001b[0m in \u001b[0;36m<module>\u001b[0;34m()\u001b[0m\n\u001b[1;32m     17\u001b[0m \u001b[0;31m#mtFeatureExtraction(signal, Fs, mtWin, mtStep, stWin, stStep):\u001b[0m\u001b[0;34m\u001b[0m\u001b[0;34m\u001b[0m\u001b[0m\n\u001b[1;32m     18\u001b[0m \u001b[0;34m\u001b[0m\u001b[0m\n\u001b[0;32m---> 19\u001b[0;31m \u001b[0maF\u001b[0m\u001b[0;34m.\u001b[0m\u001b[0mmtFeatureExtractionToFile\u001b[0m\u001b[0;34m(\u001b[0m\u001b[0mfileName\u001b[0m\u001b[0;34m,\u001b[0m \u001b[0mmidTermSize\u001b[0m\u001b[0;34m,\u001b[0m \u001b[0mmidTermStep\u001b[0m\u001b[0;34m,\u001b[0m \u001b[0mshortTermSize\u001b[0m\u001b[0;34m,\u001b[0m \u001b[0mshortTermStep\u001b[0m\u001b[0;34m,\u001b[0m \u001b[0moutPutFile\u001b[0m\u001b[0;34m,\u001b[0m                              \u001b[0mstoreStFeatures\u001b[0m\u001b[0;34m=\u001b[0m\u001b[0mTrue\u001b[0m\u001b[0;34m,\u001b[0m \u001b[0mstoreToCSV\u001b[0m\u001b[0;34m=\u001b[0m\u001b[0mTrue\u001b[0m\u001b[0;34m,\u001b[0m \u001b[0mPLOT\u001b[0m\u001b[0;34m=\u001b[0m\u001b[0mFalse\u001b[0m\u001b[0;34m)\u001b[0m\u001b[0;34m\u001b[0m\u001b[0m\n\u001b[0m",
      "\u001b[0;32m/usr/local/lib/python2.7/site-packages/pyAudioAnalysis/audioFeatureExtraction.pyc\u001b[0m in \u001b[0;36mmtFeatureExtractionToFile\u001b[0;34m(fileName, midTermSize, midTermStep, shortTermSize, shortTermStep, outPutFile, storeStFeatures, storeToCSV, PLOT)\u001b[0m\n\u001b[1;32m    846\u001b[0m     \u001b[0mx\u001b[0m \u001b[0;34m=\u001b[0m \u001b[0maudioBasicIO\u001b[0m\u001b[0;34m.\u001b[0m\u001b[0mstereo2mono\u001b[0m\u001b[0;34m(\u001b[0m\u001b[0mx\u001b[0m\u001b[0;34m)\u001b[0m                           \u001b[0;31m# convert to MONO if required\u001b[0m\u001b[0;34m\u001b[0m\u001b[0m\n\u001b[1;32m    847\u001b[0m     \u001b[0;32mif\u001b[0m \u001b[0mstoreStFeatures\u001b[0m\u001b[0;34m:\u001b[0m\u001b[0;34m\u001b[0m\u001b[0m\n\u001b[0;32m--> 848\u001b[0;31m         \u001b[0;34m[\u001b[0m\u001b[0mmtF\u001b[0m\u001b[0;34m,\u001b[0m \u001b[0mstF\u001b[0m\u001b[0;34m]\u001b[0m \u001b[0;34m=\u001b[0m \u001b[0mmtFeatureExtraction\u001b[0m\u001b[0;34m(\u001b[0m\u001b[0mx\u001b[0m\u001b[0;34m,\u001b[0m \u001b[0mFs\u001b[0m\u001b[0;34m,\u001b[0m \u001b[0mround\u001b[0m\u001b[0;34m(\u001b[0m\u001b[0mFs\u001b[0m \u001b[0;34m*\u001b[0m \u001b[0mmidTermSize\u001b[0m\u001b[0;34m)\u001b[0m\u001b[0;34m,\u001b[0m \u001b[0mround\u001b[0m\u001b[0;34m(\u001b[0m\u001b[0mFs\u001b[0m \u001b[0;34m*\u001b[0m \u001b[0mmidTermStep\u001b[0m\u001b[0;34m)\u001b[0m\u001b[0;34m,\u001b[0m \u001b[0mround\u001b[0m\u001b[0;34m(\u001b[0m\u001b[0mFs\u001b[0m \u001b[0;34m*\u001b[0m \u001b[0mshortTermSize\u001b[0m\u001b[0;34m)\u001b[0m\u001b[0;34m,\u001b[0m \u001b[0mround\u001b[0m\u001b[0;34m(\u001b[0m\u001b[0mFs\u001b[0m \u001b[0;34m*\u001b[0m \u001b[0mshortTermStep\u001b[0m\u001b[0;34m)\u001b[0m\u001b[0;34m)\u001b[0m\u001b[0;34m\u001b[0m\u001b[0m\n\u001b[0m\u001b[1;32m    849\u001b[0m     \u001b[0;32melse\u001b[0m\u001b[0;34m:\u001b[0m\u001b[0;34m\u001b[0m\u001b[0m\n\u001b[1;32m    850\u001b[0m         \u001b[0;34m[\u001b[0m\u001b[0mmtF\u001b[0m\u001b[0;34m,\u001b[0m \u001b[0m_\u001b[0m\u001b[0;34m]\u001b[0m \u001b[0;34m=\u001b[0m \u001b[0mmtFeatureExtraction\u001b[0m\u001b[0;34m(\u001b[0m\u001b[0mx\u001b[0m\u001b[0;34m,\u001b[0m \u001b[0mFs\u001b[0m\u001b[0;34m,\u001b[0m \u001b[0mround\u001b[0m\u001b[0;34m(\u001b[0m\u001b[0mFs\u001b[0m\u001b[0;34m*\u001b[0m\u001b[0mmidTermSize\u001b[0m\u001b[0;34m)\u001b[0m\u001b[0;34m,\u001b[0m \u001b[0mround\u001b[0m\u001b[0;34m(\u001b[0m\u001b[0mFs\u001b[0m \u001b[0;34m*\u001b[0m \u001b[0mmidTermStep\u001b[0m\u001b[0;34m)\u001b[0m\u001b[0;34m,\u001b[0m \u001b[0mround\u001b[0m\u001b[0;34m(\u001b[0m\u001b[0mFs\u001b[0m \u001b[0;34m*\u001b[0m \u001b[0mshortTermSize\u001b[0m\u001b[0;34m)\u001b[0m\u001b[0;34m,\u001b[0m \u001b[0mround\u001b[0m\u001b[0;34m(\u001b[0m\u001b[0mFs\u001b[0m \u001b[0;34m*\u001b[0m \u001b[0mshortTermStep\u001b[0m\u001b[0;34m)\u001b[0m\u001b[0;34m)\u001b[0m\u001b[0;34m\u001b[0m\u001b[0m\n",
      "\u001b[0;32m/usr/local/lib/python2.7/site-packages/pyAudioAnalysis/audioFeatureExtraction.pyc\u001b[0m in \u001b[0;36mmtFeatureExtraction\u001b[0;34m(signal, Fs, mtWin, mtStep, stWin, stStep)\u001b[0m\n\u001b[1;32m    612\u001b[0m     \u001b[0mmtFeatures\u001b[0m \u001b[0;34m=\u001b[0m \u001b[0;34m[\u001b[0m\u001b[0;34m]\u001b[0m\u001b[0;34m\u001b[0m\u001b[0m\n\u001b[1;32m    613\u001b[0m \u001b[0;34m\u001b[0m\u001b[0m\n\u001b[0;32m--> 614\u001b[0;31m     \u001b[0mstFeatures\u001b[0m \u001b[0;34m=\u001b[0m \u001b[0mstFeatureExtraction\u001b[0m\u001b[0;34m(\u001b[0m\u001b[0msignal\u001b[0m\u001b[0;34m,\u001b[0m \u001b[0mFs\u001b[0m\u001b[0;34m,\u001b[0m \u001b[0mstWin\u001b[0m\u001b[0;34m,\u001b[0m \u001b[0mstStep\u001b[0m\u001b[0;34m)\u001b[0m\u001b[0;34m\u001b[0m\u001b[0m\n\u001b[0m\u001b[1;32m    615\u001b[0m     \u001b[0mnumOfFeatures\u001b[0m \u001b[0;34m=\u001b[0m \u001b[0mlen\u001b[0m\u001b[0;34m(\u001b[0m\u001b[0mstFeatures\u001b[0m\u001b[0;34m)\u001b[0m\u001b[0;34m\u001b[0m\u001b[0m\n\u001b[1;32m    616\u001b[0m     \u001b[0mnumOfStatistics\u001b[0m \u001b[0;34m=\u001b[0m \u001b[0;36m2\u001b[0m\u001b[0;34m\u001b[0m\u001b[0m\n",
      "\u001b[0;32m/usr/local/lib/python2.7/site-packages/pyAudioAnalysis/audioFeatureExtraction.pyc\u001b[0m in \u001b[0;36mstFeatureExtraction\u001b[0;34m(signal, Fs, Win, Step)\u001b[0m\n\u001b[1;32m    577\u001b[0m         \u001b[0mcurFV\u001b[0m\u001b[0;34m[\u001b[0m\u001b[0mnumOfTimeSpectralFeatures\u001b[0m\u001b[0;34m:\u001b[0m\u001b[0mnumOfTimeSpectralFeatures\u001b[0m\u001b[0;34m+\u001b[0m\u001b[0mnceps\u001b[0m\u001b[0;34m,\u001b[0m \u001b[0;36m0\u001b[0m\u001b[0;34m]\u001b[0m \u001b[0;34m=\u001b[0m \u001b[0mstMFCC\u001b[0m\u001b[0;34m(\u001b[0m\u001b[0mX\u001b[0m\u001b[0;34m,\u001b[0m \u001b[0mfbank\u001b[0m\u001b[0;34m,\u001b[0m \u001b[0mnceps\u001b[0m\u001b[0;34m)\u001b[0m\u001b[0;34m.\u001b[0m\u001b[0mcopy\u001b[0m\u001b[0;34m(\u001b[0m\u001b[0;34m)\u001b[0m    \u001b[0;31m# MFCCs\u001b[0m\u001b[0;34m\u001b[0m\u001b[0m\n\u001b[1;32m    578\u001b[0m \u001b[0;34m\u001b[0m\u001b[0m\n\u001b[0;32m--> 579\u001b[0;31m         \u001b[0mchromaNames\u001b[0m\u001b[0;34m,\u001b[0m \u001b[0mchromaF\u001b[0m \u001b[0;34m=\u001b[0m \u001b[0mstChromaFeatures\u001b[0m\u001b[0;34m(\u001b[0m\u001b[0mX\u001b[0m\u001b[0;34m,\u001b[0m \u001b[0mFs\u001b[0m\u001b[0;34m,\u001b[0m \u001b[0mnChroma\u001b[0m\u001b[0;34m,\u001b[0m \u001b[0mnFreqsPerChroma\u001b[0m\u001b[0;34m)\u001b[0m\u001b[0;34m\u001b[0m\u001b[0m\n\u001b[0m\u001b[1;32m    580\u001b[0m         \u001b[0mcurFV\u001b[0m\u001b[0;34m[\u001b[0m\u001b[0mnumOfTimeSpectralFeatures\u001b[0m \u001b[0;34m+\u001b[0m \u001b[0mnceps\u001b[0m\u001b[0;34m:\u001b[0m \u001b[0mnumOfTimeSpectralFeatures\u001b[0m \u001b[0;34m+\u001b[0m \u001b[0mnceps\u001b[0m \u001b[0;34m+\u001b[0m \u001b[0mnumOfChromaFeatures\u001b[0m \u001b[0;34m-\u001b[0m \u001b[0;36m1\u001b[0m\u001b[0;34m]\u001b[0m \u001b[0;34m=\u001b[0m \u001b[0mchromaF\u001b[0m\u001b[0;34m\u001b[0m\u001b[0m\n\u001b[1;32m    581\u001b[0m         \u001b[0mcurFV\u001b[0m\u001b[0;34m[\u001b[0m\u001b[0mnumOfTimeSpectralFeatures\u001b[0m \u001b[0;34m+\u001b[0m \u001b[0mnceps\u001b[0m \u001b[0;34m+\u001b[0m \u001b[0mnumOfChromaFeatures\u001b[0m \u001b[0;34m-\u001b[0m \u001b[0;36m1\u001b[0m\u001b[0;34m]\u001b[0m \u001b[0;34m=\u001b[0m \u001b[0mchromaF\u001b[0m\u001b[0;34m.\u001b[0m\u001b[0mstd\u001b[0m\u001b[0;34m(\u001b[0m\u001b[0;34m)\u001b[0m\u001b[0;34m\u001b[0m\u001b[0m\n",
      "\u001b[0;32m/usr/local/lib/python2.7/site-packages/pyAudioAnalysis/audioFeatureExtraction.pyc\u001b[0m in \u001b[0;36mstChromaFeatures\u001b[0;34m(X, fs, nChroma, nFreqsPerChroma)\u001b[0m\n\u001b[1;32m    265\u001b[0m     \u001b[0;32mif\u001b[0m \u001b[0mnChroma\u001b[0m\u001b[0;34m.\u001b[0m\u001b[0mmax\u001b[0m\u001b[0;34m(\u001b[0m\u001b[0;34m)\u001b[0m\u001b[0;34m<\u001b[0m\u001b[0mnChroma\u001b[0m\u001b[0;34m.\u001b[0m\u001b[0mshape\u001b[0m\u001b[0;34m[\u001b[0m\u001b[0;36m0\u001b[0m\u001b[0;34m]\u001b[0m\u001b[0;34m:\u001b[0m\u001b[0;34m\u001b[0m\u001b[0m\n\u001b[1;32m    266\u001b[0m         \u001b[0mC\u001b[0m \u001b[0;34m=\u001b[0m \u001b[0mnumpy\u001b[0m\u001b[0;34m.\u001b[0m\u001b[0mzeros\u001b[0m\u001b[0;34m(\u001b[0m\u001b[0;34m(\u001b[0m\u001b[0mnChroma\u001b[0m\u001b[0;34m.\u001b[0m\u001b[0mshape\u001b[0m\u001b[0;34m[\u001b[0m\u001b[0;36m0\u001b[0m\u001b[0;34m]\u001b[0m\u001b[0;34m,\u001b[0m\u001b[0;34m)\u001b[0m\u001b[0;34m)\u001b[0m\u001b[0;34m\u001b[0m\u001b[0m\n\u001b[0;32m--> 267\u001b[0;31m         \u001b[0mC\u001b[0m\u001b[0;34m[\u001b[0m\u001b[0mnChroma\u001b[0m\u001b[0;34m]\u001b[0m \u001b[0;34m=\u001b[0m \u001b[0mspec\u001b[0m\u001b[0;34m\u001b[0m\u001b[0m\n\u001b[0m\u001b[1;32m    268\u001b[0m         \u001b[0mC\u001b[0m \u001b[0;34m/=\u001b[0m \u001b[0mnFreqsPerChroma\u001b[0m\u001b[0;34m[\u001b[0m\u001b[0mnChroma\u001b[0m\u001b[0;34m]\u001b[0m\u001b[0;34m\u001b[0m\u001b[0m\n\u001b[1;32m    269\u001b[0m     \u001b[0;32melse\u001b[0m\u001b[0;34m:\u001b[0m\u001b[0;34m\u001b[0m\u001b[0m\n",
      "\u001b[0;31mIndexError\u001b[0m: index -9223372036854775808 is out of bounds for axis 1 with size 6400000"
     ]
    }
   ],
   "source": [
    "fileName=\"/Volumes/Turcich-2012/AAPB_Test_Haystack_16000/cpb-aacip-500-4m91d343.16000.wav\"\n",
    "\n",
    "outPutFile=\"/Users/mclaugh/Desktop/af_test.csv\"\n",
    "\n",
    "[Fs, x] = audioBasicIO.readAudioFile(fileName)\n",
    "\n",
    "mtWin=1.0\n",
    "stWin=0.05\n",
    "\n",
    "midTermSize = mtWin * Fs\n",
    "midTermStep = 1.0\n",
    "\n",
    "shortTermSize = stWin * Fs\n",
    "shortTermStep = 0.05\n",
    "\n",
    "#aF.mtFeatureExtraction(x, Fs, mtWin * Fs, mtStep * Fs, round(Fs * stWin), round(Fs * stStep))\n",
    "#mtFeatureExtraction(signal, Fs, mtWin, mtStep, stWin, stStep):\n",
    "\n",
    "aF.mtFeatureExtractionToFile(fileName, midTermSize, midTermStep, shortTermSize, shortTermStep, outPutFile,\\\n",
    "                              storeStFeatures=True, storeToCSV=True, PLOT=False)"
   ]
  },
  {
   "cell_type": "code",
   "execution_count": null,
   "metadata": {
    "collapsed": true
   },
   "outputs": [],
   "source": []
  },
  {
   "cell_type": "code",
   "execution_count": null,
   "metadata": {
    "collapsed": true
   },
   "outputs": [],
   "source": []
  },
  {
   "cell_type": "code",
   "execution_count": null,
   "metadata": {
    "collapsed": true
   },
   "outputs": [],
   "source": [
    "\n",
    "def dirWavFeatureExtractionNoAveraging(dirName, mtWin, mtStep, stWin, stStep):\n",
    "    \"\"\"\n",
    "    This function extracts the mid-term features of the WAVE files of a particular folder without averaging each file.\n",
    "    ARGUMENTS:\n",
    "        - dirName:          the path of the WAVE directory\n",
    "        - mtWin, mtStep:    mid-term window and step (in seconds)\n",
    "        - stWin, stStep:    short-term window and step (in seconds)\n",
    "    RETURNS:\n",
    "        - X:                A feature matrix\n",
    "        - Y:                A matrix of file labels\n",
    "        - filenames:\n",
    "    \"\"\"\n",
    "\n",
    "    allMtFeatures = numpy.array([])\n",
    "    signalIndices = numpy.array([])\n",
    "    processingTimes = []\n",
    "\n",
    "    types = ('*.wav', '*.aif',  '*.aiff')\n",
    "    wavFilesList = []\n",
    "    for files in types:\n",
    "        wavFilesList.extend(glob.glob(os.path.join(dirName, files)))\n",
    "\n",
    "    wavFilesList = sorted(wavFilesList)\n",
    "\n",
    "    for i, wavFile in enumerate(wavFilesList):\n",
    "        [Fs, x] = audioBasicIO.readAudioFile(wavFile)            # read file\n",
    "        x = audioBasicIO.stereo2mono(x)                          # convert stereo to mono\n",
    "        [MidTermFeatures, _] = mtFeatureExtraction(x, Fs, round(mtWin * Fs), round(mtStep * Fs), round(Fs * stWin), round(Fs * stStep))  # mid-term feature\n",
    "\n",
    "        MidTermFeatures = numpy.transpose(MidTermFeatures)\n",
    "#        MidTermFeatures = MidTermFeatures.mean(axis=0)        # long term averaging of mid-term statistics\n",
    "        if len(allMtFeatures) == 0:                # append feature vector\n",
    "            allMtFeatures = MidTermFeatures\n",
    "            signalIndices = numpy.zeros((MidTermFeatures.shape[0], ))\n",
    "        else:\n",
    "            allMtFeatures = numpy.vstack((allMtFeatures, MidTermFeatures))\n",
    "            signalIndices = numpy.append(signalIndices, i * numpy.ones((MidTermFeatures.shape[0], )))\n",
    "\n",
    "    return (allMtFeatures, signalIndices, wavFilesList)\n",
    "\n",
    "\n",
    "# The following two feature extraction wrappers extract features for given audio files, however\n",
    "# NO LONG-TERM AVERAGING is performed. Therefore, the output for each audio file is NOT A SINGLE FEATURE VECTOR\n",
    "# but a whole feature matrix.\n",
    "#\n",
    "# Also, another difference between the following two wrappers and the previous is that they NO LONG-TERM AVERAGING IS PERFORMED.\n",
    "# In other words, the WAV files in these functions are not used as uniform samples that need to be averaged but as sequences\n",
    "\n",
    "def mtFeatureExtractionToFile(fileName, midTermSize, midTermStep, shortTermSize, shortTermStep, outPutFile,\n",
    "                              storeStFeatures=False, storeToCSV=False, PLOT=False):\n",
    "    \"\"\"\n",
    "    This function is used as a wrapper to:\n",
    "    a) read the content of a WAV file\n",
    "    b) perform mid-term feature extraction on that signal\n",
    "    c) write the mid-term feature sequences to a numpy file\n",
    "    \"\"\"\n",
    "    [Fs, x] = audioBasicIO.readAudioFile(fileName)            # read the wav file\n",
    "    x = audioBasicIO.stereo2mono(x)                           # convert to MONO if required\n",
    "    if storeStFeatures:\n",
    "        [mtF, stF] = mtFeatureExtraction(x, Fs, round(Fs * midTermSize), round(Fs * midTermStep), round(Fs * shortTermSize), round(Fs * shortTermStep))\n",
    "    else:\n",
    "        [mtF, _] = mtFeatureExtraction(x, Fs, round(Fs*midTermSize), round(Fs * midTermStep), round(Fs * shortTermSize), round(Fs * shortTermStep))\n",
    "\n",
    "    numpy.save(outPutFile, mtF)                              # save mt features to numpy file\n",
    "    if PLOT:\n",
    "        print \"Mid-term numpy file: \" + outPutFile + \".npy saved\"\n",
    "    if storeToCSV:\n",
    "        numpy.savetxt(outPutFile+\".csv\", mtF.T, delimiter=\",\")\n",
    "        if PLOT:\n",
    "            print \"Mid-term CSV file: \" + outPutFile + \".csv saved\"\n",
    "\n",
    "    if storeStFeatures:\n",
    "        numpy.save(outPutFile+\"_st\", stF)                    # save st features to numpy file\n",
    "        if PLOT:\n",
    "            print \"Short-term numpy file: \" + outPutFile + \"_st.npy saved\"\n",
    "        if storeToCSV:\n",
    "            numpy.savetxt(outPutFile+\"_st.csv\", stF.T, delimiter=\",\")    # store st features to CSV file\n",
    "            if PLOT:\n",
    "                print \"Short-term CSV file: \" + outPutFile + \"_st.csv saved\"\n",
    "\n",
    "\n",
    "def mtFeatureExtractionToFileDir(dirName, midTermSize, midTermStep, shortTermSize, shortTermStep, storeStFeatures=False, storeToCSV=False, PLOT=False):\n",
    "    types = (dirName + os.sep + '*.wav', )\n",
    "    filesToProcess = []\n",
    "    for files in types:\n",
    "        filesToProcess.extend(glob.glob(files))\n",
    "    for f in filesToProcess:\n",
    "        outPath = f\n",
    "        mtFeatureExtractionToFile(f, midTermSize, midTermStep, shortTermSize, shortTermStep, outPath, storeStFeatures, storeToCSV, PLOT)\n",
    "Contact GitHub API Training Shop Blog About\n"
   ]
  },
  {
   "cell_type": "code",
   "execution_count": null,
   "metadata": {
    "collapsed": true
   },
   "outputs": [],
   "source": []
  },
  {
   "cell_type": "code",
   "execution_count": null,
   "metadata": {
    "collapsed": true
   },
   "outputs": [],
   "source": []
  },
  {
   "cell_type": "code",
   "execution_count": null,
   "metadata": {
    "collapsed": true
   },
   "outputs": [],
   "source": []
  },
  {
   "cell_type": "code",
   "execution_count": null,
   "metadata": {
    "collapsed": true
   },
   "outputs": [],
   "source": []
  },
  {
   "cell_type": "code",
   "execution_count": 33,
   "metadata": {},
   "outputs": [],
   "source": [
    "fileName=\"/Volumes/Turcich-2012/AAPB_Test_Haystack_16000/cpb-aacip-500-4m91d343.16000.wav\"\n",
    "\n",
    "outPutFile=\"/Users/mclaugh/Desktop/af_test.csv\"\n",
    "\n",
    "[Fs, x] = audioBasicIO.readAudioFile(fileName)\n",
    "\n",
    "mtWin=1.0\n",
    "stWin=0.05\n",
    "\n",
    "midTermSize = mtWin * Fs\n",
    "midTermStep = 1.0\n",
    "mtStep = 1.0\n",
    "\n",
    "\n",
    "shortTermSize = stWin * Fs\n",
    "shortTermStep = 0.05\n",
    "stStep = 0.05\n",
    "\n",
    "\n",
    "dirName=\"/Users/mclaugh/Desktop/test\"\n",
    "\n",
    "temp = aF.dirWavFeatureExtractionNoAveraging(dirName, mtWin, mtStep, stWin, stStep)\n",
    "    "
   ]
  },
  {
   "cell_type": "code",
   "execution_count": null,
   "metadata": {
    "collapsed": true
   },
   "outputs": [],
   "source": [
    "\n",
    "\n",
    "\n",
    "import numpy as np\n",
    "a = np.asarray([ [1,2,3], [4,5,6], [7,8,9] ])\n",
    "numpy.savetxt(\"foo.csv\", a, delimiter=\",\")\n",
    "\n",
    "\n"
   ]
  },
  {
   "cell_type": "code",
   "execution_count": 41,
   "metadata": {},
   "outputs": [
    {
     "name": "stdout",
     "output_type": "stream",
     "text": [
      "[  2.60137672e-01   1.44923127e-08   3.21788057e+00   3.60266809e-01\n",
      "   2.73310842e-01   2.17152323e+00   1.88225665e-03   1.53875000e-01\n",
      "  -4.14698968e+01   1.00501476e+00   8.45032360e-02   1.56513386e-03\n",
      "  -5.48133147e-02  -7.52069808e-02  -1.49296857e-01  -9.41188570e-02\n",
      "  -4.69544363e-02  -7.63777387e-02  -1.00356631e-01  -1.16488248e-01\n",
      "  -3.76955349e-02   1.63256481e-02   5.86615249e-03   1.61733086e-02\n",
      "   1.27676569e-02   1.27862990e-02   9.49753729e-03   1.36856924e-02\n",
      "   3.63967032e-03   9.44110939e-03   9.40778610e-03   1.87019836e-02\n",
      "   5.95887310e-03   7.91065855e-03   2.85161072e-02   2.62084689e-09\n",
      "   2.19010196e-01   6.70126874e-03   3.92828545e-03   7.73011742e-02\n",
      "   5.22948897e-04   4.39209161e-02   3.05457989e-01   1.09166949e-01\n",
      "   1.16910342e-01   1.61303368e-01   1.46114071e-01   1.75082528e-01\n",
      "   1.47623915e-01   1.69070758e-01   1.13362450e-01   1.30359284e-01\n",
      "   1.35828034e-01   1.33847347e-01   1.51926262e-01   1.08085052e-02\n",
      "   3.28337136e-03   8.71541305e-03   9.54680934e-03   8.73370749e-03\n",
      "   5.71446276e-03   6.24518728e-03   2.61937704e-03   5.53181248e-03\n",
      "   3.73132130e-03   8.62964126e-03   4.22265706e-03   2.11183661e-03]\n",
      "[  2.71339174e-01   1.52612549e-08   3.27503305e+00   3.59482251e-01\n",
      "   2.73913546e-01   2.20205959e+00   1.79940642e-03   1.69625000e-01\n",
      "  -4.13342621e+01   1.01814206e+00   8.07603846e-02  -2.12348222e-02\n",
      "  -1.19454888e-01  -6.76860223e-02  -1.35740679e-01  -4.38669246e-02\n",
      "  -1.75984869e-02  -5.20285406e-02  -1.06984195e-01  -3.70839800e-02\n",
      "  -1.07286397e-01   1.65380228e-02   4.57180912e-03   1.54206563e-02\n",
      "   9.68153863e-03   1.18507844e-02   9.60181065e-03   1.31055614e-02\n",
      "   3.16355588e-03   8.18032878e-03   1.39000835e-02   1.85927199e-02\n",
      "   6.20748527e-03   7.13028216e-03   2.33496448e-02   1.30144840e-09\n",
      "   1.89327650e-02   7.48117416e-03   3.56512742e-03   1.06812283e-01\n",
      "   1.77690916e-04   2.85512149e-02   1.06365717e-01   2.02863086e-01\n",
      "   1.41606748e-01   1.32269057e-01   1.20825436e-01   1.28495877e-01\n",
      "   1.21417119e-01   1.15926549e-01   9.94499540e-02   9.19226010e-02\n",
      "   1.46291236e-01   1.40447204e-01   1.65966472e-01   8.71263794e-03\n",
      "   2.83226712e-03   5.45130048e-03   5.34036677e-03   4.15379676e-03\n",
      "   6.63454889e-03   7.72649886e-03   2.49070941e-03   4.00942106e-03\n",
      "   6.28071602e-03   8.84685707e-03   3.33254417e-03   1.76363501e-03]\n",
      "[  2.54505632e-01   1.72864079e-08   3.26017016e+00   3.49938652e-01\n",
      "   2.72181913e-01   2.08009569e+00   2.18891047e-03   1.55375000e-01\n",
      "  -4.12847478e+01   1.12646074e+00   1.56057051e-01   2.70227569e-02\n",
      "  -8.51331523e-02  -7.56266672e-02  -1.06979281e-01  -9.97896730e-02\n",
      "  -1.19949141e-01  -1.01546742e-01  -8.50571195e-02  -1.15024566e-01\n",
      "  -5.27650961e-02   1.89854374e-02   5.12996086e-03   1.40416842e-02\n",
      "   1.46030688e-02   1.52811741e-02   1.13004224e-02   2.00374668e-02\n",
      "   3.28592011e-03   7.41085435e-03   9.19000835e-03   1.96024182e-02\n",
      "   5.80552142e-03   9.38915174e-03   2.91329016e-02   3.59203821e-09\n",
      "   3.31945450e-02   1.19927373e-02   2.84311523e-03   1.85532608e-01\n",
      "   4.38516212e-04   3.24641629e-02   1.66849813e-01   2.08829260e-01\n",
      "   1.26015352e-01   1.76034051e-01   1.66443901e-01   1.53843454e-01\n",
      "   1.62356742e-01   1.50002076e-01   1.24375764e-01   1.66556309e-01\n",
      "   1.46247672e-01   1.00851103e-01   1.19092860e-01   1.55801133e-02\n",
      "   2.90846469e-03   7.90851999e-03   1.06291690e-02   6.59291046e-03\n",
      "   7.71250094e-03   1.47518887e-02   1.07700884e-03   5.76433244e-03\n",
      "   5.75821099e-03   8.66936504e-03   3.51921325e-03   3.98002937e-03]\n"
     ]
    }
   ],
   "source": [
    "#for row in temp[0][:3]:\n",
    "#    print(row)"
   ]
  },
  {
   "cell_type": "code",
   "execution_count": null,
   "metadata": {
    "collapsed": true
   },
   "outputs": [],
   "source": []
  },
  {
   "cell_type": "code",
   "execution_count": 47,
   "metadata": {},
   "outputs": [
    {
     "data": {
      "text/plain": [
       "0.0"
      ]
     },
     "execution_count": 47,
     "metadata": {},
     "output_type": "execute_result"
    }
   ],
   "source": [
    "temp[1][99]\n",
    "\n"
   ]
  },
  {
   "cell_type": "code",
   "execution_count": null,
   "metadata": {
    "collapsed": true
   },
   "outputs": [],
   "source": []
  },
  {
   "cell_type": "code",
   "execution_count": null,
   "metadata": {
    "collapsed": true
   },
   "outputs": [],
   "source": []
  },
  {
   "cell_type": "code",
   "execution_count": null,
   "metadata": {
    "collapsed": true
   },
   "outputs": [],
   "source": []
  },
  {
   "cell_type": "code",
   "execution_count": 40,
   "metadata": {},
   "outputs": [
    {
     "data": {
      "text/plain": [
       "68"
      ]
     },
     "execution_count": 40,
     "metadata": {},
     "output_type": "execute_result"
    }
   ],
   "source": [
    "len(temp[0][99])"
   ]
  },
  {
   "cell_type": "code",
   "execution_count": null,
   "metadata": {
    "collapsed": true
   },
   "outputs": [],
   "source": []
  },
  {
   "cell_type": "code",
   "execution_count": null,
   "metadata": {
    "collapsed": true
   },
   "outputs": [],
   "source": []
  },
  {
   "cell_type": "code",
   "execution_count": null,
   "metadata": {
    "collapsed": true
   },
   "outputs": [],
   "source": []
  },
  {
   "cell_type": "code",
   "execution_count": null,
   "metadata": {
    "collapsed": true
   },
   "outputs": [],
   "source": []
  },
  {
   "cell_type": "code",
   "execution_count": null,
   "metadata": {
    "collapsed": true
   },
   "outputs": [],
   "source": []
  },
  {
   "cell_type": "code",
   "execution_count": null,
   "metadata": {
    "collapsed": true
   },
   "outputs": [],
   "source": []
  },
  {
   "cell_type": "code",
   "execution_count": null,
   "metadata": {
    "collapsed": true
   },
   "outputs": [],
   "source": []
  },
  {
   "cell_type": "code",
   "execution_count": null,
   "metadata": {
    "collapsed": true
   },
   "outputs": [],
   "source": []
  },
  {
   "cell_type": "code",
   "execution_count": null,
   "metadata": {
    "collapsed": true
   },
   "outputs": [],
   "source": []
  },
  {
   "cell_type": "code",
   "execution_count": null,
   "metadata": {
    "collapsed": true
   },
   "outputs": [],
   "source": []
  },
  {
   "cell_type": "code",
   "execution_count": null,
   "metadata": {
    "collapsed": true
   },
   "outputs": [],
   "source": []
  },
  {
   "cell_type": "code",
   "execution_count": 34,
   "metadata": {},
   "outputs": [
    {
     "ename": "IndexError",
     "evalue": "index -9223372036854775808 is out of bounds for axis 1 with size 6400000",
     "output_type": "error",
     "traceback": [
      "\u001b[0;31m---------------------------------------------------------------------------\u001b[0m",
      "\u001b[0;31mIndexError\u001b[0m                                Traceback (most recent call last)",
      "\u001b[0;32m<ipython-input-34-64bef9adef53>\u001b[0m in \u001b[0;36m<module>\u001b[0;34m()\u001b[0m\n\u001b[1;32m      2\u001b[0m \u001b[0;34m\u001b[0m\u001b[0m\n\u001b[1;32m      3\u001b[0m \u001b[0;34m\u001b[0m\u001b[0m\n\u001b[0;32m----> 4\u001b[0;31m \u001b[0maF\u001b[0m\u001b[0;34m.\u001b[0m\u001b[0mmtFeatureExtractionToFileDir\u001b[0m\u001b[0;34m(\u001b[0m\u001b[0mdirName\u001b[0m\u001b[0;34m,\u001b[0m \u001b[0mmidTermSize\u001b[0m\u001b[0;34m,\u001b[0m     \u001b[0mmidTermStep\u001b[0m\u001b[0;34m,\u001b[0m \u001b[0mshortTermSize\u001b[0m\u001b[0;34m,\u001b[0m \u001b[0mshortTermStep\u001b[0m\u001b[0;34m,\u001b[0m     \u001b[0mstoreStFeatures\u001b[0m\u001b[0;34m=\u001b[0m\u001b[0mFalse\u001b[0m\u001b[0;34m,\u001b[0m \u001b[0mstoreToCSV\u001b[0m\u001b[0;34m=\u001b[0m\u001b[0mFalse\u001b[0m\u001b[0;34m,\u001b[0m \u001b[0mPLOT\u001b[0m\u001b[0;34m=\u001b[0m\u001b[0mFalse\u001b[0m\u001b[0;34m)\u001b[0m\u001b[0;34m\u001b[0m\u001b[0m\n\u001b[0m",
      "\u001b[0;32m/usr/local/lib/python2.7/site-packages/pyAudioAnalysis/audioFeatureExtraction.pyc\u001b[0m in \u001b[0;36mmtFeatureExtractionToFileDir\u001b[0;34m(dirName, midTermSize, midTermStep, shortTermSize, shortTermStep, storeStFeatures, storeToCSV, PLOT)\u001b[0m\n\u001b[1;32m    875\u001b[0m     \u001b[0;32mfor\u001b[0m \u001b[0mf\u001b[0m \u001b[0;32min\u001b[0m \u001b[0mfilesToProcess\u001b[0m\u001b[0;34m:\u001b[0m\u001b[0;34m\u001b[0m\u001b[0m\n\u001b[1;32m    876\u001b[0m         \u001b[0moutPath\u001b[0m \u001b[0;34m=\u001b[0m \u001b[0mf\u001b[0m\u001b[0;34m\u001b[0m\u001b[0m\n\u001b[0;32m--> 877\u001b[0;31m         \u001b[0mmtFeatureExtractionToFile\u001b[0m\u001b[0;34m(\u001b[0m\u001b[0mf\u001b[0m\u001b[0;34m,\u001b[0m \u001b[0mmidTermSize\u001b[0m\u001b[0;34m,\u001b[0m \u001b[0mmidTermStep\u001b[0m\u001b[0;34m,\u001b[0m \u001b[0mshortTermSize\u001b[0m\u001b[0;34m,\u001b[0m \u001b[0mshortTermStep\u001b[0m\u001b[0;34m,\u001b[0m \u001b[0moutPath\u001b[0m\u001b[0;34m,\u001b[0m \u001b[0mstoreStFeatures\u001b[0m\u001b[0;34m,\u001b[0m \u001b[0mstoreToCSV\u001b[0m\u001b[0;34m,\u001b[0m \u001b[0mPLOT\u001b[0m\u001b[0;34m)\u001b[0m\u001b[0;34m\u001b[0m\u001b[0m\n\u001b[0m",
      "\u001b[0;32m/usr/local/lib/python2.7/site-packages/pyAudioAnalysis/audioFeatureExtraction.pyc\u001b[0m in \u001b[0;36mmtFeatureExtractionToFile\u001b[0;34m(fileName, midTermSize, midTermStep, shortTermSize, shortTermStep, outPutFile, storeStFeatures, storeToCSV, PLOT)\u001b[0m\n\u001b[1;32m    848\u001b[0m         \u001b[0;34m[\u001b[0m\u001b[0mmtF\u001b[0m\u001b[0;34m,\u001b[0m \u001b[0mstF\u001b[0m\u001b[0;34m]\u001b[0m \u001b[0;34m=\u001b[0m \u001b[0mmtFeatureExtraction\u001b[0m\u001b[0;34m(\u001b[0m\u001b[0mx\u001b[0m\u001b[0;34m,\u001b[0m \u001b[0mFs\u001b[0m\u001b[0;34m,\u001b[0m \u001b[0mround\u001b[0m\u001b[0;34m(\u001b[0m\u001b[0mFs\u001b[0m \u001b[0;34m*\u001b[0m \u001b[0mmidTermSize\u001b[0m\u001b[0;34m)\u001b[0m\u001b[0;34m,\u001b[0m \u001b[0mround\u001b[0m\u001b[0;34m(\u001b[0m\u001b[0mFs\u001b[0m \u001b[0;34m*\u001b[0m \u001b[0mmidTermStep\u001b[0m\u001b[0;34m)\u001b[0m\u001b[0;34m,\u001b[0m \u001b[0mround\u001b[0m\u001b[0;34m(\u001b[0m\u001b[0mFs\u001b[0m \u001b[0;34m*\u001b[0m \u001b[0mshortTermSize\u001b[0m\u001b[0;34m)\u001b[0m\u001b[0;34m,\u001b[0m \u001b[0mround\u001b[0m\u001b[0;34m(\u001b[0m\u001b[0mFs\u001b[0m \u001b[0;34m*\u001b[0m \u001b[0mshortTermStep\u001b[0m\u001b[0;34m)\u001b[0m\u001b[0;34m)\u001b[0m\u001b[0;34m\u001b[0m\u001b[0m\n\u001b[1;32m    849\u001b[0m     \u001b[0;32melse\u001b[0m\u001b[0;34m:\u001b[0m\u001b[0;34m\u001b[0m\u001b[0m\n\u001b[0;32m--> 850\u001b[0;31m         \u001b[0;34m[\u001b[0m\u001b[0mmtF\u001b[0m\u001b[0;34m,\u001b[0m \u001b[0m_\u001b[0m\u001b[0;34m]\u001b[0m \u001b[0;34m=\u001b[0m \u001b[0mmtFeatureExtraction\u001b[0m\u001b[0;34m(\u001b[0m\u001b[0mx\u001b[0m\u001b[0;34m,\u001b[0m \u001b[0mFs\u001b[0m\u001b[0;34m,\u001b[0m \u001b[0mround\u001b[0m\u001b[0;34m(\u001b[0m\u001b[0mFs\u001b[0m\u001b[0;34m*\u001b[0m\u001b[0mmidTermSize\u001b[0m\u001b[0;34m)\u001b[0m\u001b[0;34m,\u001b[0m \u001b[0mround\u001b[0m\u001b[0;34m(\u001b[0m\u001b[0mFs\u001b[0m \u001b[0;34m*\u001b[0m \u001b[0mmidTermStep\u001b[0m\u001b[0;34m)\u001b[0m\u001b[0;34m,\u001b[0m \u001b[0mround\u001b[0m\u001b[0;34m(\u001b[0m\u001b[0mFs\u001b[0m \u001b[0;34m*\u001b[0m \u001b[0mshortTermSize\u001b[0m\u001b[0;34m)\u001b[0m\u001b[0;34m,\u001b[0m \u001b[0mround\u001b[0m\u001b[0;34m(\u001b[0m\u001b[0mFs\u001b[0m \u001b[0;34m*\u001b[0m \u001b[0mshortTermStep\u001b[0m\u001b[0;34m)\u001b[0m\u001b[0;34m)\u001b[0m\u001b[0;34m\u001b[0m\u001b[0m\n\u001b[0m\u001b[1;32m    851\u001b[0m \u001b[0;34m\u001b[0m\u001b[0m\n\u001b[1;32m    852\u001b[0m     \u001b[0mnumpy\u001b[0m\u001b[0;34m.\u001b[0m\u001b[0msave\u001b[0m\u001b[0;34m(\u001b[0m\u001b[0moutPutFile\u001b[0m\u001b[0;34m,\u001b[0m \u001b[0mmtF\u001b[0m\u001b[0;34m)\u001b[0m                              \u001b[0;31m# save mt features to numpy file\u001b[0m\u001b[0;34m\u001b[0m\u001b[0m\n",
      "\u001b[0;32m/usr/local/lib/python2.7/site-packages/pyAudioAnalysis/audioFeatureExtraction.pyc\u001b[0m in \u001b[0;36mmtFeatureExtraction\u001b[0;34m(signal, Fs, mtWin, mtStep, stWin, stStep)\u001b[0m\n\u001b[1;32m    612\u001b[0m     \u001b[0mmtFeatures\u001b[0m \u001b[0;34m=\u001b[0m \u001b[0;34m[\u001b[0m\u001b[0;34m]\u001b[0m\u001b[0;34m\u001b[0m\u001b[0m\n\u001b[1;32m    613\u001b[0m \u001b[0;34m\u001b[0m\u001b[0m\n\u001b[0;32m--> 614\u001b[0;31m     \u001b[0mstFeatures\u001b[0m \u001b[0;34m=\u001b[0m \u001b[0mstFeatureExtraction\u001b[0m\u001b[0;34m(\u001b[0m\u001b[0msignal\u001b[0m\u001b[0;34m,\u001b[0m \u001b[0mFs\u001b[0m\u001b[0;34m,\u001b[0m \u001b[0mstWin\u001b[0m\u001b[0;34m,\u001b[0m \u001b[0mstStep\u001b[0m\u001b[0;34m)\u001b[0m\u001b[0;34m\u001b[0m\u001b[0m\n\u001b[0m\u001b[1;32m    615\u001b[0m     \u001b[0mnumOfFeatures\u001b[0m \u001b[0;34m=\u001b[0m \u001b[0mlen\u001b[0m\u001b[0;34m(\u001b[0m\u001b[0mstFeatures\u001b[0m\u001b[0;34m)\u001b[0m\u001b[0;34m\u001b[0m\u001b[0m\n\u001b[1;32m    616\u001b[0m     \u001b[0mnumOfStatistics\u001b[0m \u001b[0;34m=\u001b[0m \u001b[0;36m2\u001b[0m\u001b[0;34m\u001b[0m\u001b[0m\n",
      "\u001b[0;32m/usr/local/lib/python2.7/site-packages/pyAudioAnalysis/audioFeatureExtraction.pyc\u001b[0m in \u001b[0;36mstFeatureExtraction\u001b[0;34m(signal, Fs, Win, Step)\u001b[0m\n\u001b[1;32m    577\u001b[0m         \u001b[0mcurFV\u001b[0m\u001b[0;34m[\u001b[0m\u001b[0mnumOfTimeSpectralFeatures\u001b[0m\u001b[0;34m:\u001b[0m\u001b[0mnumOfTimeSpectralFeatures\u001b[0m\u001b[0;34m+\u001b[0m\u001b[0mnceps\u001b[0m\u001b[0;34m,\u001b[0m \u001b[0;36m0\u001b[0m\u001b[0;34m]\u001b[0m \u001b[0;34m=\u001b[0m \u001b[0mstMFCC\u001b[0m\u001b[0;34m(\u001b[0m\u001b[0mX\u001b[0m\u001b[0;34m,\u001b[0m \u001b[0mfbank\u001b[0m\u001b[0;34m,\u001b[0m \u001b[0mnceps\u001b[0m\u001b[0;34m)\u001b[0m\u001b[0;34m.\u001b[0m\u001b[0mcopy\u001b[0m\u001b[0;34m(\u001b[0m\u001b[0;34m)\u001b[0m    \u001b[0;31m# MFCCs\u001b[0m\u001b[0;34m\u001b[0m\u001b[0m\n\u001b[1;32m    578\u001b[0m \u001b[0;34m\u001b[0m\u001b[0m\n\u001b[0;32m--> 579\u001b[0;31m         \u001b[0mchromaNames\u001b[0m\u001b[0;34m,\u001b[0m \u001b[0mchromaF\u001b[0m \u001b[0;34m=\u001b[0m \u001b[0mstChromaFeatures\u001b[0m\u001b[0;34m(\u001b[0m\u001b[0mX\u001b[0m\u001b[0;34m,\u001b[0m \u001b[0mFs\u001b[0m\u001b[0;34m,\u001b[0m \u001b[0mnChroma\u001b[0m\u001b[0;34m,\u001b[0m \u001b[0mnFreqsPerChroma\u001b[0m\u001b[0;34m)\u001b[0m\u001b[0;34m\u001b[0m\u001b[0m\n\u001b[0m\u001b[1;32m    580\u001b[0m         \u001b[0mcurFV\u001b[0m\u001b[0;34m[\u001b[0m\u001b[0mnumOfTimeSpectralFeatures\u001b[0m \u001b[0;34m+\u001b[0m \u001b[0mnceps\u001b[0m\u001b[0;34m:\u001b[0m \u001b[0mnumOfTimeSpectralFeatures\u001b[0m \u001b[0;34m+\u001b[0m \u001b[0mnceps\u001b[0m \u001b[0;34m+\u001b[0m \u001b[0mnumOfChromaFeatures\u001b[0m \u001b[0;34m-\u001b[0m \u001b[0;36m1\u001b[0m\u001b[0;34m]\u001b[0m \u001b[0;34m=\u001b[0m \u001b[0mchromaF\u001b[0m\u001b[0;34m\u001b[0m\u001b[0m\n\u001b[1;32m    581\u001b[0m         \u001b[0mcurFV\u001b[0m\u001b[0;34m[\u001b[0m\u001b[0mnumOfTimeSpectralFeatures\u001b[0m \u001b[0;34m+\u001b[0m \u001b[0mnceps\u001b[0m \u001b[0;34m+\u001b[0m \u001b[0mnumOfChromaFeatures\u001b[0m \u001b[0;34m-\u001b[0m \u001b[0;36m1\u001b[0m\u001b[0;34m]\u001b[0m \u001b[0;34m=\u001b[0m \u001b[0mchromaF\u001b[0m\u001b[0;34m.\u001b[0m\u001b[0mstd\u001b[0m\u001b[0;34m(\u001b[0m\u001b[0;34m)\u001b[0m\u001b[0;34m\u001b[0m\u001b[0m\n",
      "\u001b[0;32m/usr/local/lib/python2.7/site-packages/pyAudioAnalysis/audioFeatureExtraction.pyc\u001b[0m in \u001b[0;36mstChromaFeatures\u001b[0;34m(X, fs, nChroma, nFreqsPerChroma)\u001b[0m\n\u001b[1;32m    265\u001b[0m     \u001b[0;32mif\u001b[0m \u001b[0mnChroma\u001b[0m\u001b[0;34m.\u001b[0m\u001b[0mmax\u001b[0m\u001b[0;34m(\u001b[0m\u001b[0;34m)\u001b[0m\u001b[0;34m<\u001b[0m\u001b[0mnChroma\u001b[0m\u001b[0;34m.\u001b[0m\u001b[0mshape\u001b[0m\u001b[0;34m[\u001b[0m\u001b[0;36m0\u001b[0m\u001b[0;34m]\u001b[0m\u001b[0;34m:\u001b[0m\u001b[0;34m\u001b[0m\u001b[0m\n\u001b[1;32m    266\u001b[0m         \u001b[0mC\u001b[0m \u001b[0;34m=\u001b[0m \u001b[0mnumpy\u001b[0m\u001b[0;34m.\u001b[0m\u001b[0mzeros\u001b[0m\u001b[0;34m(\u001b[0m\u001b[0;34m(\u001b[0m\u001b[0mnChroma\u001b[0m\u001b[0;34m.\u001b[0m\u001b[0mshape\u001b[0m\u001b[0;34m[\u001b[0m\u001b[0;36m0\u001b[0m\u001b[0;34m]\u001b[0m\u001b[0;34m,\u001b[0m\u001b[0;34m)\u001b[0m\u001b[0;34m)\u001b[0m\u001b[0;34m\u001b[0m\u001b[0m\n\u001b[0;32m--> 267\u001b[0;31m         \u001b[0mC\u001b[0m\u001b[0;34m[\u001b[0m\u001b[0mnChroma\u001b[0m\u001b[0;34m]\u001b[0m \u001b[0;34m=\u001b[0m \u001b[0mspec\u001b[0m\u001b[0;34m\u001b[0m\u001b[0m\n\u001b[0m\u001b[1;32m    268\u001b[0m         \u001b[0mC\u001b[0m \u001b[0;34m/=\u001b[0m \u001b[0mnFreqsPerChroma\u001b[0m\u001b[0;34m[\u001b[0m\u001b[0mnChroma\u001b[0m\u001b[0;34m]\u001b[0m\u001b[0;34m\u001b[0m\u001b[0m\n\u001b[1;32m    269\u001b[0m     \u001b[0;32melse\u001b[0m\u001b[0;34m:\u001b[0m\u001b[0;34m\u001b[0m\u001b[0m\n",
      "\u001b[0;31mIndexError\u001b[0m: index -9223372036854775808 is out of bounds for axis 1 with size 6400000"
     ]
    }
   ],
   "source": [
    "dirName=\"/Users/mclaugh/Desktop/test\"\n",
    "\n",
    "\n",
    "aF.mtFeatureExtractionToFileDir(dirName, midTermSize, \\\n",
    "    midTermStep, shortTermSize, shortTermStep, \\\n",
    "    storeStFeatures=False, storeToCSV=False, PLOT=False)"
   ]
  },
  {
   "cell_type": "code",
   "execution_count": null,
   "metadata": {
    "collapsed": true
   },
   "outputs": [],
   "source": []
  },
  {
   "cell_type": "code",
   "execution_count": null,
   "metadata": {
    "collapsed": true
   },
   "outputs": [],
   "source": []
  },
  {
   "cell_type": "code",
   "execution_count": null,
   "metadata": {
    "collapsed": true
   },
   "outputs": [],
   "source": []
  },
  {
   "cell_type": "code",
   "execution_count": null,
   "metadata": {
    "collapsed": true
   },
   "outputs": [],
   "source": []
  },
  {
   "cell_type": "code",
   "execution_count": null,
   "metadata": {
    "collapsed": true
   },
   "outputs": [],
   "source": []
  },
  {
   "cell_type": "code",
   "execution_count": null,
   "metadata": {
    "collapsed": true
   },
   "outputs": [],
   "source": []
  },
  {
   "cell_type": "code",
   "execution_count": null,
   "metadata": {
    "collapsed": true
   },
   "outputs": [],
   "source": []
  },
  {
   "cell_type": "code",
   "execution_count": null,
   "metadata": {
    "collapsed": true
   },
   "outputs": [],
   "source": []
  },
  {
   "cell_type": "code",
   "execution_count": null,
   "metadata": {
    "collapsed": true
   },
   "outputs": [],
   "source": []
  },
  {
   "cell_type": "code",
   "execution_count": null,
   "metadata": {
    "collapsed": true
   },
   "outputs": [],
   "source": []
  },
  {
   "cell_type": "code",
   "execution_count": null,
   "metadata": {
    "collapsed": true
   },
   "outputs": [],
   "source": []
  },
  {
   "cell_type": "code",
   "execution_count": null,
   "metadata": {
    "collapsed": true
   },
   "outputs": [],
   "source": []
  },
  {
   "cell_type": "code",
   "execution_count": null,
   "metadata": {
    "collapsed": true
   },
   "outputs": [],
   "source": []
  },
  {
   "cell_type": "code",
   "execution_count": null,
   "metadata": {
    "collapsed": true
   },
   "outputs": [],
   "source": []
  },
  {
   "cell_type": "code",
   "execution_count": null,
   "metadata": {
    "collapsed": true
   },
   "outputs": [],
   "source": []
  },
  {
   "cell_type": "code",
   "execution_count": null,
   "metadata": {
    "collapsed": true
   },
   "outputs": [],
   "source": []
  },
  {
   "cell_type": "code",
   "execution_count": null,
   "metadata": {
    "collapsed": true
   },
   "outputs": [],
   "source": []
  },
  {
   "cell_type": "code",
   "execution_count": null,
   "metadata": {
    "collapsed": true
   },
   "outputs": [],
   "source": []
  },
  {
   "cell_type": "code",
   "execution_count": null,
   "metadata": {
    "collapsed": true
   },
   "outputs": [],
   "source": []
  },
  {
   "cell_type": "markdown",
   "metadata": {},
   "source": [
    "## Extract 64 Mel-frequency cepstral coefficients with Librosa\n",
    "- fft window size = 2048"
   ]
  },
  {
   "cell_type": "code",
   "execution_count": null,
   "metadata": {},
   "outputs": [],
   "source": [
    "import librosa\n",
    "import pandas as pd  \n",
    "import numpy as np\n",
    "import os\n",
    "\n",
    "from __future__ import print_function  # for Python 3-style printing"
   ]
  },
  {
   "cell_type": "code",
   "execution_count": 2,
   "metadata": {},
   "outputs": [],
   "source": [
    "## Takes WAV file path and returns a pandas dataframe containing normalized MFCC data\n",
    "\n",
    "def wav_to_mfcc(audio_path):\n",
    "    y, sr = librosa.load(audio_path)\n",
    "    # Let's make a mel-scaled power (energy-squared) spectrogram\n",
    "    S = librosa.feature.melspectrogram(y, sr=sr, n_mels=64, n_fft=2048)\n",
    "    # Convert to log scale (dB). We'll use the peak power as reference.\n",
    "    log_S = librosa.logamplitude(S, ref_power=np.max)\n",
    "    log_S_rotated=np.rot90(log_S,3)\n",
    "    log_S_df=pd.pandas.DataFrame(log_S_rotated)\n",
    "    log_S_df['Value']=audio_path.split(\"/\")[-1].split(\"|\")[0]\n",
    "    log_S_df['Basename']=audio_path.split(\"/\")[-1].split(\"|\")[-1].strip(\".wav\").strip(\".mp4\").strip(\".mp3\")\n",
    "    return log_S_df\n",
    "\n",
    "## Takes WAV file path and writes MFCC data to CSV in the current working directory\n",
    "\n",
    "def mfcc_out(audio_path):\n",
    "    mfcc_1=wav_to_mfcc(audio_path)\n",
    "    mfcc_1.to_csv(audio_path.replace('.wav','')+\".mfcc.csv\", index=False)\n"
   ]
  },
  {
   "cell_type": "code",
   "execution_count": 3,
   "metadata": {},
   "outputs": [],
   "source": [
    "## Change to directory containing speech tag excerpts in WAV form\n",
    "\n",
    "wav_dir = os.path.expanduser('~/Dropbox/test_set_50_clips/')\n",
    "os.chdir(wav_dir)\n",
    "filenames=os.listdir('./')\n",
    "\n",
    "## \n",
    "\n",
    "for filename in filenames:\n",
    "    if \".wav\" in filename:\n",
    "        if filename.replace(\".wav\",\".mfcc.csv\") not in filenames:\n",
    "            try:\n",
    "                mfcc_out(filename)\n",
    "            except:\n",
    "                print(\"error: \"+filename)\n"
   ]
  },
  {
   "cell_type": "markdown",
   "metadata": {},
   "source": [
    "## Extract 13 Mel-frequency cepstral coefficients + 13 deltas + 13 delta-deltas\n",
    "- fft window size = 2048"
   ]
  },
  {
   "cell_type": "code",
   "execution_count": 4,
   "metadata": {
    "collapsed": true
   },
   "outputs": [],
   "source": [
    "## Takes WAV file path and returns a pandas dataframe containing 13 normalized MFCCs + deltas + delta-deltas\n",
    "\n",
    "def wav_to_mfcc_deltas(audio_path):\n",
    "    y, sr = librosa.load(audio_path)\n",
    "    S = librosa.feature.melspectrogram(y, sr=sr, n_mels=128, n_fft=2048)\n",
    "    log_S = librosa.logamplitude(S, ref_power=np.max)\n",
    "    mfcc = librosa.feature.mfcc(S=log_S, n_mfcc=13)\n",
    "    delta_mfcc  = librosa.feature.delta(mfcc)\n",
    "    delta2_mfcc = librosa.feature.delta(mfcc, order=2)\n",
    "    mfcc_all=pd.concat([pd.DataFrame(mfcc),pd.DataFrame(delta_mfcc),pd.DataFrame(delta2_mfcc)])\n",
    "    mfcc_rotated=np.rot90(mfcc_all,3)\n",
    "    mfcc_df=pd.pandas.DataFrame(mfcc_rotated)\n",
    "    mfcc_df['Value']=audio_path.split(\"/\")[-1].split(\"|\")[0]\n",
    "    mfcc_df['Basename']=audio_path.split(\"/\")[-1].split(\"|\")[-1].strip(\".wav\").strip(\".mp4\").strip(\".mp3\")\n",
    "    return mfcc_df\n",
    "\n",
    "## Takes WAV file path and writes MFCC data to CSV in the current working directory\n",
    "\n",
    "def mfcc_out_deltas(audio_path):\n",
    "    mfcc_1=wav_to_mfcc(audio_path)\n",
    "    mfcc_1.to_csv(audio_path.replace('.wav','')+\"_deltas.mfcc.csv\", index=False)\n"
   ]
  },
  {
   "cell_type": "code",
   "execution_count": 5,
   "metadata": {},
   "outputs": [],
   "source": [
    "wav_dir = os.path.expanduser('~/Dropbox/test_set_50_clips/')\n",
    "os.chdir(wav_dir)\n",
    "filenames=os.listdir('./')\n",
    "\n",
    "\n",
    "for filename in filenames:\n",
    "    if \".wav\" in filename:\n",
    "        if filename.replace(\".wav\",\"_deltas.mfcc.csv\") not in filenames:\n",
    "            try:\n",
    "                mfcc_out_deltas(filename)\n",
    "            except:\n",
    "                print(\"error : \"+filename)\n"
   ]
  },
  {
   "cell_type": "code",
   "execution_count": null,
   "metadata": {
    "collapsed": true
   },
   "outputs": [],
   "source": []
  }
 ],
 "metadata": {
  "kernelspec": {
   "display_name": "Python 2",
   "language": "python",
   "name": "python2"
  },
  "language_info": {
   "codemirror_mode": {
    "name": "ipython",
    "version": 2
   },
   "file_extension": ".py",
   "mimetype": "text/x-python",
   "name": "python",
   "nbconvert_exporter": "python",
   "pygments_lexer": "ipython2",
   "version": "2.7.12"
  }
 },
 "nbformat": 4,
 "nbformat_minor": 1
}
