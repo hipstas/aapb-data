{
 "cells": [
  {
   "cell_type": "code",
   "execution_count": 1,
   "metadata": {
    "collapsed": true
   },
   "outputs": [],
   "source": [
    "import pandas as pd\n",
    "import numpy as np\n",
    "import os"
   ]
  },
  {
   "cell_type": "code",
   "execution_count": 2,
   "metadata": {},
   "outputs": [],
   "source": [
    "os.chdir('/Users/mclaugh/Dropbox/aapb-hipstas')"
   ]
  },
  {
   "cell_type": "code",
   "execution_count": 3,
   "metadata": {},
   "outputs": [],
   "source": [
    "aapb_metadata=pd.read_csv(\"Tables/AAPB_ARLO_400hrs_161007.csv\")"
   ]
  },
  {
   "cell_type": "code",
   "execution_count": 4,
   "metadata": {},
   "outputs": [
    {
     "data": {
      "text/plain": [
       "'AAPB_all_durations'"
      ]
     },
     "execution_count": 4,
     "metadata": {},
     "output_type": "execute_result"
    }
   ],
   "source": [
    "\"AAPB_all_durations\""
   ]
  },
  {
   "cell_type": "code",
   "execution_count": 5,
   "metadata": {
    "collapsed": true
   },
   "outputs": [],
   "source": [
    "aapb_metadata['File Duration']=\"\""
   ]
  },
  {
   "cell_type": "code",
   "execution_count": 6,
   "metadata": {},
   "outputs": [
    {
     "data": {
      "text/plain": [
       "AAPB Unique Identifier (GUID)              cpb-aacip/500-j9609t48\n",
       "Type                                    Significant speaker voice\n",
       "Value                                            Kennedy, John F.\n",
       "Timecode IN                                              00:01:59\n",
       "Timecode OUT                                             00:04:14\n",
       "Duration                                                      NaN\n",
       "dur_hh                                                        NaN\n",
       "dur_mm                                                        NaN\n",
       "dur_ss                                                        NaN\n",
       "seq_duration_SS                                              1720\n",
       "seq_duration_hh_mm_ss                                    00:28:40\n",
       "SonyCi ID                        6d54987efa73413cb3558c95baa907a6\n",
       "Filename                               cpb-aacip-500-j9609t48.mp3\n",
       "File Duration                                                    \n",
       "Name: 2, dtype: object"
      ]
     },
     "execution_count": 6,
     "metadata": {},
     "output_type": "execute_result"
    }
   ],
   "source": [
    "aapb_metadata.iloc[2]"
   ]
  },
  {
   "cell_type": "code",
   "execution_count": 7,
   "metadata": {},
   "outputs": [],
   "source": [
    "filenames=os.listdir(\"/Users/mclaugh/Dropbox/aapb-hipstas/AAPB_all_durations\")\n",
    "os.chdir(\"/Users/mclaugh/Dropbox/aapb-hipstas/AAPB_all_durations\")\n",
    "\n",
    "dur_dict={}\n",
    "\n",
    "for filename in [fname for fname in filenames if \"duration_filenames\" in fname]:\n",
    "    names = open(filename).read().splitlines()\n",
    "    durations = open(filename.replace(\"duration_filenames\",\"duration_seconds\")).read().splitlines()\n",
    "    if len(names)!=len(durations):\n",
    "        print(filename)\n",
    "    for i in range(len(names)):\n",
    "        dur_dict[names[i][:-4]]=durations[i]\n",
    "    \n",
    "#Jim_Lehrer_duration_filenames.txt\n",
    "#Jim_Lehrer_duration_seconds.txt"
   ]
  },
  {
   "cell_type": "code",
   "execution_count": 8,
   "metadata": {},
   "outputs": [],
   "source": [
    "filename=[fname for fname in filenames if \"duration_filenames\" in fname][0]"
   ]
  },
  {
   "cell_type": "code",
   "execution_count": 9,
   "metadata": {},
   "outputs": [
    {
     "data": {
      "text/plain": [
       "'92.763719'"
      ]
     },
     "execution_count": 9,
     "metadata": {},
     "output_type": "execute_result"
    }
   ],
   "source": [
    "dur_dict['cpb-aacip-15-sf2m61c214__barcode9544_clip1_.h264']"
   ]
  },
  {
   "cell_type": "code",
   "execution_count": null,
   "metadata": {},
   "outputs": [],
   "source": []
  },
  {
   "cell_type": "code",
   "execution_count": 10,
   "metadata": {},
   "outputs": [
    {
     "data": {
      "text/plain": [
       "Index(['AAPB Unique Identifier (GUID)', 'Type', 'Value', 'Timecode IN',\n",
       "       'Timecode OUT', 'Duration', 'dur_hh', 'dur_mm', 'dur_ss',\n",
       "       'seq_duration_SS', 'seq_duration_hh_mm_ss', 'SonyCi ID', 'Filename',\n",
       "       'File Duration'],\n",
       "      dtype='object')"
      ]
     },
     "execution_count": 10,
     "metadata": {},
     "output_type": "execute_result"
    }
   ],
   "source": [
    "aapb_metadata.columns"
   ]
  },
  {
   "cell_type": "code",
   "execution_count": 11,
   "metadata": {},
   "outputs": [
    {
     "name": "stdout",
     "output_type": "stream",
     "text": [
      "\n",
      "\n",
      "\n",
      "\n",
      "\n"
     ]
    }
   ],
   "source": [
    "#Adding duration for existing rows\n",
    "\n",
    "for i in range(len(aapb_metadata)):\n",
    "    row=aapb_metadata.iloc[i]\n",
    "    basename=str(row['Filename'])[:-4]\n",
    "    try:\n",
    "        #print(str(dur_dict[basename]))\n",
    "        aapb_metadata.set_value(i, 'File Duration', dur_dict[basename])\n",
    "    except:\n",
    "        print(basename)\n",
    "    \n"
   ]
  },
  {
   "cell_type": "code",
   "execution_count": 12,
   "metadata": {},
   "outputs": [
    {
     "data": {
      "text/plain": [
       "AAPB Unique Identifier (GUID)               cpb-aacip/55-13906d8q\n",
       "Type                                    Significant speaker voice\n",
       "Value                                              Pepin, Jacques\n",
       "Timecode IN                                              00:03:12\n",
       "Timecode OUT                                             00:03:33\n",
       "Duration                                                 00:27:59\n",
       "dur_hh                                                          0\n",
       "dur_mm                                                         27\n",
       "dur_ss                                                         59\n",
       "seq_duration_SS                                           1025516\n",
       "seq_duration_hh_mm_ss                                   284:51:56\n",
       "SonyCi ID                        faa33cbe9f8046c38bf2cab5ea54736c\n",
       "Filename                           cpb-aacip-55-13906d8q.h264.mp4\n",
       "File Duration                                         1679.500000\n",
       "Name: 1099, dtype: object"
      ]
     },
     "execution_count": 12,
     "metadata": {},
     "output_type": "execute_result"
    }
   ],
   "source": [
    "aapb_metadata.iloc[1099]"
   ]
  },
  {
   "cell_type": "code",
   "execution_count": 13,
   "metadata": {},
   "outputs": [
    {
     "data": {
      "text/plain": [
       "192"
      ]
     },
     "execution_count": 13,
     "metadata": {},
     "output_type": "execute_result"
    }
   ],
   "source": [
    "hms=aapb_metadata.iloc[1099]['Timecode IN']\n",
    "\n",
    "def hms_to_sec(hms):\n",
    "    vals=[int(item) for item in hms.split(':')]\n",
    "    return (60*60*vals[0])+(60*vals[1])+(vals[2])\n",
    "\n",
    "hms_to_sec(hms)\n"
   ]
  },
  {
   "cell_type": "code",
   "execution_count": null,
   "metadata": {},
   "outputs": [],
   "source": []
  },
  {
   "cell_type": "code",
   "execution_count": 14,
   "metadata": {},
   "outputs": [],
   "source": [
    "for i in range(len(aapb_metadata)):\n",
    "    row=aapb_metadata.iloc[i]\n",
    "    #print(row['Timecode IN'])\n",
    "    seconds_in=hms_to_sec(row['Timecode IN'])\n",
    "    #print(row['Timecode OUT'])\n",
    "    seconds_out=hms_to_sec(row['Timecode OUT'])\n",
    "    try:\n",
    "        aapb_metadata.set_value(i, 'Timecode IN', seconds_in)\n",
    "        aapb_metadata.set_value(i, 'Timecode OUT', seconds_out)\n",
    "    except:\n",
    "        print(row['Filename'])\n",
    "    \n"
   ]
  },
  {
   "cell_type": "code",
   "execution_count": 15,
   "metadata": {},
   "outputs": [
    {
     "data": {
      "text/plain": [
       "Index(['AAPB Unique Identifier (GUID)', 'Type', 'Value', 'Timecode IN',\n",
       "       'Timecode OUT', 'Duration', 'dur_hh', 'dur_mm', 'dur_ss',\n",
       "       'seq_duration_SS', 'seq_duration_hh_mm_ss', 'SonyCi ID', 'Filename',\n",
       "       'File Duration'],\n",
       "      dtype='object')"
      ]
     },
     "execution_count": 15,
     "metadata": {},
     "output_type": "execute_result"
    }
   ],
   "source": [
    "aapb_metadata.columns"
   ]
  },
  {
   "cell_type": "code",
   "execution_count": 16,
   "metadata": {},
   "outputs": [
    {
     "data": {
      "text/plain": [
       "Index(['AAPB Unique Identifier (GUID)', 'Type', 'Value', 'Timecode IN',\n",
       "       'Timecode OUT', 'Duration', 'dur_hh', 'dur_mm', 'dur_ss',\n",
       "       'seq_duration_SS', 'seq_duration_hh_mm_ss', 'SonyCi ID', 'Filename',\n",
       "       'File Duration'],\n",
       "      dtype='object')"
      ]
     },
     "execution_count": 16,
     "metadata": {},
     "output_type": "execute_result"
    }
   ],
   "source": [
    "aapb_metadata.columns"
   ]
  },
  {
   "cell_type": "code",
   "execution_count": 17,
   "metadata": {},
   "outputs": [],
   "source": [
    "aapb_metadata[['AAPB Unique Identifier (GUID)', 'Type', 'Value', 'Timecode IN',\n",
    "       'Timecode OUT', 'File Duration','SonyCi ID', 'Filename']].to_csv('../AAPB_ARLO_400hrs_170412.csv',index=False)"
   ]
  },
  {
   "cell_type": "code",
   "execution_count": null,
   "metadata": {},
   "outputs": [],
   "source": []
  },
  {
   "cell_type": "code",
   "execution_count": null,
   "metadata": {
    "collapsed": true
   },
   "outputs": [],
   "source": []
  },
  {
   "cell_type": "code",
   "execution_count": null,
   "metadata": {
    "collapsed": true
   },
   "outputs": [],
   "source": []
  },
  {
   "cell_type": "code",
   "execution_count": null,
   "metadata": {
    "collapsed": true
   },
   "outputs": [],
   "source": []
  },
  {
   "cell_type": "code",
   "execution_count": 18,
   "metadata": {},
   "outputs": [],
   "source": [
    "columns=['AAPB Unique Identifier (GUID)', 'Type', 'Value', 'Timecode IN',\n",
    "       'Timecode OUT', 'File Duration','SonyCi ID', 'Filename']\n",
    "\n",
    "extended_corpus_table=pd.DataFrame(columns=['Timecode IN', 'class_no', 'tag_duration', 'class ID', 'Filename'])"
   ]
  },
  {
   "cell_type": "code",
   "execution_count": 19,
   "metadata": {
    "collapsed": true
   },
   "outputs": [],
   "source": [
    "speaker_dirs=os.listdir('/Users/mclaugh/Dropbox/aapb-hipstas/Annotations_Human_Corrected')\n",
    "os.chdir('/Users/mclaugh/Dropbox/aapb-hipstas/Annotations_Human_Corrected')"
   ]
  },
  {
   "cell_type": "code",
   "execution_count": 20,
   "metadata": {},
   "outputs": [],
   "source": [
    "table=[]\n",
    "for speaker_dir in [item for item in speaker_dirs if '.DS_Store' not in item]:\n",
    "    csvs=[item for item in os.listdir(speaker_dir) if \"_corrected.csv\" in item]\n",
    "    for csv in csvs:\n",
    "            try:\n",
    "                table=pd.read_csv(speaker_dir+'/'+csv)\n",
    "                table.columns=[\"Timecode IN\",\"class_no\",\"tag_duration\",\"class ID\"]\n",
    "                basename=csv.replace(\"_corrected.csv\",\"\")\n",
    "                table['Filename']=basename\n",
    "                extended_corpus_table=extended_corpus_table.append(table.dropna(),ignore_index=True)\n",
    "            except: pass\n"
   ]
  },
  {
   "cell_type": "code",
   "execution_count": 21,
   "metadata": {},
   "outputs": [
    {
     "data": {
      "text/html": [
       "<div>\n",
       "<table border=\"1\" class=\"dataframe\">\n",
       "  <thead>\n",
       "    <tr style=\"text-align: right;\">\n",
       "      <th></th>\n",
       "      <th>Timecode IN</th>\n",
       "      <th>class_no</th>\n",
       "      <th>tag_duration</th>\n",
       "      <th>class ID</th>\n",
       "      <th>Filename</th>\n",
       "    </tr>\n",
       "  </thead>\n",
       "  <tbody>\n",
       "    <tr>\n",
       "      <th>0</th>\n",
       "      <td>2120.074739229</td>\n",
       "      <td>0.0</td>\n",
       "      <td>3.924172</td>\n",
       "      <td>Applause</td>\n",
       "      <td>cpb-aacip-75-88qbzvhx.h264</td>\n",
       "    </tr>\n",
       "    <tr>\n",
       "      <th>1</th>\n",
       "      <td>2174.293333333</td>\n",
       "      <td>1.0</td>\n",
       "      <td>4.574331</td>\n",
       "      <td>Richard Nixon</td>\n",
       "      <td>cpb-aacip-75-88qbzvhx.h264</td>\n",
       "    </tr>\n",
       "    <tr>\n",
       "      <th>2</th>\n",
       "      <td>2196.839909297</td>\n",
       "      <td>1.0</td>\n",
       "      <td>15.116190</td>\n",
       "      <td>Richard Nixon</td>\n",
       "      <td>cpb-aacip-75-88qbzvhx.h264</td>\n",
       "    </tr>\n",
       "    <tr>\n",
       "      <th>3</th>\n",
       "      <td>2220.338503401</td>\n",
       "      <td>1.0</td>\n",
       "      <td>13.885533</td>\n",
       "      <td>Richard Nixon</td>\n",
       "      <td>cpb-aacip-75-88qbzvhx.h264</td>\n",
       "    </tr>\n",
       "    <tr>\n",
       "      <th>4</th>\n",
       "      <td>2378.884353741</td>\n",
       "      <td>1.0</td>\n",
       "      <td>10.147120</td>\n",
       "      <td>Richard Nixon</td>\n",
       "      <td>cpb-aacip-75-88qbzvhx.h264</td>\n",
       "    </tr>\n",
       "    <tr>\n",
       "      <th>5</th>\n",
       "      <td>2433.962086167</td>\n",
       "      <td>1.0</td>\n",
       "      <td>5.712109</td>\n",
       "      <td>Richard Nixon</td>\n",
       "      <td>cpb-aacip-75-88qbzvhx.h264</td>\n",
       "    </tr>\n",
       "  </tbody>\n",
       "</table>\n",
       "</div>"
      ],
      "text/plain": [
       "      Timecode IN  class_no  tag_duration       class ID  \\\n",
       "0  2120.074739229       0.0      3.924172       Applause   \n",
       "1  2174.293333333       1.0      4.574331  Richard Nixon   \n",
       "2  2196.839909297       1.0     15.116190  Richard Nixon   \n",
       "3  2220.338503401       1.0     13.885533  Richard Nixon   \n",
       "4  2378.884353741       1.0     10.147120  Richard Nixon   \n",
       "5  2433.962086167       1.0      5.712109  Richard Nixon   \n",
       "\n",
       "                     Filename  \n",
       "0  cpb-aacip-75-88qbzvhx.h264  \n",
       "1  cpb-aacip-75-88qbzvhx.h264  \n",
       "2  cpb-aacip-75-88qbzvhx.h264  \n",
       "3  cpb-aacip-75-88qbzvhx.h264  \n",
       "4  cpb-aacip-75-88qbzvhx.h264  \n",
       "5  cpb-aacip-75-88qbzvhx.h264  "
      ]
     },
     "execution_count": 21,
     "metadata": {},
     "output_type": "execute_result"
    }
   ],
   "source": [
    "table.dropna()"
   ]
  },
  {
   "cell_type": "code",
   "execution_count": 22,
   "metadata": {},
   "outputs": [
    {
     "data": {
      "text/html": [
       "<div>\n",
       "<table border=\"1\" class=\"dataframe\">\n",
       "  <thead>\n",
       "    <tr style=\"text-align: right;\">\n",
       "      <th></th>\n",
       "      <th>Timecode IN</th>\n",
       "      <th>class_no</th>\n",
       "      <th>tag_duration</th>\n",
       "      <th>class ID</th>\n",
       "      <th>Filename</th>\n",
       "    </tr>\n",
       "  </thead>\n",
       "  <tbody>\n",
       "    <tr>\n",
       "      <th>926</th>\n",
       "      <td>398.421333333</td>\n",
       "      <td>1.0</td>\n",
       "      <td>153.400000</td>\n",
       "      <td>Richard Nixon</td>\n",
       "      <td>cpb-aacip-27-qj77s7jb3g__WYSO_PA_40B_</td>\n",
       "    </tr>\n",
       "    <tr>\n",
       "      <th>927</th>\n",
       "      <td>591.509333333</td>\n",
       "      <td>1.0</td>\n",
       "      <td>53.536000</td>\n",
       "      <td>Richard Nixon</td>\n",
       "      <td>cpb-aacip-27-qj77s7jb3g__WYSO_PA_40B_</td>\n",
       "    </tr>\n",
       "    <tr>\n",
       "      <th>928</th>\n",
       "      <td>658.176000000</td>\n",
       "      <td>1.0</td>\n",
       "      <td>8.341333</td>\n",
       "      <td>Richard Nixon</td>\n",
       "      <td>cpb-aacip-27-qj77s7jb3g__WYSO_PA_40B_</td>\n",
       "    </tr>\n",
       "    <tr>\n",
       "      <th>929</th>\n",
       "      <td>668.501333333</td>\n",
       "      <td>1.0</td>\n",
       "      <td>362.453333</td>\n",
       "      <td>Richard Nixon</td>\n",
       "      <td>cpb-aacip-27-qj77s7jb3g__WYSO_PA_40B_</td>\n",
       "    </tr>\n",
       "    <tr>\n",
       "      <th>930</th>\n",
       "      <td>1050.730666666</td>\n",
       "      <td>1.0</td>\n",
       "      <td>1.706667</td>\n",
       "      <td>Richard Nixon</td>\n",
       "      <td>cpb-aacip-27-qj77s7jb3g__WYSO_PA_40B_</td>\n",
       "    </tr>\n",
       "    <tr>\n",
       "      <th>931</th>\n",
       "      <td>1058.560000000</td>\n",
       "      <td>1.0</td>\n",
       "      <td>9.493333</td>\n",
       "      <td>Richard Nixon</td>\n",
       "      <td>cpb-aacip-27-qj77s7jb3g__WYSO_PA_40B_</td>\n",
       "    </tr>\n",
       "    <tr>\n",
       "      <th>932</th>\n",
       "      <td>1071.082666666</td>\n",
       "      <td>1.0</td>\n",
       "      <td>166.258667</td>\n",
       "      <td>Richard Nixon</td>\n",
       "      <td>cpb-aacip-27-qj77s7jb3g__WYSO_PA_40B_</td>\n",
       "    </tr>\n",
       "    <tr>\n",
       "      <th>933</th>\n",
       "      <td>1258.752000000</td>\n",
       "      <td>1.0</td>\n",
       "      <td>1.386667</td>\n",
       "      <td>Richard Nixon</td>\n",
       "      <td>cpb-aacip-27-qj77s7jb3g__WYSO_PA_40B_</td>\n",
       "    </tr>\n",
       "    <tr>\n",
       "      <th>934</th>\n",
       "      <td>1263.968000000</td>\n",
       "      <td>1.0</td>\n",
       "      <td>131.760000</td>\n",
       "      <td>Richard Nixon</td>\n",
       "      <td>cpb-aacip-27-qj77s7jb3g__WYSO_PA_40B_</td>\n",
       "    </tr>\n",
       "    <tr>\n",
       "      <th>935</th>\n",
       "      <td>1396.200000000</td>\n",
       "      <td>0.0</td>\n",
       "      <td>4.600000</td>\n",
       "      <td>Applause</td>\n",
       "      <td>cpb-aacip-27-qj77s7jb3g__WYSO_PA_40B_</td>\n",
       "    </tr>\n",
       "    <tr>\n",
       "      <th>936</th>\n",
       "      <td>2171.000000000</td>\n",
       "      <td>0.0</td>\n",
       "      <td>3.000000</td>\n",
       "      <td>Applause</td>\n",
       "      <td>cpb-aacip-27-xd0qr4p87g__WYSO_M_375A_</td>\n",
       "    </tr>\n",
       "    <tr>\n",
       "      <th>937</th>\n",
       "      <td>2414.000000000</td>\n",
       "      <td>0.0</td>\n",
       "      <td>1.000000</td>\n",
       "      <td>Applause</td>\n",
       "      <td>cpb-aacip-27-xd0qr4p87g__WYSO_M_375A_</td>\n",
       "    </tr>\n",
       "    <tr>\n",
       "      <th>938</th>\n",
       "      <td>2829.000000000</td>\n",
       "      <td>0.0</td>\n",
       "      <td>1.000000</td>\n",
       "      <td>Applause</td>\n",
       "      <td>cpb-aacip-27-xd0qr4p87g__WYSO_M_375A_</td>\n",
       "    </tr>\n",
       "    <tr>\n",
       "      <th>939</th>\n",
       "      <td>3674.000000000</td>\n",
       "      <td>0.0</td>\n",
       "      <td>3.000000</td>\n",
       "      <td>Applause</td>\n",
       "      <td>cpb-aacip-27-xd0qr4p87g__WYSO_M_375A_</td>\n",
       "    </tr>\n",
       "    <tr>\n",
       "      <th>940</th>\n",
       "      <td>2120.074739229</td>\n",
       "      <td>0.0</td>\n",
       "      <td>3.924172</td>\n",
       "      <td>Applause</td>\n",
       "      <td>cpb-aacip-75-88qbzvhx.h264</td>\n",
       "    </tr>\n",
       "    <tr>\n",
       "      <th>941</th>\n",
       "      <td>2174.293333333</td>\n",
       "      <td>1.0</td>\n",
       "      <td>4.574331</td>\n",
       "      <td>Richard Nixon</td>\n",
       "      <td>cpb-aacip-75-88qbzvhx.h264</td>\n",
       "    </tr>\n",
       "    <tr>\n",
       "      <th>942</th>\n",
       "      <td>2196.839909297</td>\n",
       "      <td>1.0</td>\n",
       "      <td>15.116190</td>\n",
       "      <td>Richard Nixon</td>\n",
       "      <td>cpb-aacip-75-88qbzvhx.h264</td>\n",
       "    </tr>\n",
       "    <tr>\n",
       "      <th>943</th>\n",
       "      <td>2220.338503401</td>\n",
       "      <td>1.0</td>\n",
       "      <td>13.885533</td>\n",
       "      <td>Richard Nixon</td>\n",
       "      <td>cpb-aacip-75-88qbzvhx.h264</td>\n",
       "    </tr>\n",
       "    <tr>\n",
       "      <th>944</th>\n",
       "      <td>2378.884353741</td>\n",
       "      <td>1.0</td>\n",
       "      <td>10.147120</td>\n",
       "      <td>Richard Nixon</td>\n",
       "      <td>cpb-aacip-75-88qbzvhx.h264</td>\n",
       "    </tr>\n",
       "    <tr>\n",
       "      <th>945</th>\n",
       "      <td>2433.962086167</td>\n",
       "      <td>1.0</td>\n",
       "      <td>5.712109</td>\n",
       "      <td>Richard Nixon</td>\n",
       "      <td>cpb-aacip-75-88qbzvhx.h264</td>\n",
       "    </tr>\n",
       "  </tbody>\n",
       "</table>\n",
       "</div>"
      ],
      "text/plain": [
       "        Timecode IN  class_no  tag_duration       class ID  \\\n",
       "926   398.421333333       1.0    153.400000  Richard Nixon   \n",
       "927   591.509333333       1.0     53.536000  Richard Nixon   \n",
       "928   658.176000000       1.0      8.341333  Richard Nixon   \n",
       "929   668.501333333       1.0    362.453333  Richard Nixon   \n",
       "930  1050.730666666       1.0      1.706667  Richard Nixon   \n",
       "931  1058.560000000       1.0      9.493333  Richard Nixon   \n",
       "932  1071.082666666       1.0    166.258667  Richard Nixon   \n",
       "933  1258.752000000       1.0      1.386667  Richard Nixon   \n",
       "934  1263.968000000       1.0    131.760000  Richard Nixon   \n",
       "935  1396.200000000       0.0      4.600000       Applause   \n",
       "936  2171.000000000       0.0      3.000000       Applause   \n",
       "937  2414.000000000       0.0      1.000000       Applause   \n",
       "938  2829.000000000       0.0      1.000000       Applause   \n",
       "939  3674.000000000       0.0      3.000000       Applause   \n",
       "940  2120.074739229       0.0      3.924172       Applause   \n",
       "941  2174.293333333       1.0      4.574331  Richard Nixon   \n",
       "942  2196.839909297       1.0     15.116190  Richard Nixon   \n",
       "943  2220.338503401       1.0     13.885533  Richard Nixon   \n",
       "944  2378.884353741       1.0     10.147120  Richard Nixon   \n",
       "945  2433.962086167       1.0      5.712109  Richard Nixon   \n",
       "\n",
       "                                  Filename  \n",
       "926  cpb-aacip-27-qj77s7jb3g__WYSO_PA_40B_  \n",
       "927  cpb-aacip-27-qj77s7jb3g__WYSO_PA_40B_  \n",
       "928  cpb-aacip-27-qj77s7jb3g__WYSO_PA_40B_  \n",
       "929  cpb-aacip-27-qj77s7jb3g__WYSO_PA_40B_  \n",
       "930  cpb-aacip-27-qj77s7jb3g__WYSO_PA_40B_  \n",
       "931  cpb-aacip-27-qj77s7jb3g__WYSO_PA_40B_  \n",
       "932  cpb-aacip-27-qj77s7jb3g__WYSO_PA_40B_  \n",
       "933  cpb-aacip-27-qj77s7jb3g__WYSO_PA_40B_  \n",
       "934  cpb-aacip-27-qj77s7jb3g__WYSO_PA_40B_  \n",
       "935  cpb-aacip-27-qj77s7jb3g__WYSO_PA_40B_  \n",
       "936  cpb-aacip-27-xd0qr4p87g__WYSO_M_375A_  \n",
       "937  cpb-aacip-27-xd0qr4p87g__WYSO_M_375A_  \n",
       "938  cpb-aacip-27-xd0qr4p87g__WYSO_M_375A_  \n",
       "939  cpb-aacip-27-xd0qr4p87g__WYSO_M_375A_  \n",
       "940             cpb-aacip-75-88qbzvhx.h264  \n",
       "941             cpb-aacip-75-88qbzvhx.h264  \n",
       "942             cpb-aacip-75-88qbzvhx.h264  \n",
       "943             cpb-aacip-75-88qbzvhx.h264  \n",
       "944             cpb-aacip-75-88qbzvhx.h264  \n",
       "945             cpb-aacip-75-88qbzvhx.h264  "
      ]
     },
     "execution_count": 22,
     "metadata": {},
     "output_type": "execute_result"
    }
   ],
   "source": [
    "extended_corpus_table.tail(20)"
   ]
  },
  {
   "cell_type": "code",
   "execution_count": null,
   "metadata": {
    "collapsed": true
   },
   "outputs": [],
   "source": []
  },
  {
   "cell_type": "code",
   "execution_count": 23,
   "metadata": {},
   "outputs": [],
   "source": [
    "extended_corpus_table[\"Timecode OUT\"]=\"\"\n",
    "\n",
    "for i in range(len(extended_corpus_table)):\n",
    "    row=extended_corpus_table.iloc[i]\n",
    "    #print(row['Timecode IN'])\n",
    "    seconds_in=float(row['Timecode IN'])\n",
    "    #print(row['Timecode OUT'])\n",
    "    tag_dur=float(row['tag_duration'])\n",
    "    #print(seconds_in+tag_dur)\n",
    "    extended_corpus_table.set_value(i, 'Timecode OUT', seconds_in+tag_dur)\n",
    "\n"
   ]
  },
  {
   "cell_type": "code",
   "execution_count": null,
   "metadata": {
    "collapsed": true
   },
   "outputs": [],
   "source": []
  },
  {
   "cell_type": "code",
   "execution_count": 24,
   "metadata": {},
   "outputs": [],
   "source": [
    "#Adding duration for existing rows\n",
    "\n",
    "extended_corpus_table[\"File Duration\"]=\"\"\n",
    "\n",
    "for i in range(len(extended_corpus_table)):\n",
    "    row=extended_corpus_table.iloc[i]\n",
    "    basename=str(row['Filename'])\n",
    "    try:\n",
    "        #print(str(dur_dict[basename]))\n",
    "        extended_corpus_table.set_value(i, 'File Duration', dur_dict[basename])\n",
    "    except:\n",
    "        print(basename)\n",
    "    \n"
   ]
  },
  {
   "cell_type": "code",
   "execution_count": null,
   "metadata": {
    "collapsed": true
   },
   "outputs": [],
   "source": []
  },
  {
   "cell_type": "code",
   "execution_count": null,
   "metadata": {
    "collapsed": true
   },
   "outputs": [],
   "source": []
  },
  {
   "cell_type": "code",
   "execution_count": 25,
   "metadata": {},
   "outputs": [],
   "source": [
    "extended_corpus_table['AAPB Unique Identifier (GUID)']=''\n",
    "extended_corpus_table['Type']=''\n",
    "extended_corpus_table['Value']=''\n",
    "extended_corpus_table['SonyCi ID']=''\n"
   ]
  },
  {
   "cell_type": "code",
   "execution_count": null,
   "metadata": {
    "collapsed": true
   },
   "outputs": [],
   "source": []
  },
  {
   "cell_type": "code",
   "execution_count": 26,
   "metadata": {},
   "outputs": [
    {
     "data": {
      "text/plain": [
       "Index(['Timecode IN', 'class_no', 'tag_duration', 'class ID', 'Filename',\n",
       "       'Timecode OUT', 'File Duration', 'AAPB Unique Identifier (GUID)',\n",
       "       'Type', 'Value', 'SonyCi ID'],\n",
       "      dtype='object')"
      ]
     },
     "execution_count": 26,
     "metadata": {},
     "output_type": "execute_result"
    }
   ],
   "source": [
    "extended_corpus_table.columns"
   ]
  },
  {
   "cell_type": "code",
   "execution_count": 27,
   "metadata": {},
   "outputs": [],
   "source": [
    "full_table=pd.concat([aapb_metadata,extended_corpus_table],ignore_index=True)"
   ]
  },
  {
   "cell_type": "code",
   "execution_count": 28,
   "metadata": {},
   "outputs": [],
   "source": [
    "full_table=full_table[['AAPB Unique Identifier (GUID)', 'Type', 'Value','class ID', 'Timecode IN',\n",
    "       'Timecode OUT', 'File Duration','SonyCi ID', 'Filename']]\n"
   ]
  },
  {
   "cell_type": "code",
   "execution_count": 29,
   "metadata": {},
   "outputs": [],
   "source": [
    "full_table['Tag Duration']=''\n",
    "\n",
    "\n",
    "for i in range(len(full_table)):\n",
    "    row=full_table.iloc[i]\n",
    "    time_in=float(row['Timecode IN'])\n",
    "    time_out=float(row['Timecode OUT'])\n",
    "    tag_duration=time_out-time_in\n",
    "    if tag_duration<=0:\n",
    "        print(\"Error!: \"+row['Filename'])\n",
    "    try:\n",
    "        #print(str(dur_dict[basename]))\n",
    "        full_table.set_value(i, 'Tag Duration', tag_duration)\n",
    "    except:\n",
    "        print(row['Filename'])\n",
    "    \n"
   ]
  },
  {
   "cell_type": "code",
   "execution_count": 38,
   "metadata": {},
   "outputs": [
    {
     "data": {
      "text/html": [
       "<div>\n",
       "<table border=\"1\" class=\"dataframe\">\n",
       "  <thead>\n",
       "    <tr style=\"text-align: right;\">\n",
       "      <th></th>\n",
       "      <th>AAPB Unique Identifier (GUID)</th>\n",
       "      <th>Type</th>\n",
       "      <th>Value</th>\n",
       "      <th>class ID</th>\n",
       "      <th>Timecode IN</th>\n",
       "      <th>Timecode OUT</th>\n",
       "      <th>File Duration</th>\n",
       "      <th>SonyCi ID</th>\n",
       "      <th>Filename</th>\n",
       "      <th>Tag Duration</th>\n",
       "    </tr>\n",
       "  </thead>\n",
       "  <tbody>\n",
       "    <tr>\n",
       "      <th>2422</th>\n",
       "      <td></td>\n",
       "      <td></td>\n",
       "      <td>Nixon, Richard</td>\n",
       "      <td>Richard Nixon</td>\n",
       "      <td>2220.338503401</td>\n",
       "      <td>2234.22</td>\n",
       "      <td>3544.062000</td>\n",
       "      <td></td>\n",
       "      <td>cpb-aacip-75-88qbzvhx.h264</td>\n",
       "      <td>13.8855</td>\n",
       "    </tr>\n",
       "    <tr>\n",
       "      <th>2423</th>\n",
       "      <td></td>\n",
       "      <td></td>\n",
       "      <td>Nixon, Richard</td>\n",
       "      <td>Richard Nixon</td>\n",
       "      <td>2378.884353741</td>\n",
       "      <td>2389.03</td>\n",
       "      <td>3544.062000</td>\n",
       "      <td></td>\n",
       "      <td>cpb-aacip-75-88qbzvhx.h264</td>\n",
       "      <td>10.1471</td>\n",
       "    </tr>\n",
       "    <tr>\n",
       "      <th>2424</th>\n",
       "      <td></td>\n",
       "      <td></td>\n",
       "      <td>Nixon, Richard</td>\n",
       "      <td>Richard Nixon</td>\n",
       "      <td>2433.962086167</td>\n",
       "      <td>2439.67</td>\n",
       "      <td>3544.062000</td>\n",
       "      <td></td>\n",
       "      <td>cpb-aacip-75-88qbzvhx.h264</td>\n",
       "      <td>5.71211</td>\n",
       "    </tr>\n",
       "  </tbody>\n",
       "</table>\n",
       "</div>"
      ],
      "text/plain": [
       "     AAPB Unique Identifier (GUID) Type           Value       class ID  \\\n",
       "2422                                     Nixon, Richard  Richard Nixon   \n",
       "2423                                     Nixon, Richard  Richard Nixon   \n",
       "2424                                     Nixon, Richard  Richard Nixon   \n",
       "\n",
       "         Timecode IN Timecode OUT File Duration SonyCi ID  \\\n",
       "2422  2220.338503401      2234.22   3544.062000             \n",
       "2423  2378.884353741      2389.03   3544.062000             \n",
       "2424  2433.962086167      2439.67   3544.062000             \n",
       "\n",
       "                        Filename Tag Duration  \n",
       "2422  cpb-aacip-75-88qbzvhx.h264      13.8855  \n",
       "2423  cpb-aacip-75-88qbzvhx.h264      10.1471  \n",
       "2424  cpb-aacip-75-88qbzvhx.h264      5.71211  "
      ]
     },
     "execution_count": 38,
     "metadata": {},
     "output_type": "execute_result"
    }
   ],
   "source": [
    "full_table.tail(3)"
   ]
  },
  {
   "cell_type": "code",
   "execution_count": 31,
   "metadata": {},
   "outputs": [],
   "source": [
    "\n",
    "\n",
    "\n",
    "for i in range(len(full_table)):\n",
    "    row=full_table.iloc[i]\n",
    "    class_ID=str(row['class ID'])\n",
    "    value=\"\"\n",
    "    if class_ID==\"Richard Nixon\":\n",
    "        value=\"Nixon, Richard\"\n",
    "    elif class_ID==\"Malcolm X\":\n",
    "        value=\"X, Malcolm\"\n",
    "    elif class_ID==\"Julia Child\":\n",
    "        value=\"Child, Julia\"\n",
    "    elif class_ID=='Lyndon Johnson':\n",
    "        value=\"Johnson, Lyndon\"\n",
    "    elif class_ID==' Julia Child':\n",
    "        value=\"Child, Julia\"\n",
    "    elif class_ID=='RIchard Nixon':\n",
    "        value=\"Nixon, Richard\"\n",
    "    elif class_ID=='JamesBaldwin':\n",
    "        value=\"Baldwin, James\"\n",
    "    elif class_ID=='James Baldwin':\n",
    "        value=\"Baldwin, James\"\n",
    "    elif class_ID=='Applause':\n",
    "        value=\"applause\"\n",
    "    try:\n",
    "        #print(str(dur_dict[basename]))\n",
    "        full_table.set_value(i, 'Value', value)\n",
    "    except:\n",
    "        print(row['Filename'])\n",
    "    \n"
   ]
  },
  {
   "cell_type": "code",
   "execution_count": null,
   "metadata": {
    "collapsed": true
   },
   "outputs": [],
   "source": []
  },
  {
   "cell_type": "code",
   "execution_count": 32,
   "metadata": {
    "collapsed": true
   },
   "outputs": [],
   "source": [
    "full_table.to_csv('../AAPB_ARLO_All_170412.csv',index=False)"
   ]
  },
  {
   "cell_type": "code",
   "execution_count": null,
   "metadata": {
    "collapsed": true
   },
   "outputs": [],
   "source": []
  },
  {
   "cell_type": "code",
   "execution_count": 33,
   "metadata": {},
   "outputs": [
    {
     "data": {
      "text/plain": [
       "[nan,\n",
       " 'Applause',\n",
       " 'Malcolm X',\n",
       " 'Julia Child',\n",
       " 'Lyndon Johnson',\n",
       " 'James Baldwin',\n",
       " ' Julia Child',\n",
       " 'RIchard Nixon',\n",
       " 'JamesBaldwin',\n",
       " 'Ryan Blake',\n",
       " 'Richard Nixon']"
      ]
     },
     "execution_count": 33,
     "metadata": {},
     "output_type": "execute_result"
    }
   ],
   "source": [
    "list(set(full_table['class ID']))"
   ]
  },
  {
   "cell_type": "code",
   "execution_count": null,
   "metadata": {
    "collapsed": true
   },
   "outputs": [],
   "source": []
  },
  {
   "cell_type": "code",
   "execution_count": null,
   "metadata": {
    "collapsed": true
   },
   "outputs": [],
   "source": []
  },
  {
   "cell_type": "code",
   "execution_count": 39,
   "metadata": {},
   "outputs": [
    {
     "data": {
      "text/plain": [
       "1.6871292453980555"
      ]
     },
     "execution_count": 39,
     "metadata": {},
     "output_type": "execute_result"
    }
   ],
   "source": [
    "np.sum(list(full_table[full_table['class ID']==\"Richard Nixon\"]['Tag Duration']))/60/60"
   ]
  },
  {
   "cell_type": "code",
   "execution_count": 41,
   "metadata": {},
   "outputs": [
    {
     "data": {
      "text/plain": [
       "1.7061292453980554"
      ]
     },
     "execution_count": 41,
     "metadata": {},
     "output_type": "execute_result"
    }
   ],
   "source": [
    "np.sum(list(full_table[full_table['Value']==\"Nixon, Richard\"]['Tag Duration']))/60/60"
   ]
  },
  {
   "cell_type": "code",
   "execution_count": null,
   "metadata": {
    "collapsed": true
   },
   "outputs": [],
   "source": []
  },
  {
   "cell_type": "code",
   "execution_count": null,
   "metadata": {
    "collapsed": true
   },
   "outputs": [],
   "source": []
  },
  {
   "cell_type": "code",
   "execution_count": null,
   "metadata": {
    "collapsed": true
   },
   "outputs": [],
   "source": []
  },
  {
   "cell_type": "code",
   "execution_count": null,
   "metadata": {
    "collapsed": true
   },
   "outputs": [],
   "source": []
  },
  {
   "cell_type": "code",
   "execution_count": null,
   "metadata": {
    "collapsed": true
   },
   "outputs": [],
   "source": []
  },
  {
   "cell_type": "code",
   "execution_count": null,
   "metadata": {
    "collapsed": true
   },
   "outputs": [],
   "source": []
  },
  {
   "cell_type": "code",
   "execution_count": null,
   "metadata": {
    "collapsed": true
   },
   "outputs": [],
   "source": []
  }
 ],
 "metadata": {
  "kernelspec": {
   "display_name": "Python 3",
   "language": "python",
   "name": "python3"
  },
  "language_info": {
   "codemirror_mode": {
    "name": "ipython",
    "version": 3
   },
   "file_extension": ".py",
   "mimetype": "text/x-python",
   "name": "python",
   "nbconvert_exporter": "python",
   "pygments_lexer": "ipython3",
   "version": "3.6.0"
  }
 },
 "nbformat": 4,
 "nbformat_minor": 2
}
