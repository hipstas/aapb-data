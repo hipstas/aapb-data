{
 "cells": [
  {
   "cell_type": "code",
   "execution_count": 1,
   "metadata": {},
   "outputs": [],
   "source": [
    "import pandas as pd\n",
    "import os\n",
    "import random\n",
    "from pyAudioAnalysis import audioFeatureExtraction as aF\n",
    "from pyAudioAnalysis import audioTrainTest as aT\n",
    "from pyAudioAnalysis import audioBasicIO\n",
    "import numpy as np\n",
    "import shutil\n",
    "\n",
    "aapb_metadata_all_split=pd.read_csv(\"/Volumes/McLaughlin-6TB-1/Dropbox/aapb-hipstas/AAPB_ARLO_All_170414_2_sec_segs.csv\")"
   ]
  },
  {
   "cell_type": "code",
   "execution_count": 2,
   "metadata": {
    "collapsed": true
   },
   "outputs": [],
   "source": [
    "speakers=['Baldwin, James',\n",
    " 'Buckley, William F.',\n",
    " 'Bush, George HW',\n",
    " 'Bush, George W.',\n",
    " 'Carter, Jimmy',\n",
    " 'Child, Julia',\n",
    " 'Clinton, Bill',\n",
    " 'Clinton, Hillary',\n",
    " 'Ford, Gerald',\n",
    " 'Galbraith, John Kenneth',\n",
    " 'Gore, Al',\n",
    " 'Johnson, Lyndon',\n",
    " 'Kennedy, John F.',\n",
    " 'King, Martin Luther',\n",
    " 'Kissinger, Henry',\n",
    " 'Lehrer, Jim',\n",
    " 'Nixon, Richard',\n",
    " 'Pepin, Jacques',\n",
    " 'Reagan, Ronald',\n",
    " 'Spanish Language',\n",
    " 'Steinem, Gloria',\n",
    " 'Vidal, Gore',\n",
    " 'X, Malcolm']"
   ]
  },
  {
   "cell_type": "code",
   "execution_count": 3,
   "metadata": {
    "collapsed": true
   },
   "outputs": [],
   "source": [
    "speaker_table=aapb_metadata_all_split[aapb_metadata_all_split['Value'].isin(speakers)]"
   ]
  },
  {
   "cell_type": "code",
   "execution_count": 4,
   "metadata": {},
   "outputs": [
    {
     "data": {
      "text/plain": [
       "['/Users/mclaugh/Desktop/AAPB_400_hrs_labeled/wav_16000/cpb-aacip-15-gq6qz22m1f__CBS217863_.h264.16000.wav',\n",
       " '/Volumes/McLaughlin-6TB-1/Extended_Corpus/Ronald_Reagan/cpb-aacip-37-94vhhz9j.h264.16000.wav',\n",
       " '/Volumes/McLaughlin-6TB-1/Extended_Corpus/Jacques_Pepin/cpb-aacip-55-472v7r7h.h264.16000.wav']"
      ]
     },
     "execution_count": 4,
     "metadata": {},
     "output_type": "execute_result"
    }
   ],
   "source": [
    "\n",
    "\n",
    "## Compiling a master list of audio pathnames\n",
    "#pathnames=sorted([str(item) for item in list(set(list(aapb_metadata_all_split['Pathname']))) if str(item)!='nan'])\n",
    "\n",
    "pathnames=sorted([str(item) for item in list(set(list(speaker_table['Pathname']))) if str(item)!='nan'])\n",
    "\n",
    "\n",
    "random.shuffle(pathnames)\n",
    "\n",
    "pathnames[:3]"
   ]
  },
  {
   "cell_type": "code",
   "execution_count": 5,
   "metadata": {},
   "outputs": [],
   "source": [
    "for item in pathnames:\n",
    "    if '16000.wav' not in item:\n",
    "        print item"
   ]
  },
  {
   "cell_type": "code",
   "execution_count": null,
   "metadata": {},
   "outputs": [],
   "source": [
    "Fs=16000\n",
    "mtWin=0.5\n",
    "stWin=0.05\n",
    "midTermSize = mtWin * Fs\n",
    "midTermStep = 0.5\n",
    "mtStep = 0.5\n",
    "shortTermSize = stWin * Fs\n",
    "shortTermStep = 0.05\n",
    "stStep = 0.05\n",
    "temp_dir=\"/Users/mclaugh/Desktop/temp/\"\n"
   ]
  },
  {
   "cell_type": "code",
   "execution_count": null,
   "metadata": {},
   "outputs": [
    {
     "name": "stdout",
     "output_type": "stream",
     "text": [
      "cpb-aacip-15-gq6qz22m1f__CBS217863_.h264\n",
      "cpb-aacip-37-94vhhz9j.h264\n"
     ]
    }
   ],
   "source": [
    "for pathname in pathnames:\n",
    "    try:\n",
    "        basename=pathname.split('/')[-1][:-10]\n",
    "        shutil.copy(pathname,temp_dir)\n",
    "        temp = aF.dirWavFeatureExtractionNoAveraging(temp_dir, mtWin, mtStep, stWin, stStep)\n",
    "        np.savetxt('/Volumes/McLaughlin-6TB-1/Dropbox/aapb-hipstas/extracted_features/'+basename+'.features.csv', temp[0], delimiter=',')\n",
    "        print(basename)\n",
    "    except: print(\"ERROR: \"+basename)\n",
    "    temp_files = os.listdir(temp_dir)\n",
    "    for filename in temp_files:\n",
    "        os.remove(os.path.join(temp_dir,filename))\n"
   ]
  },
  {
   "cell_type": "code",
   "execution_count": null,
   "metadata": {},
   "outputs": [],
   "source": []
  },
  {
   "cell_type": "code",
   "execution_count": null,
   "metadata": {},
   "outputs": [],
   "source": []
  },
  {
   "cell_type": "code",
   "execution_count": null,
   "metadata": {},
   "outputs": [],
   "source": []
  },
  {
   "cell_type": "code",
   "execution_count": null,
   "metadata": {},
   "outputs": [],
   "source": []
  },
  {
   "cell_type": "code",
   "execution_count": null,
   "metadata": {},
   "outputs": [],
   "source": []
  },
  {
   "cell_type": "code",
   "execution_count": null,
   "metadata": {
    "collapsed": true
   },
   "outputs": [],
   "source": []
  },
  {
   "cell_type": "code",
   "execution_count": null,
   "metadata": {
    "collapsed": true
   },
   "outputs": [],
   "source": []
  },
  {
   "cell_type": "code",
   "execution_count": null,
   "metadata": {
    "collapsed": true
   },
   "outputs": [],
   "source": []
  },
  {
   "cell_type": "code",
   "execution_count": null,
   "metadata": {
    "collapsed": true
   },
   "outputs": [],
   "source": []
  },
  {
   "cell_type": "code",
   "execution_count": null,
   "metadata": {
    "collapsed": true
   },
   "outputs": [],
   "source": []
  },
  {
   "cell_type": "code",
   "execution_count": null,
   "metadata": {
    "collapsed": true
   },
   "outputs": [],
   "source": []
  },
  {
   "cell_type": "code",
   "execution_count": null,
   "metadata": {
    "collapsed": true
   },
   "outputs": [],
   "source": []
  }
 ],
 "metadata": {
  "kernelspec": {
   "display_name": "Python 2",
   "language": "python",
   "name": "python2"
  },
  "language_info": {
   "codemirror_mode": {
    "name": "ipython",
    "version": 2
   },
   "file_extension": ".py",
   "mimetype": "text/x-python",
   "name": "python",
   "nbconvert_exporter": "python",
   "pygments_lexer": "ipython2",
   "version": "2.7.12"
  }
 },
 "nbformat": 4,
 "nbformat_minor": 1
}
