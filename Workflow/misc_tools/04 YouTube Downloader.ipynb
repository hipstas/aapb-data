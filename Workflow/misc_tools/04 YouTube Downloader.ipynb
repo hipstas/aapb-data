{
 "cells": [
  {
   "cell_type": "code",
   "execution_count": 20,
   "metadata": {
    "collapsed": true
   },
   "outputs": [],
   "source": [
    "import os\n",
    "\n",
    "yt_dir=\"/Volumes/McLaughlin-6TB-1/Dropbox/aapb-hipstas/YouTube_corpus\"\n",
    "\n",
    "os.chdir(yt_dir)"
   ]
  },
  {
   "cell_type": "code",
   "execution_count": 21,
   "metadata": {
    "collapsed": true
   },
   "outputs": [],
   "source": [
    "value=\"King, Martin Luther\""
   ]
  },
  {
   "cell_type": "code",
   "execution_count": 22,
   "metadata": {},
   "outputs": [
    {
     "data": {
      "text/plain": [
       "['https://www.youtube.com/watch?v=Z6hi3t9JFpE',\n",
       " 'https://www.youtube.com/watch?v=-Ll4QmvnGcU',\n",
       " 'https://www.youtube.com/watch?v=fAlh-HX1K_k',\n",
       " 'https://www.youtube.com/watch?v=TS8ehUnfJiI',\n",
       " 'https://www.youtube.com/watch?v=t5EW5e86OBc',\n",
       " 'https://www.youtube.com/watch?v=xo-6BNtq5RY',\n",
       " 'https://www.youtube.com/watch?v=GHAKJWQiuKM',\n",
       " 'https://www.youtube.com/watch?v=sHCy7VnK1yk',\n",
       " 'https://www.youtube.com/watch?v=QTW2pn8bKok',\n",
       " 'https://www.youtube.com/watch?v=N0Jzqiqwo5A']"
      ]
     },
     "execution_count": 22,
     "metadata": {},
     "output_type": "execute_result"
    }
   ],
   "source": [
    "yt_urls=open(value+'.txt').read().splitlines()\n",
    "yt_urls"
   ]
  },
  {
   "cell_type": "code",
   "execution_count": 23,
   "metadata": {},
   "outputs": [],
   "source": [
    "try: os.mkdir(value)\n",
    "except: pass\n",
    "os.chdir('./'+value)\n",
    "\n",
    "for url in yt_urls:\n",
    "    os.system(\"youtube-dl --extract-audio --audio-format wav \"+url)\n",
    "\n",
    "os.chdir(yt_dir)"
   ]
  },
  {
   "cell_type": "code",
   "execution_count": null,
   "metadata": {},
   "outputs": [],
   "source": []
  },
  {
   "cell_type": "code",
   "execution_count": null,
   "metadata": {
    "collapsed": true
   },
   "outputs": [],
   "source": []
  },
  {
   "cell_type": "code",
   "execution_count": null,
   "metadata": {
    "collapsed": true
   },
   "outputs": [],
   "source": []
  }
 ],
 "metadata": {
  "kernelspec": {
   "display_name": "Python 3",
   "language": "python",
   "name": "python3"
  },
  "language_info": {
   "codemirror_mode": {
    "name": "ipython",
    "version": 3
   },
   "file_extension": ".py",
   "mimetype": "text/x-python",
   "name": "python",
   "nbconvert_exporter": "python",
   "pygments_lexer": "ipython3",
   "version": "3.6.0"
  }
 },
 "nbformat": 4,
 "nbformat_minor": 2
}
