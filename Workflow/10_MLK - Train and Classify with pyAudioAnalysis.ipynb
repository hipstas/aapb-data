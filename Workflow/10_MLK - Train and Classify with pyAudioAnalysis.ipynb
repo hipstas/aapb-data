{
 "cells": [
  {
   "cell_type": "code",
   "execution_count": 17,
   "metadata": {
    "collapsed": true
   },
   "outputs": [],
   "source": [
    "import os\n",
    "import csv\n",
    "import subprocess\n",
    "import array\n",
    "import random\n",
    "import pandas as pd\n",
    "import numpy as np\n",
    "from pyAudioAnalysis import audioSegmentation as aS\n",
    "from pyAudioAnalysis import audioTrainTest as aT\n",
    "from itertools import groupby\n",
    "from operator import itemgetter\n",
    "from IPython.display import display, Audio\n",
    "from pydub import AudioSegment\n",
    "from pydub.utils import get_array_type\n",
    "import matplotlib.pyplot as plt\n",
    "import shutil\n",
    "import timeit\n",
    "%matplotlib inline\n",
    "\n",
    "os.chdir('/Volumes/McLaughlin-6TB-1/Dropbox/aapb-hipstas/Model_training_clips')"
   ]
  },
  {
   "cell_type": "code",
   "execution_count": 18,
   "metadata": {},
   "outputs": [
    {
     "name": "stdout",
     "output_type": "stream",
     "text": [
      "King, Martin Luther\n",
      "King\n"
     ]
    }
   ],
   "source": [
    "speaker=\"King, Martin Luther\"\n",
    "\n",
    "last_name = speaker.split(', ')[0]\n",
    "\n",
    "print(speaker)\n",
    "print(last_name)"
   ]
  },
  {
   "cell_type": "code",
   "execution_count": 19,
   "metadata": {},
   "outputs": [
    {
     "data": {
      "text/html": [
       "<div>\n",
       "<table border=\"1\" class=\"dataframe\">\n",
       "  <thead>\n",
       "    <tr style=\"text-align: right;\">\n",
       "      <th></th>\n",
       "      <th>AAPB Unique Identifier (GUID)</th>\n",
       "      <th>Type</th>\n",
       "      <th>Value</th>\n",
       "      <th>class ID</th>\n",
       "      <th>Timecode IN</th>\n",
       "      <th>Timecode OUT</th>\n",
       "      <th>Tag Duration</th>\n",
       "      <th>File Duration</th>\n",
       "      <th>SonyCi ID</th>\n",
       "      <th>Filename</th>\n",
       "      <th>Pathname</th>\n",
       "    </tr>\n",
       "  </thead>\n",
       "  <tbody>\n",
       "    <tr>\n",
       "      <th>178273</th>\n",
       "      <td>cpb-aacip/15-9w37kv75</td>\n",
       "      <td>Sound quality</td>\n",
       "      <td>audience clapping</td>\n",
       "      <td>NaN</td>\n",
       "      <td>223</td>\n",
       "      <td>225</td>\n",
       "      <td>2</td>\n",
       "      <td>1319.976</td>\n",
       "      <td>090d1475c56c45808fad6567b2f88b3d</td>\n",
       "      <td>cpb-aacip-15-9w37kv75__213877_</td>\n",
       "      <td>/Volumes/McLaughlin-6TB-1/Extended_Corpus/Gera...</td>\n",
       "    </tr>\n",
       "  </tbody>\n",
       "</table>\n",
       "</div>"
      ],
      "text/plain": [
       "       AAPB Unique Identifier (GUID)           Type              Value  \\\n",
       "178273         cpb-aacip/15-9w37kv75  Sound quality  audience clapping   \n",
       "\n",
       "       class ID  Timecode IN  Timecode OUT  Tag Duration  File Duration  \\\n",
       "178273      NaN          223           225             2       1319.976   \n",
       "\n",
       "                               SonyCi ID                        Filename  \\\n",
       "178273  090d1475c56c45808fad6567b2f88b3d  cpb-aacip-15-9w37kv75__213877_   \n",
       "\n",
       "                                                 Pathname  \n",
       "178273  /Volumes/McLaughlin-6TB-1/Extended_Corpus/Gera...  "
      ]
     },
     "execution_count": 19,
     "metadata": {},
     "output_type": "execute_result"
    }
   ],
   "source": [
    "## Loading table of labeled 2-second audio segments\n",
    "\n",
    "aapb_metadata_all_split=pd.read_csv(\"/Volumes/McLaughlin-6TB-1/Dropbox/aapb-hipstas/AAPB_ARLO_All_170414_2_sec_segs.csv\")\n",
    "aapb_metadata_all_split.tail(1)"
   ]
  },
  {
   "cell_type": "code",
   "execution_count": 20,
   "metadata": {
    "collapsed": true
   },
   "outputs": [],
   "source": [
    "## Function for extracting speaker clips\n",
    "\n",
    "def extract_clips(x_table):\n",
    "    for unique_audio_path in sorted(list(set(list(x_table['Pathname'])))):\n",
    "        inputfile=unique_audio_path\n",
    "        if os.path.exists(inputfile):\n",
    "            if inputfile.lower()[-4:].lower() in ('.wav','.mp3','.mp4'):\n",
    "                wav_source=True\n",
    "                if inputfile.lower()[-4:]=='.mp4':     # Creates a temporary WAV\n",
    "                    wav_source=False                         # if input is MP4\n",
    "                    temp_filename=inputfile.split('/')[-1]+'_temp.wav'\n",
    "                    audio_path='/var/tmp/'+temp_filename   # Pathname for temp WAV\n",
    "                    subprocess.call(['ffmpeg', '-y', '-i', inputfile, audio_path]) # '-y' option overwrites existing file if present\n",
    "                else:\n",
    "                    audio_path=inputfile\n",
    "\n",
    "                song=None\n",
    "                from pydub import AudioSegment\n",
    "                \n",
    "                if inputfile[-4:].lower()=='.mp3':\n",
    "                    song = AudioSegment.from_mp3(audio_path)\n",
    "                else:\n",
    "                    song = AudioSegment.from_wav(audio_path)\n",
    "\n",
    "\n",
    "        for index, rowref in x_table[x_table['Pathname']==unique_audio_path].iterrows():\n",
    "            row=aapb_metadata_all_split.iloc[index] ## Ref to master split table\n",
    "            time_in=row['Timecode IN']\n",
    "            clip_duration=row['Tag Duration']\n",
    "            inputfile=row['Pathname']\n",
    "            basename=row['Filename']\n",
    "            dir_name=row['Value']\n",
    "            \n",
    "            try: os.mkdir(dir_name)\n",
    "            except: pass\n",
    "\n",
    "        \n",
    "            from pydub import AudioSegment \n",
    "            start_msec = float(time_in) * 1000.0\n",
    "            duration_msec = float(clip_duration) * 1000\n",
    "            clip_pathname=basename+'.start_'+str(time_in)[:8]+'.dur_2s.wav'\n",
    "            if not os.path.exists(os.path.join(dir_name,clip_pathname)):\n",
    "                clip_data = song[start_msec:start_msec+duration_msec]\n",
    "                clip_data=clip_data.set_channels(1)\n",
    "                clip_data.export(os.path.join(dir_name,clip_pathname), format=\"wav\")\n",
    "\n",
    "        try:\n",
    "            if wav_source==False:\n",
    "                os.remove(audio_path)\n",
    "        except: pass\n",
    "\n",
    "    print(\"*** All segments extracted! ***\")\n",
    "\n"
   ]
  },
  {
   "cell_type": "code",
   "execution_count": 5,
   "metadata": {},
   "outputs": [
    {
     "name": "stdout",
     "output_type": "stream",
     "text": [
      "21179 clips available for King, Martin Luther\n"
     ]
    }
   ],
   "source": [
    "print(str(len(aapb_metadata_all_split[aapb_metadata_all_split['Value']==speaker]))+\" clips available for \"+speaker)"
   ]
  },
  {
   "cell_type": "code",
   "execution_count": 21,
   "metadata": {},
   "outputs": [
    {
     "name": "stdout",
     "output_type": "stream",
     "text": [
      "*** All segments extracted! ***\n"
     ]
    }
   ],
   "source": [
    "##### Running the Random Clip Extractor #####\n",
    "\n",
    "\n",
    "num_clips=4000     ## number of 2-second clips desired\n",
    "\n",
    "x_table=aapb_metadata_all_split[aapb_metadata_all_split['Value']==speaker].sample(n=num_clips)\n",
    "\n",
    "extract_clips(x_table)\n",
    "\n"
   ]
  },
  {
   "cell_type": "code",
   "execution_count": 22,
   "metadata": {
    "collapsed": true
   },
   "outputs": [],
   "source": [
    "## Creating ID string appended to each model's filename\n",
    "\n",
    "clip_count=len(os.listdir(speaker))\n",
    "\n",
    "model_id = '_'+last_name+'_UBM_'+str(clip_count)+'x2s'\n"
   ]
  },
  {
   "cell_type": "code",
   "execution_count": 23,
   "metadata": {
    "collapsed": true
   },
   "outputs": [],
   "source": [
    "## Assembling UBM files\n",
    "\n",
    "os.chdir('/Volumes/McLaughlin-6TB-1/Dropbox/aapb-hipstas/Model_training_clips')\n",
    "\n",
    "new_ubm_dir='UBM'+'_'+last_name\n",
    "\n",
    "\n",
    "try: os.mkdir(new_ubm_dir)\n",
    "except: pass\n",
    "\n",
    "ubm_source=\"/Volumes/U/AAPB_Corpus_May_2017/test_set_616_clips\"\n",
    "ubm_files=[item for item in os.listdir(ubm_source) if (speaker not in item)&('16000.wav' in item)]\n",
    "ubm_files=random.sample(ubm_files,60)\n",
    "for filename in ubm_files:\n",
    "    shutil.copy(os.path.join(ubm_source,filename),new_ubm_dir)\n",
    "\n",
    "    \n",
    "ubm_source=\"/Volumes/U/AAPB_Corpus_May_2017/PennSound_UBM_for_Creeley_full_clips_16000\"\n",
    "ubm_files=[item for item in os.listdir(ubm_source) if (speaker not in item)&('.wav' in item)]\n",
    "ubm_files=random.sample(ubm_files,60)\n",
    "for filename in ubm_files:\n",
    "    shutil.copy(os.path.join(ubm_source,filename),new_ubm_dir)\n",
    "\n"
   ]
  },
  {
   "cell_type": "code",
   "execution_count": 24,
   "metadata": {},
   "outputs": [
    {
     "name": "stdout",
     "output_type": "stream",
     "text": [
      "Feature extraction complexity ratio: 60.9 x realtime\n",
      "Feature extraction complexity ratio: 74.9 x realtime\n",
      "Number of training experiments changed to 50 due to high number of samples\n",
      "Number of training experiments changed to 10 due to high number of samples\n",
      "Param = 0.00100 - Classifier Evaluation Experiment 1 of 10\n",
      "Param = 0.00100 - Classifier Evaluation Experiment 2 of 10\n",
      "Param = 0.00100 - Classifier Evaluation Experiment 3 of 10\n",
      "Param = 0.00100 - Classifier Evaluation Experiment 4 of 10\n",
      "Param = 0.00100 - Classifier Evaluation Experiment 5 of 10\n",
      "Param = 0.00100 - Classifier Evaluation Experiment 6 of 10\n",
      "Param = 0.00100 - Classifier Evaluation Experiment 7 of 10\n",
      "Param = 0.00100 - Classifier Evaluation Experiment 8 of 10\n",
      "Param = 0.00100 - Classifier Evaluation Experiment 9 of 10\n",
      "Param = 0.00100 - Classifier Evaluation Experiment 10 of 10\n",
      "Param = 0.01000 - Classifier Evaluation Experiment 1 of 10\n",
      "Param = 0.01000 - Classifier Evaluation Experiment 2 of 10\n",
      "Param = 0.01000 - Classifier Evaluation Experiment 3 of 10\n",
      "Param = 0.01000 - Classifier Evaluation Experiment 4 of 10\n",
      "Param = 0.01000 - Classifier Evaluation Experiment 5 of 10\n",
      "Param = 0.01000 - Classifier Evaluation Experiment 6 of 10\n",
      "Param = 0.01000 - Classifier Evaluation Experiment 7 of 10\n",
      "Param = 0.01000 - Classifier Evaluation Experiment 8 of 10\n",
      "Param = 0.01000 - Classifier Evaluation Experiment 9 of 10\n",
      "Param = 0.01000 - Classifier Evaluation Experiment 10 of 10\n",
      "Param = 0.50000 - Classifier Evaluation Experiment 1 of 10\n",
      "Param = 0.50000 - Classifier Evaluation Experiment 2 of 10\n",
      "Param = 0.50000 - Classifier Evaluation Experiment 3 of 10\n",
      "Param = 0.50000 - Classifier Evaluation Experiment 4 of 10\n",
      "Param = 0.50000 - Classifier Evaluation Experiment 5 of 10\n",
      "Param = 0.50000 - Classifier Evaluation Experiment 6 of 10\n",
      "Param = 0.50000 - Classifier Evaluation Experiment 7 of 10\n",
      "Param = 0.50000 - Classifier Evaluation Experiment 8 of 10\n",
      "Param = 0.50000 - Classifier Evaluation Experiment 9 of 10\n",
      "Param = 0.50000 - Classifier Evaluation Experiment 10 of 10\n",
      "Param = 1.00000 - Classifier Evaluation Experiment 1 of 10\n",
      "Param = 1.00000 - Classifier Evaluation Experiment 2 of 10\n",
      "Param = 1.00000 - Classifier Evaluation Experiment 3 of 10\n",
      "Param = 1.00000 - Classifier Evaluation Experiment 4 of 10\n",
      "Param = 1.00000 - Classifier Evaluation Experiment 5 of 10\n",
      "Param = 1.00000 - Classifier Evaluation Experiment 6 of 10\n",
      "Param = 1.00000 - Classifier Evaluation Experiment 7 of 10\n",
      "Param = 1.00000 - Classifier Evaluation Experiment 8 of 10\n",
      "Param = 1.00000 - Classifier Evaluation Experiment 9 of 10\n",
      "Param = 1.00000 - Classifier Evaluation Experiment 10 of 10\n",
      "Param = 5.00000 - Classifier Evaluation Experiment 1 of 10\n",
      "Param = 5.00000 - Classifier Evaluation Experiment 2 of 10\n",
      "Param = 5.00000 - Classifier Evaluation Experiment 3 of 10\n",
      "Param = 5.00000 - Classifier Evaluation Experiment 4 of 10\n",
      "Param = 5.00000 - Classifier Evaluation Experiment 5 of 10\n",
      "Param = 5.00000 - Classifier Evaluation Experiment 6 of 10\n",
      "Param = 5.00000 - Classifier Evaluation Experiment 7 of 10\n",
      "Param = 5.00000 - Classifier Evaluation Experiment 8 of 10\n",
      "Param = 5.00000 - Classifier Evaluation Experiment 9 of 10\n",
      "Param = 5.00000 - Classifier Evaluation Experiment 10 of 10\n",
      "Param = 10.00000 - Classifier Evaluation Experiment 1 of 10\n",
      "Param = 10.00000 - Classifier Evaluation Experiment 2 of 10\n",
      "Param = 10.00000 - Classifier Evaluation Experiment 3 of 10\n",
      "Param = 10.00000 - Classifier Evaluation Experiment 4 of 10\n",
      "Param = 10.00000 - Classifier Evaluation Experiment 5 of 10\n",
      "Param = 10.00000 - Classifier Evaluation Experiment 6 of 10\n",
      "Param = 10.00000 - Classifier Evaluation Experiment 7 of 10\n",
      "Param = 10.00000 - Classifier Evaluation Experiment 8 of 10\n",
      "Param = 10.00000 - Classifier Evaluation Experiment 9 of 10\n",
      "Param = 10.00000 - Classifier Evaluation Experiment 10 of 10\n",
      "\t\tUBM_King\t\t\tKing, Martin Luther\t\tOVERALL\n",
      "\tC \tPRE\tREC\tF1 \tPRE\tREC\tF1 \tACC\tF1\n",
      "\t0.001 \t50.0\t0.0\t0.0 \t97.1\t100.0\t98.5 \t97.1\t49.3\n",
      "\t0.010 \t100.0\t20.8\t34.5 \t97.7\t100.0\t98.8 \t97.7\t66.7\n",
      "\t0.500 \t86.0\t66.7\t75.1 \t99.0\t99.7\t99.3 \t98.7\t87.2\n",
      "\t1.000 \t86.0\t71.7\t78.2 \t99.2\t99.6\t99.4 \t98.8\t88.8 \t best F1 \t best Acc\n",
      "\t5.000 \t73.6\t67.5\t70.4 \t99.0\t99.3\t99.2 \t98.3\t84.8\n",
      "\t10.000 \t74.8\t71.7\t73.2 \t99.2\t99.3\t99.2 \t98.5\t86.2\n",
      "Confusion Matrix:\n",
      "\tUBM \tKin\n",
      "UBM \t2.1 \t0.8\n",
      "Kin \t0.3 \t96.7\n",
      "Selected params: 1.00000\n",
      "done\n",
      "632.706766129\n"
     ]
    }
   ],
   "source": [
    "\n",
    "## Train Model\n",
    "import timeit\n",
    "tic=timeit.default_timer()\n",
    "#print(timeit.default_timer() - tic)\n",
    "\n",
    "\n",
    "\n",
    "os.chdir('/Volumes/McLaughlin-6TB-1/Dropbox/aapb-hipstas/Model_training_clips')\n",
    "\n",
    "\n",
    "aT.featureAndTrain([new_ubm_dir,speaker], 1.0, 1.0, aT.shortTermWindow, aT.shortTermStep, \"svm\", \"svm\"+model_id, False)\n",
    "print(\"done\")\n",
    "print(timeit.default_timer() - tic)\n",
    "\n"
   ]
  },
  {
   "cell_type": "code",
   "execution_count": 25,
   "metadata": {},
   "outputs": [
    {
     "name": "stdout",
     "output_type": "stream",
     "text": [
      "10.5452541868\n"
     ]
    }
   ],
   "source": [
    "print(timeit.default_timer() - tic)/60.0"
   ]
  },
  {
   "cell_type": "code",
   "execution_count": null,
   "metadata": {},
   "outputs": [],
   "source": [
    "## Other classifiers\n",
    "\n",
    "os.chdir('/Volumes/McLaughlin-6TB-1/Dropbox/aapb-hipstas/Model_training_clips')\n",
    "\n",
    "\n",
    "tic=timeit.default_timer()\n",
    "aT.featureAndTrain([new_ubm_dir,speaker], 1.0, 1.0, aT.shortTermWindow, aT.shortTermStep, \"gradientboosting\", \"gradientboosting\"+model_id, False)\n",
    "print(\"done\")\n",
    "print(timeit.default_timer() - tic)\n",
    "tic=timeit.default_timer()\n",
    "aT.featureAndTrain([new_ubm_dir,speaker], 1.0, 1.0, aT.shortTermWindow, aT.shortTermStep, \"extratrees\", \"extratrees\"+model_id, False)\n",
    "print(\"done\")\n",
    "print(timeit.default_timer() - tic)\n",
    "tic=timeit.default_timer()\n",
    "aT.featureAndTrain([new_ubm_dir,speaker], 1.0, 1.0, aT.shortTermWindow, aT.shortTermStep, \"randomforest\", \"randomforest\"+model_id, False)\n",
    "print(\"done\")\n",
    "print(timeit.default_timer() - tic)\n",
    "tic=timeit.default_timer()\n",
    "aT.featureAndTrain([new_ubm_dir,speaker], 1.0, 1.0, aT.shortTermWindow, aT.shortTermStep, \"knn\", \"knn\"+model_id, False)\n",
    "print(\"done\")\n",
    "print(timeit.default_timer() - tic)"
   ]
  },
  {
   "cell_type": "code",
   "execution_count": null,
   "metadata": {},
   "outputs": [],
   "source": [
    "print(timeit.default_timer() - tic)/60.0"
   ]
  },
  {
   "cell_type": "code",
   "execution_count": 26,
   "metadata": {
    "collapsed": true
   },
   "outputs": [],
   "source": [
    "# Takes list of 1-second segments classified as speaker (1.0) or \n",
    "# non-speaker (0.0) and returns list of 2-tuples specifying speaker ranges.\n",
    "# Add 1 to 2nd speaker in each 2-tuple for inclusive time span.\n",
    "def seconds_list_to_ranges(seconds_list): \n",
    "    ranges = []                \n",
    "    for k, g in groupby(enumerate(seconds_list), lambda (i,x):i-x):\n",
    "        group = map(itemgetter(1), g)\n",
    "        ranges.append((group[0], group[-1]))\n",
    "    return ranges\n",
    "\n",
    "\n",
    "# Displays specified audio segment in Jupyter window using IPython.display\n",
    "def display_clip(wav_path,start_time,end_time):\n",
    "    track_data = AudioSegment.from_wav(file=wav_path)\n",
    "    track_data = track_data.set_channels(1)\n",
    "    bit_depth = track_data.sample_width * 8\n",
    "    clip_data = track_data[int(1000*start_time):int(1000*end_time)]\n",
    "    array_type = get_array_type(bit_depth)\n",
    "    numeric_array = array.array(array_type, clip_data._data)\n",
    "    display(Audio(numeric_array, rate=track_data.frame_rate))\n",
    "\n",
    "# Classifies audio at 1-second resolution, plots results if speaker found, \n",
    "# and returns speaker ranges as list of 2-tuples.\n",
    "# Add 1 to 2nd speaker in each 2-tuple for inclusive time span.\n",
    "\n",
    "\n",
    "\n",
    "\n",
    "def find_speaker(audio_path,classifier_model_path):\n",
    "    classifier_model_name = classifier_model_path.split('/')[-1]\n",
    "    classifier_model_type = classifier_model_name.split('_')[0].lower() # assuming model file begins svm_etc\n",
    "    \n",
    "    buffer_secs=0\n",
    "    is_mp3=False\n",
    "    if audio_path.lower()[-4:] in ['.mp3','.mp4','.wav']:    # Creates a temporary WAV\n",
    "        is_mp3=True                        # if input is MP3\n",
    "        random.seed(audio_path)\n",
    "        wav_path='/var/tmp/'+str(random.random())+'_temp.wav' # Filename for temp WAV is a random float\n",
    "        subprocess.call(['ffmpeg', '-i', audio_path, '-y', '-ar', '16000', '-ac', '1', '-af', \"volume=0.99,highpass=f=150, lowpass=f=5000\",  wav_path]) # '-y' option overwrites existing file if present\n",
    "    else:\n",
    "        wav_path=audio_path\n",
    "    print(wav_path)\n",
    "    output, classesAll, acc, CM = aS.mtFileClassification(wav_path, classifier_model_path, classifier_model_type) #or replace with 'svm' etc. as needed\n",
    "    output = list(output)\n",
    "    counter=0\n",
    "    speaker_secs=[]\n",
    "    for speaker in output:\n",
    "        if speaker>0.0:\n",
    "            speaker_secs.append(counter)\n",
    "        counter+=1\n",
    "    speaker_ranges=seconds_list_to_ranges(speaker_secs)\n",
    "    #if len(speaker_ranges)>0:\n",
    "    #    print speaker_ranges\n",
    "    #    print '\\n'\n",
    "    #    pd.Series(output).plot()                      # uncomment for A/V feedback in notebook\n",
    "    #    plt.show()\n",
    "    #for pair in speaker_ranges:\n",
    "    #    print pair\n",
    "    #    display_clip(wav_path,pair[0],pair[1]+1)\n",
    "    if is_mp3==True:\n",
    "        os.remove(wav_path)\n",
    "    outputfile=audio_path.split('/')[-1][:-4]+\"_\"+classifier_model_name+\".csv\"\n",
    "    with open(outputfile, 'w') as csv_fo:\n",
    "        speaker_ranges_expanded=[(start,1,end-start+1) for start,end in speaker_ranges]\n",
    "        csv_writer = csv.writer(csv_fo)\n",
    "        csv_writer.writerows(speaker_ranges_expanded)\n",
    "    print(outputfile)\n",
    "    return speaker_ranges_expanded"
   ]
  },
  {
   "cell_type": "code",
   "execution_count": 27,
   "metadata": {},
   "outputs": [
    {
     "data": {
      "text/plain": [
       "['/Volumes/McLaughlin-6TB-1/Dropbox/aapb-hipstas/YouTube_corpus/King, Martin Luther/Dr. Martin Luther King Jr. Interview-Z6hi3t9JFpE.wav',\n",
       " '/Volumes/McLaughlin-6TB-1/Dropbox/aapb-hipstas/YouTube_corpus/King, Martin Luther/Dr. Martin Luther King Jr. Interview-Z6hi3t9JFpE_svm_King_UBM_900x2s.csv',\n",
       " '/Volumes/McLaughlin-6TB-1/Dropbox/aapb-hipstas/YouTube_corpus/King, Martin Luther/first interview with Martin Luther King from 1957 part 1--Ll4QmvnGcU.wav',\n",
       " '/Volumes/McLaughlin-6TB-1/Dropbox/aapb-hipstas/YouTube_corpus/King, Martin Luther/first interview with Martin Luther King from 1957 part 1--Ll4QmvnGcU_svm_King_UBM_900x2s.csv',\n",
       " '/Volumes/McLaughlin-6TB-1/Dropbox/aapb-hipstas/YouTube_corpus/King, Martin Luther/Long Lost Martin Luther King, Jr. Speech (Complete - Best Audio)-N0Jzqiqwo5A.wav',\n",
       " '/Volumes/McLaughlin-6TB-1/Dropbox/aapb-hipstas/YouTube_corpus/King, Martin Luther/Long Lost Martin Luther King, Jr. Speech (Complete - Best Audio)-N0Jzqiqwo5A_svm_King_UBM_900x2s.csv',\n",
       " '/Volumes/McLaughlin-6TB-1/Dropbox/aapb-hipstas/YouTube_corpus/King, Martin Luther/Martin Luther King & Civil Rights of 1968-t5EW5e86OBc.wav',\n",
       " '/Volumes/McLaughlin-6TB-1/Dropbox/aapb-hipstas/YouTube_corpus/King, Martin Luther/Martin Luther King & Civil Rights of 1968-t5EW5e86OBc_svm_King_UBM_900x2s.csv',\n",
       " '/Volumes/McLaughlin-6TB-1/Dropbox/aapb-hipstas/YouTube_corpus/King, Martin Luther/Martin Luther King - Documenta\\xcc\\x81rio-GHAKJWQiuKM.wav',\n",
       " '/Volumes/McLaughlin-6TB-1/Dropbox/aapb-hipstas/YouTube_corpus/King, Martin Luther/Martin Luther King - Documenta\\xcc\\x81rio-GHAKJWQiuKM_svm_King_UBM_900x2s.csv',\n",
       " '/Volumes/McLaughlin-6TB-1/Dropbox/aapb-hipstas/YouTube_corpus/King, Martin Luther/Martin Luther King Jr (1) Anti-Violent Actions Interview 1957-TS8ehUnfJiI.wav',\n",
       " '/Volumes/McLaughlin-6TB-1/Dropbox/aapb-hipstas/YouTube_corpus/King, Martin Luther/Martin Luther King Jr (1) Anti-Violent Actions Interview 1957-TS8ehUnfJiI_svm_King_UBM_900x2s.csv',\n",
       " \"/Volumes/McLaughlin-6TB-1/Dropbox/aapb-hipstas/YouTube_corpus/King, Martin Luther/Martin Luther King Jr. 'Why Jesus Called a Man a Fool' August 27, 1967-xo-6BNtq5RY.wav\",\n",
       " \"/Volumes/McLaughlin-6TB-1/Dropbox/aapb-hipstas/YouTube_corpus/King, Martin Luther/Martin Luther King Jr. 'Why Jesus Called a Man a Fool' August 27, 1967-xo-6BNtq5RY_svm_King_UBM_900x2s.csv\",\n",
       " '/Volumes/McLaughlin-6TB-1/Dropbox/aapb-hipstas/YouTube_corpus/King, Martin Luther/Martin Luther King, Jr.- The Speech at Galilee-QTW2pn8bKok.wav',\n",
       " '/Volumes/McLaughlin-6TB-1/Dropbox/aapb-hipstas/YouTube_corpus/King, Martin Luther/Martin Luther King, Jr.- The Speech at Galilee-QTW2pn8bKok_svm_King_UBM_900x2s.csv',\n",
       " '/Volumes/McLaughlin-6TB-1/Dropbox/aapb-hipstas/YouTube_corpus/King, Martin Luther/National Security Threat; Dr. Martin Luther King Jr. , By Michael A. Scott-sHCy7VnK1yk.wav',\n",
       " '/Volumes/McLaughlin-6TB-1/Dropbox/aapb-hipstas/YouTube_corpus/King, Martin Luther/National Security Threat; Dr. Martin Luther King Jr. , By Michael A. Scott-sHCy7VnK1yk_svm_King_UBM_900x2s.csv',\n",
       " '/Volumes/McLaughlin-6TB-1/Dropbox/aapb-hipstas/YouTube_corpus/King, Martin Luther/The Banned MLK Interview-fAlh-HX1K_k.wav',\n",
       " '/Volumes/McLaughlin-6TB-1/Dropbox/aapb-hipstas/YouTube_corpus/King, Martin Luther/The Banned MLK Interview-fAlh-HX1K_k_svm_King_UBM_900x2s.csv']"
      ]
     },
     "execution_count": 27,
     "metadata": {},
     "output_type": "execute_result"
    }
   ],
   "source": [
    "yt_path=\"/Volumes/McLaughlin-6TB-1/Dropbox/aapb-hipstas/YouTube_corpus/\"+speaker\n",
    "test_files=[os.path.join(yt_path,item) for item in os.listdir(yt_path) if \".DS_Store\" not in item]\n",
    "test_files"
   ]
  },
  {
   "cell_type": "code",
   "execution_count": 28,
   "metadata": {
    "collapsed": true
   },
   "outputs": [],
   "source": [
    "classifier_model_paths=[\"/Volumes/McLaughlin-6TB-1/Dropbox/aapb-hipstas/Model_training_clips/\"+\"svm\"+model_id]\n",
    "\n",
    "#classifier_model_path=\"/Volumes/McLaughlin-6TB-1/Dropbox/aapb-hipstas/Model_training_clips/randomforest_Baldwin_UBM_564x2s\",\\\n",
    "\n",
    "#classifier_model_path=\"/Volumes/McLaughlin-6TB-1/Dropbox/aapb-hipstas/Model_training_clips/svm_Baldwin_UBM_564x2s\"\n",
    "\n",
    "#test_files=[\\\n",
    "#'/Users/mclaugh/Desktop/WGBH_Youtube_tests/Malcolm X - Debate with James Baldwin - September 5, 1963--JIp9_IIV3s.mp4',\\\n",
    "#'/Volumes/McLaughlin-6TB-1/Extended_Corpus/James_Baldwin/cpb-aacip-75-48sbchq4.h264.mp4',\\\n",
    "#'/Users/mclaugh/Desktop/WGBH_Youtube_tests/Julia Child makes an omelet-RThnq3-d6PY.wav',\\\n",
    "#'/Volumes/McLaughlin-6TB-1/Extended_Corpus/James_Baldwin/cpb-aacip-15-719kdkmx.h264.mp4',\\\n",
    "#'/Volumes/McLaughlin-6TB-1/Extended_Corpus/James_Baldwin/cpb-aacip-28-n872v2ct06__PRA_AAPP_BB0838_Baldwin_at_the_Masonic_Temple_.mp3'\\\n",
    "#]"
   ]
  },
  {
   "cell_type": "code",
   "execution_count": 29,
   "metadata": {},
   "outputs": [
    {
     "name": "stdout",
     "output_type": "stream",
     "text": [
      "/var/tmp/0.516010216885_temp.wav\n",
      "Dr. Martin Luther King Jr. Interview-Z6hi3t9JFpE_svm_King_UBM_4000x2s.csv\n",
      "118.70905304\n",
      "/Volumes/McLaughlin-6TB-1/Dropbox/aapb-hipstas/YouTube_corpus/King, Martin Luther/Dr. Martin Luther King Jr. Interview-Z6hi3t9JFpE_svm_King_UBM_900x2s.csv\n",
      "Error in readAudioFile(): Unknown file type!\n",
      "/var/tmp/0.575053418831_temp.wav\n",
      "first interview with Martin Luther King from 1957 part 1--Ll4QmvnGcU_svm_King_UBM_4000x2s.csv\n",
      "138.239279032\n",
      "/Volumes/McLaughlin-6TB-1/Dropbox/aapb-hipstas/YouTube_corpus/King, Martin Luther/first interview with Martin Luther King from 1957 part 1--Ll4QmvnGcU_svm_King_UBM_900x2s.csv\n",
      "Error in readAudioFile(): Unknown file type!\n",
      "/var/tmp/0.240233239605_temp.wav\n",
      "Long Lost Martin Luther King, Jr. Speech (Complete - Best Audio)-N0Jzqiqwo5A_svm_King_UBM_4000x2s.csv\n",
      "236.56347394\n",
      "/Volumes/McLaughlin-6TB-1/Dropbox/aapb-hipstas/YouTube_corpus/King, Martin Luther/Long Lost Martin Luther King, Jr. Speech (Complete - Best Audio)-N0Jzqiqwo5A_svm_King_UBM_900x2s.csv\n",
      "Error in readAudioFile(): Unknown file type!\n",
      "/var/tmp/0.324700278483_temp.wav\n",
      "Martin Luther King & Civil Rights of 1968-t5EW5e86OBc_svm_King_UBM_4000x2s.csv\n",
      "503.192021847\n",
      "/Volumes/McLaughlin-6TB-1/Dropbox/aapb-hipstas/YouTube_corpus/King, Martin Luther/Martin Luther King & Civil Rights of 1968-t5EW5e86OBc_svm_King_UBM_900x2s.csv\n",
      "Error in readAudioFile(): Unknown file type!\n",
      "/var/tmp/0.669817452136_temp.wav\n",
      "Martin Luther King - Documentário-GHAKJWQiuKM_svm_King_UBM_4000x2s.csv\n",
      "971.59233284\n",
      "/Volumes/McLaughlin-6TB-1/Dropbox/aapb-hipstas/YouTube_corpus/King, Martin Luther/Martin Luther King - Documentário-GHAKJWQiuKM_svm_King_UBM_900x2s.csv\n",
      "Error in readAudioFile(): Unknown file type!\n",
      "/var/tmp/0.799197328175_temp.wav\n",
      "Martin Luther King Jr (1) Anti-Violent Actions Interview 1957-TS8ehUnfJiI_svm_King_UBM_4000x2s.csv\n",
      "1009.507267\n",
      "/Volumes/McLaughlin-6TB-1/Dropbox/aapb-hipstas/YouTube_corpus/King, Martin Luther/Martin Luther King Jr (1) Anti-Violent Actions Interview 1957-TS8ehUnfJiI_svm_King_UBM_900x2s.csv\n",
      "Error in readAudioFile(): Unknown file type!\n",
      "/var/tmp/0.487789956922_temp.wav\n",
      "Martin Luther King Jr. 'Why Jesus Called a Man a Fool' August 27, 1967-xo-6BNtq5RY_svm_King_UBM_4000x2s.csv\n",
      "1104.49479795\n",
      "/Volumes/McLaughlin-6TB-1/Dropbox/aapb-hipstas/YouTube_corpus/King, Martin Luther/Martin Luther King Jr. 'Why Jesus Called a Man a Fool' August 27, 1967-xo-6BNtq5RY_svm_King_UBM_900x2s.csv\n",
      "Error in readAudioFile(): Unknown file type!\n",
      "/var/tmp/0.365139595513_temp.wav\n",
      "Martin Luther King, Jr.- The Speech at Galilee-QTW2pn8bKok_svm_King_UBM_4000x2s.csv\n",
      "1668.21117401\n",
      "/Volumes/McLaughlin-6TB-1/Dropbox/aapb-hipstas/YouTube_corpus/King, Martin Luther/Martin Luther King, Jr.- The Speech at Galilee-QTW2pn8bKok_svm_King_UBM_900x2s.csv\n",
      "Error in readAudioFile(): Unknown file type!\n",
      "/var/tmp/0.105810193081_temp.wav\n",
      "National Security Threat; Dr. Martin Luther King Jr. , By Michael A. Scott-sHCy7VnK1yk_svm_King_UBM_4000x2s.csv\n",
      "1840.55852294\n",
      "/Volumes/McLaughlin-6TB-1/Dropbox/aapb-hipstas/YouTube_corpus/King, Martin Luther/National Security Threat; Dr. Martin Luther King Jr. , By Michael A. Scott-sHCy7VnK1yk_svm_King_UBM_900x2s.csv\n",
      "Error in readAudioFile(): Unknown file type!\n",
      "/var/tmp/0.0593774639272_temp.wav\n",
      "The Banned MLK Interview-fAlh-HX1K_k_svm_King_UBM_4000x2s.csv\n",
      "1956.83231497\n",
      "/Volumes/McLaughlin-6TB-1/Dropbox/aapb-hipstas/YouTube_corpus/King, Martin Luther/The Banned MLK Interview-fAlh-HX1K_k_svm_King_UBM_900x2s.csv\n",
      "Error in readAudioFile(): Unknown file type!\n"
     ]
    }
   ],
   "source": [
    "# Example speaker search\n",
    "import timeit\n",
    "tic=timeit.default_timer()\n",
    "#print(timeit.default_timer() - tic)\n",
    "\n",
    "#audio_path=test_files[2]\n",
    "\n",
    "for classifier_model_path in classifier_model_paths:\n",
    "    for audio_path in test_files:\n",
    "        try: \n",
    "            dd=find_speaker(audio_path,classifier_model_path)\n",
    "            print(timeit.default_timer() - tic)\n",
    "        except: pass"
   ]
  },
  {
   "cell_type": "code",
   "execution_count": 30,
   "metadata": {},
   "outputs": [
    {
     "name": "stdout",
     "output_type": "stream",
     "text": [
      "1956.87235594\n"
     ]
    }
   ],
   "source": [
    "print(timeit.default_timer() - tic)"
   ]
  },
  {
   "cell_type": "code",
   "execution_count": null,
   "metadata": {
    "collapsed": true
   },
   "outputs": [],
   "source": []
  },
  {
   "cell_type": "code",
   "execution_count": null,
   "metadata": {
    "collapsed": true
   },
   "outputs": [],
   "source": []
  },
  {
   "cell_type": "code",
   "execution_count": null,
   "metadata": {
    "collapsed": true
   },
   "outputs": [],
   "source": []
  },
  {
   "cell_type": "code",
   "execution_count": null,
   "metadata": {
    "collapsed": true
   },
   "outputs": [],
   "source": []
  }
 ],
 "metadata": {
  "kernelspec": {
   "display_name": "Python 2",
   "language": "python",
   "name": "python2"
  },
  "language_info": {
   "codemirror_mode": {
    "name": "ipython",
    "version": 2
   },
   "file_extension": ".py",
   "mimetype": "text/x-python",
   "name": "python",
   "nbconvert_exporter": "python",
   "pygments_lexer": "ipython2",
   "version": "2.7.12"
  }
 },
 "nbformat": 4,
 "nbformat_minor": 1
}
