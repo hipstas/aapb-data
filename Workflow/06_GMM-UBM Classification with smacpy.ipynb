{
 "cells": [
  {
   "cell_type": "code",
   "execution_count": 4,
   "metadata": {
    "collapsed": true
   },
   "outputs": [],
   "source": [
    "import shutil\n",
    "import subprocess\n",
    "import os\n",
    "from itertools import groupby\n",
    "from operator import itemgetter\n",
    "import numpy as np\n",
    "import csv\n",
    "import os\n",
    "import time\n",
    "import copy\n",
    "import pandas as pd\n",
    "\n",
    "os.chdir(os.path.expanduser('~/Dropbox/smacpy'))\n",
    "\n",
    "from smacpy import Smacpy\n"
   ]
  },
  {
   "cell_type": "code",
   "execution_count": null,
   "metadata": {
    "collapsed": true
   },
   "outputs": [],
   "source": [
    "#############################\n",
    "## Enter Speaker Name Here ##\n",
    "#############################\n",
    "\n",
    "speaker = \"Baldwin, James\"\n",
    "\n",
    "corpus_dir = \"/Volumes/McLaughlin-6TB-1/Dropbox/aapb-hipstas/Model_training_clips/\"\n",
    "\n",
    "#############################\n",
    "\n",
    "last_name = speaker.split(', ')[0]\n",
    "\n",
    "print(speaker)\n",
    "print(last_name)"
   ]
  },
  {
   "cell_type": "code",
   "execution_count": 16,
   "metadata": {
    "collapsed": true
   },
   "outputs": [],
   "source": [
    "\n",
    "ubm_dir = os.path.join(corpus_dir,'UBM_'+last_name)\n",
    "speaker_dir =os.path.join(corpus_dir,speaker)\n",
    "\n",
    "num_speaker_clips=len([item for item in os.listdir(speaker_dir) if item.lower()[-4:]=='.wav'])\n",
    "\n",
    "smacpy_dict={}\n",
    "\n",
    "for filename in [item for item in os.listdir(ubm_dir) if '.wav' in item]:\n",
    "\tsmacpy_dict[os.path.join(ubm_dir,filename)]=\"background\"\n",
    "\n",
    "for filename in [item for item in os.listdir(speaker_dir) if '.wav' in item]:\n",
    "\tsmacpy_dict[os.path.join(speaker_dir,filename)]=speaker_dir.strip('/').split('/')[-1]\n",
    "\n",
    "model = Smacpy(\"\", smacpy_dict)"
   ]
  },
  {
   "cell_type": "code",
   "execution_count": 5,
   "metadata": {},
   "outputs": [],
   "source": [
    "\n",
    "def smooth(x,window_len=10,window='hanning'):\n",
    "        if x.ndim != 1:\n",
    "                raise ValueError, \"smooth only accepts 1 dimension arrays.\"\n",
    "        if x.size < window_len:\n",
    "                raise ValueError, \"Input vector needs to be bigger than window size.\"\n",
    "        if window_len<3:\n",
    "                return x\n",
    "        if not window in ['flat', 'hanning', 'hamming', 'bartlett', 'blackman']:\n",
    "                raise ValueError, \"Window is on of 'flat', 'hanning', 'hamming', 'bartlett', 'blackman'\"\n",
    "        s=np.r_[2*x[0]-x[window_len-1::-1],x,2*x[-1]-x[-1:-window_len:-1]]\n",
    "        if window == 'flat': #moving average\n",
    "                w=np.ones(window_len,'d')\n",
    "        else:  \n",
    "                w=eval('np.'+window+'(window_len)')\n",
    "        y=np.convolve(w/w.sum(),s,mode='same')\n",
    "        return y[window_len:-window_len+1]\n",
    "\n",
    "\n",
    "\n",
    "\n",
    "\n",
    "def seconds_list_to_ranges(seconds_list): \n",
    "    ranges = []                \n",
    "    for k, g in groupby(enumerate(seconds_list), lambda (i,x):i-x):\n",
    "        group = map(itemgetter(1), g)\n",
    "        ranges.append((group[0], group[-1]))\n",
    "    return ranges\n",
    "\n",
    "seconds_list_to_ranges([1,2,3,7,8,9,34,99,100,101,102,199])"
   ]
  },
  {
   "cell_type": "code",
   "execution_count": null,
   "metadata": {},
   "outputs": [],
   "source": []
  },
  {
   "cell_type": "code",
   "execution_count": null,
   "metadata": {
    "collapsed": true
   },
   "outputs": [],
   "source": []
  },
  {
   "cell_type": "code",
   "execution_count": 17,
   "metadata": {
    "collapsed": true
   },
   "outputs": [],
   "source": [
    "\n",
    "def classify_audio_file(audio_pathname):\n",
    "    segments_dir_temp = os.path.join(corpus_dir, last_name+'_segments_1_sec')\n",
    "    basename = audio_pathname.split('/')[-1][:-4]\n",
    "    try:\n",
    "        os.mkdir(segments_dir_temp)\n",
    "        subprocess.call(['ffmpeg','-i',audio_pathname,'-n','-f','segment','-segment_time','1','-c','copy',os.path.join(segments_dir_temp,basename+\"_sec_%05d.wav\")])\n",
    "    except:\n",
    "        print(\"Apparently already processed: \"+audio_pathname)\n",
    "    seg_pathnames = [os.path.join(segments_dir_temp, item) for item in os.listdir(segments_dir_temp) if item.lower()[-4:]=='.wav']\n",
    "    output=[]\n",
    "    global speaker\n",
    "    for filename in [item for item in seg_pathnames if '.wav' in item]:\n",
    "        if model.classify(filename) == speaker:\n",
    "            output.append(1)\n",
    "        else:\n",
    "            output.append(0)\n",
    "    \n",
    "    counter=0\n",
    "    speaker_secs=[]\n",
    "    for segment in output:\n",
    "        if segment>0.0:\n",
    "            speaker_secs.append(counter)\n",
    "        counter+=1\n",
    "    speaker_ranges = seconds_list_to_ranges(speaker_secs)\n",
    "    csv_pathname = audio_pathname[:-4]+'_'+last_name+'_GMM_UBM_'+str(num_speaker_clips)+\"x2s.csv\"\n",
    "    with open(csv_pathname, 'w') as csv_fo:\n",
    "        speaker_ranges_expanded=[(start,1,end-start+1) for start,end in speaker_ranges]\n",
    "        csv_writer = csv.writer(csv_fo)\n",
    "        csv_writer.writerows(speaker_ranges_expanded)\n",
    "    ## Smooth version\n",
    "    output_smooth_temp = list(smooth(np.array(output)))\n",
    "    output_smooth=[]\n",
    "    for item in output_smooth_temp:\n",
    "        output_smooth.append(round(item))\n",
    "    counter=0\n",
    "    speaker_secs=[]\n",
    "    for segment in output_smooth:\n",
    "        if segment>0.0:\n",
    "            speaker_secs.append(counter)\n",
    "        counter+=1\n",
    "    speaker_ranges = seconds_list_to_ranges(speaker_secs)\n",
    "    csv_smooth_pathname = audio_pathname[:-4]+'_'+last_name+'_GMM_UBM_smooth10_'+str(num_speaker_clips)+\"x2s.csv\"\n",
    "    with open(csv_smooth_pathname, 'w') as csv_fo:\n",
    "        speaker_ranges_expanded=[(start,1,end-start+1) for start,end in speaker_ranges]\n",
    "        csv_writer = csv.writer(csv_fo)\n",
    "        csv_writer.writerows(speaker_ranges_expanded)\n",
    "    shutil.rmtree(segments_dir_temp)\n",
    "\n",
    "\n",
    "    \n"
   ]
  },
  {
   "cell_type": "code",
   "execution_count": null,
   "metadata": {
    "collapsed": true
   },
   "outputs": [],
   "source": [
    "to_classify=[\"/Volumes/U/AAPB_Corpus_May_2017/Test_Sets/AAPB_Test_Haystack_Baldwin/cpb-aacip-15-0v89g5gf5r__barcode94696_clip1_.h264.16000.wav\",'/Volumes/U/AAPB_Corpus_May_2017/Test_Sets/AAPB_Test_Haystack_Baldwin/cpb-aacip-15-83xsjk31.16000.wav', '/Volumes/U/AAPB_Corpus_May_2017/Test_Sets/AAPB_Test_Haystack_Baldwin/cpb-aacip-28-8s4jm23q52__PRA_AAPP_BB0632_A_conversation_with_James_Baldwin_.16000.wav', '/Volumes/U/AAPB_Corpus_May_2017/Test_Sets/AAPB_Test_Haystack_Baldwin/cpb-aacip-28-9z90863j5g__PRA_AAPP_BB2011_Free_and_brave_.16000.wav', '/Volumes/U/AAPB_Corpus_May_2017/Test_Sets/AAPB_Test_Haystack_Baldwin/cpb-aacip-500-2v2ccw7g.16000.wav', '/Volumes/U/AAPB_Corpus_May_2017/Test_Sets/AAPB_Test_Haystack_Baldwin/cpb-aacip-500-mc8rgt5t.16000.wav']\n",
    "\n",
    "for pathname in to_classify:\n",
    "    classify_audio_file(pathname)"
   ]
  },
  {
   "cell_type": "code",
   "execution_count": null,
   "metadata": {
    "collapsed": true
   },
   "outputs": [],
   "source": []
  },
  {
   "cell_type": "code",
   "execution_count": null,
   "metadata": {
    "collapsed": true
   },
   "outputs": [],
   "source": []
  },
  {
   "cell_type": "code",
   "execution_count": null,
   "metadata": {
    "collapsed": true
   },
   "outputs": [],
   "source": []
  }
 ],
 "metadata": {
  "kernelspec": {
   "display_name": "Python 2",
   "language": "python",
   "name": "python2"
  },
  "language_info": {
   "codemirror_mode": {
    "name": "ipython",
    "version": 2
   },
   "file_extension": ".py",
   "mimetype": "text/x-python",
   "name": "python",
   "nbconvert_exporter": "python",
   "pygments_lexer": "ipython2",
   "version": "2.7.12"
  }
 },
 "nbformat": 4,
 "nbformat_minor": 2
}
