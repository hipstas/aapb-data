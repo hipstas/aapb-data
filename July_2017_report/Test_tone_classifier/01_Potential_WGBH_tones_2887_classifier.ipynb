{
 "cells": [
  {
   "cell_type": "code",
   "execution_count": 1,
   "metadata": {
    "collapsed": true
   },
   "outputs": [],
   "source": [
    "%%capture\n",
    "# Install the latest version of attk (if necessary)\n",
    "#!pip install -U git+git://github.com/hipstas/audio-tagging-toolkit.git"
   ]
  },
  {
   "cell_type": "code",
   "execution_count": 2,
   "metadata": {
    "collapsed": true
   },
   "outputs": [],
   "source": [
    "import os\n",
    "import attk\n",
    "import csv\n",
    "import joblib\n",
    "\n",
    "import os\n",
    "import numpy as np\n",
    "import librosa\n",
    "from IPython.display import display, Audio\n",
    "import timeit\n",
    "import random\n",
    "from sklearn.externals import joblib\n",
    "\n",
    "from sklearn.ensemble import ExtraTreesClassifier\n",
    "\n",
    "from IPython.display import display, Audio\n",
    "\n",
    "random.seed(1002) ## Seeding random number generator for reproducibility"
   ]
  },
  {
   "cell_type": "code",
   "execution_count": null,
   "metadata": {
    "collapsed": true
   },
   "outputs": [],
   "source": [
    "label_table=[]\n",
    "\n",
    "with open(\"Potential_WGBH_tones_2887_1-sec_labels.csv\") as csvfile:\n",
    "    spamreader = csv.reader(csvfile)\n",
    "    for row in spamreader:\n",
    "        label_table.append(row)\n",
    "\n"
   ]
  },
  {
   "cell_type": "code",
   "execution_count": null,
   "metadata": {
    "collapsed": true
   },
   "outputs": [],
   "source": [
    "filenames=os.listdir(\"Potential_WGBH_tones_2887\")\n",
    "filenames[:5]"
   ]
  },
  {
   "cell_type": "code",
   "execution_count": null,
   "metadata": {
    "collapsed": true
   },
   "outputs": [],
   "source": [
    "!mkdir AAPB_test_tones\n",
    "!mkdir AAPB_silence\n",
    "!mkdir AAPB_bg_speakers\n",
    "!mkdir AAPB_music"
   ]
  },
  {
   "cell_type": "code",
   "execution_count": null,
   "metadata": {
    "collapsed": true
   },
   "outputs": [],
   "source": [
    "out_dir=\"/home/sharedfolder/AAPB_test_tones/\"\n",
    "\n",
    "for row in label_table:\n",
    "    filename=row[0]+'.wav'\n",
    "    wav_path='Potential_WGBH_tones_2887/'+filename\n",
    "    label=row[-1]\n",
    "    if label == \"Test tone\":\n",
    "        attk.subclip(wav_path,0,1,out_dir)"
   ]
  },
  {
   "cell_type": "code",
   "execution_count": null,
   "metadata": {
    "collapsed": true
   },
   "outputs": [],
   "source": [
    "out_dir=\"/home/sharedfolder/AAPB_silence/\"\n",
    "\n",
    "for row in label_table:\n",
    "    filename=row[0]+'.wav'\n",
    "    wav_path='Potential_WGBH_tones_2887/'+filename\n",
    "    label=row[-1]\n",
    "    if label == \"Silence\":\n",
    "        attk.subclip(wav_path,0,1,out_dir)"
   ]
  },
  {
   "cell_type": "code",
   "execution_count": null,
   "metadata": {
    "collapsed": true
   },
   "outputs": [],
   "source": [
    "out_dir=\"/home/sharedfolder/AAPB_bg_speakers/\"\n",
    "\n",
    "for row in label_table:\n",
    "    filename=row[0]+'.wav'\n",
    "    wav_path='Potential_WGBH_tones_2887/'+filename\n",
    "    label=row[-1]\n",
    "    if label == \"Background Speaker\":\n",
    "        attk.subclip(wav_path,0,1,out_dir)"
   ]
  },
  {
   "cell_type": "code",
   "execution_count": null,
   "metadata": {
    "collapsed": true
   },
   "outputs": [],
   "source": [
    "out_dir=\"/home/sharedfolder/AAPB_music/\"\n",
    "\n",
    "for row in label_table:\n",
    "    filename=row[0]+'.wav'\n",
    "    wav_path='Potential_WGBH_tones_2887/'+filename\n",
    "    label=row[-1]\n",
    "    if label == \"Music\":\n",
    "        attk.subclip(wav_path,0,1,out_dir)"
   ]
  },
  {
   "cell_type": "code",
   "execution_count": null,
   "metadata": {
    "collapsed": true
   },
   "outputs": [],
   "source": []
  },
  {
   "cell_type": "code",
   "execution_count": null,
   "metadata": {
    "collapsed": true
   },
   "outputs": [],
   "source": [
    "dir_0 = 'AAPB_test_tones'\n",
    "dir_1 = 'AAPB_silence'\n",
    "dir_2 = 'AAPB_bg_speakers'\n",
    "dir_3 = 'AAPB_music'"
   ]
  },
  {
   "cell_type": "code",
   "execution_count": null,
   "metadata": {
    "collapsed": true
   },
   "outputs": [],
   "source": [
    "\n",
    "mfccs_0 = []\n",
    "\n",
    "for filename in os.listdir(dir_0):\n",
    "    if '.wav' in filename:\n",
    "        mfccs_0 += attk.get_mfccs_and_deltas(os.path.join(dir_0,filename))\n",
    "\n",
    "mfccs_0[:1][0]"
   ]
  },
  {
   "cell_type": "code",
   "execution_count": null,
   "metadata": {
    "collapsed": true
   },
   "outputs": [],
   "source": [
    "\n",
    "mfccs_1 = []\n",
    "\n",
    "for filename in os.listdir(dir_1):\n",
    "    if '.wav' in filename:\n",
    "        mfccs_1 += attk.get_mfccs_and_deltas(os.path.join(dir_1,filename))\n",
    "\n",
    "mfccs_1[:1][0]"
   ]
  },
  {
   "cell_type": "code",
   "execution_count": null,
   "metadata": {
    "collapsed": true
   },
   "outputs": [],
   "source": [
    "mfccs_2 = []\n",
    "\n",
    "for filename in os.listdir(dir_2):\n",
    "    if '.wav' in filename:\n",
    "        mfccs_2 += attk.get_mfccs_and_deltas(os.path.join(dir_2,filename))\n",
    "\n",
    "mfccs_2[:1][0]"
   ]
  },
  {
   "cell_type": "code",
   "execution_count": null,
   "metadata": {
    "collapsed": true
   },
   "outputs": [],
   "source": [
    "\n",
    "mfccs_3 = []\n",
    "\n",
    "for filename in os.listdir(dir_3):\n",
    "    if '.wav' in filename:\n",
    "        mfccs_3 += attk.get_mfccs_and_deltas(os.path.join(dir_3,filename))\n",
    "\n",
    "mfccs_3[:1][0]"
   ]
  },
  {
   "cell_type": "code",
   "execution_count": null,
   "metadata": {
    "collapsed": true
   },
   "outputs": [],
   "source": [
    "# For 2-fold validation\n",
    "\n",
    "X = mfccs_0[:len(mfccs_0)/2] + \\\n",
    "    mfccs_1[:len(mfccs_1)/2] + \\\n",
    "    mfccs_2[:len(mfccs_2)/2] + \\\n",
    "    mfccs_3[:len(mfccs_3)/2]\n",
    "\n",
    "y = [0]*(len(mfccs_0)/2) + \\\n",
    "    [1]*(len(mfccs_1)/2) + \\\n",
    "    [1]*(len(mfccs_2)/2) + \\\n",
    "    [1]*(len(mfccs_3)/2)\n",
    "\n",
    "print(len(X))\n",
    "print(len(y))\n"
   ]
  },
  {
   "cell_type": "code",
   "execution_count": null,
   "metadata": {
    "collapsed": true
   },
   "outputs": [],
   "source": [
    "# For 2-fold validation\n",
    "\n",
    "X_test = mfccs_0[len(mfccs_0)/2:] + \\\n",
    "    mfccs_1[len(mfccs_1)/2:] + \\\n",
    "    mfccs_2[len(mfccs_2)/2:] + \\\n",
    "    mfccs_3[len(mfccs_3)/2:]\n",
    "\n",
    "y_test = [0]*len((mfccs_0[len(mfccs_0)/2:])) + \\\n",
    "    [1]*len((mfccs_1[len(mfccs_1)/2:])) + \\\n",
    "    [1]*len((mfccs_2[len(mfccs_2)/2:])) + \\\n",
    "    [1]*len((mfccs_3[len(mfccs_3)/2:]))\n",
    "\n",
    "print(len(X_test))\n",
    "print(len(y_test))"
   ]
  },
  {
   "cell_type": "code",
   "execution_count": null,
   "metadata": {
    "collapsed": true
   },
   "outputs": [],
   "source": [
    "# Using all data to train the actual classifier\n",
    "## Skip this cell for 2-fold validation\n",
    "\n",
    "X = mfccs_0 + mfccs_1 + mfccs_2 + mfccs_3\n",
    "\n",
    "y = [0]*len(mfccs_0) + \\\n",
    "    [1]*len(mfccs_1) + \\\n",
    "    [1]*len(mfccs_2) + \\\n",
    "    [1]*len(mfccs_3)\n",
    "\n",
    "print(len(X))\n",
    "print(len(y))"
   ]
  },
  {
   "cell_type": "code",
   "execution_count": null,
   "metadata": {
    "collapsed": true
   },
   "outputs": [],
   "source": []
  },
  {
   "cell_type": "code",
   "execution_count": null,
   "metadata": {
    "collapsed": true
   },
   "outputs": [],
   "source": [
    "# Training a model and saving it to disk\n",
    "\n",
    "from sklearn.ensemble import ExtraTreesClassifier\n",
    "\n",
    "extra_trees = ExtraTreesClassifier().fit(X, y)\n",
    "\n",
    "joblib.dump(extra_trees,'aapb_test_tones_extra_trees.pkl')\n",
    "extra_trees=joblib.load('aapb_test_tones_extra_trees.pkl')\n",
    "\n",
    "#extra_trees.score(X_test,y_test)"
   ]
  },
  {
   "cell_type": "code",
   "execution_count": null,
   "metadata": {
    "collapsed": true
   },
   "outputs": [],
   "source": []
  },
  {
   "cell_type": "code",
   "execution_count": null,
   "metadata": {
    "collapsed": true
   },
   "outputs": [],
   "source": [
    "!mkdir temp_clip"
   ]
  },
  {
   "cell_type": "code",
   "execution_count": null,
   "metadata": {
    "collapsed": true
   },
   "outputs": [],
   "source": [
    "# Ran the 2 cells below repeatedly to design my heuristic"
   ]
  },
  {
   "cell_type": "code",
   "execution_count": null,
   "metadata": {
    "collapsed": true
   },
   "outputs": [],
   "source": [
    "try:\n",
    "    os.remove(clip_pathname)\n",
    "except:\n",
    "    pass\n",
    "\n",
    "filename = random.choice(os.listdir('AAPB_Subset_4000'))\n",
    "test_pathname = 'AAPB_Subset_4000/'+filename\n",
    "\n",
    "print(filename)\n",
    "\n",
    "attk.subclip(test_pathname,0,80,'temp_clip/')\n",
    "\n",
    "clip_pathname='temp_clip/'+os.listdir('temp_clip/')[0]\n",
    "\n",
    "test_mfccs = attk.get_mfccs_and_deltas(clip_pathname)\n",
    "\n",
    "print(clip_pathname)\n",
    "\n",
    "results = extra_trees.predict(test_mfccs)  ## Predicting new observation\n",
    "\n",
    "print(list(results[:150])+['...'])\n",
    "print(np.mean(attk.smooth(results)[:50]))\n",
    "\n",
    "if np.mean(attk.smooth(results)[:50])<0.6:\n",
    "    display(Audio(clip_pathname))"
   ]
  },
  {
   "cell_type": "code",
   "execution_count": null,
   "metadata": {
    "collapsed": true
   },
   "outputs": [],
   "source": [
    "# Second positions where test tones begin and end:\n",
    "\n",
    "confirmed_tones=[]\n",
    "\n",
    "if True: #np.mean(attk.smooth(results)[:60])<0.5:\n",
    "    smoothed_ranges = attk.labels_to_ranges([round(item) \\\n",
    "                                for item in attk.smooth(results,window_len=10)],label=0)\n",
    "    if len(smoothed_ranges)>0:\n",
    "        for pair in smoothed_ranges:\n",
    "            start, end = pair\n",
    "            if (end-start) > 5:\n",
    "                start_time = (80.0/len(results))*start\n",
    "                end_time = (80.0/len(results))*(end+5)\n",
    "                confirmed_tones.append((start_time,end_time))\n",
    "    else:\n",
    "        print(\"No tone.\")\n",
    "\n",
    "print(confirmed_tones)"
   ]
  },
  {
   "cell_type": "code",
   "execution_count": null,
   "metadata": {
    "collapsed": true
   },
   "outputs": [],
   "source": []
  },
  {
   "cell_type": "code",
   "execution_count": null,
   "metadata": {
    "collapsed": true
   },
   "outputs": [],
   "source": []
  },
  {
   "cell_type": "code",
   "execution_count": null,
   "metadata": {},
   "outputs": [
    {
     "ename": "NameError",
     "evalue": "name 'joblib' is not defined",
     "output_type": "error",
     "traceback": [
      "\u001b[0;31m\u001b[0m",
      "\u001b[0;31mNameError\u001b[0mTraceback (most recent call last)",
      "\u001b[0;32m<ipython-input-1-8f6c58e90b6f>\u001b[0m in \u001b[0;36m<module>\u001b[0;34m()\u001b[0m\n\u001b[1;32m      3\u001b[0m \u001b[0;32mfrom\u001b[0m \u001b[0msklearn\u001b[0m\u001b[0;34m.\u001b[0m\u001b[0mensemble\u001b[0m \u001b[0;32mimport\u001b[0m \u001b[0mExtraTreesClassifier\u001b[0m\u001b[0;34m\u001b[0m\u001b[0m\n\u001b[1;32m      4\u001b[0m \u001b[0;34m\u001b[0m\u001b[0m\n\u001b[0;32m----> 5\u001b[0;31m \u001b[0mextra_trees\u001b[0m\u001b[0;34m=\u001b[0m\u001b[0mjoblib\u001b[0m\u001b[0;34m.\u001b[0m\u001b[0mload\u001b[0m\u001b[0;34m(\u001b[0m\u001b[0;34m'aapb_test_tones_extra_trees.pkl'\u001b[0m\u001b[0;34m)\u001b[0m\u001b[0;34m\u001b[0m\u001b[0m\n\u001b[0m\u001b[1;32m      6\u001b[0m \u001b[0;34m\u001b[0m\u001b[0m\n\u001b[1;32m      7\u001b[0m \u001b[0;31m##########################################################\u001b[0m\u001b[0;34m\u001b[0m\u001b[0;34m\u001b[0m\u001b[0m\n",
      "\u001b[0;31mNameError\u001b[0m: name 'joblib' is not defined"
     ]
    }
   ],
   "source": [
    "######## RESUME HERE WHEN USING PRE-TRAINED MODEL ########\n",
    "\n",
    "from sklearn.ensemble import ExtraTreesClassifier\n",
    "\n",
    "extra_trees=joblib.load('aapb_test_tones_extra_trees.pkl')\n",
    "\n",
    "##########################################################"
   ]
  },
  {
   "cell_type": "code",
   "execution_count": null,
   "metadata": {
    "collapsed": true
   },
   "outputs": [],
   "source": [
    "## Assembling the batch run"
   ]
  },
  {
   "cell_type": "code",
   "execution_count": null,
   "metadata": {},
   "outputs": [],
   "source": [
    "## Creating a list of all media pathnames within a directory (including subdirectories)\n",
    "\n",
    "media_paths = attk.find_media_paths('AAPB_Subset_4000/')\n",
    "\n",
    "media_paths[:3]+['...']"
   ]
  },
  {
   "cell_type": "code",
   "execution_count": 6,
   "metadata": {
    "collapsed": true
   },
   "outputs": [],
   "source": [
    "## Creating a list of files that have already been classified (in case we get interrupted)\n",
    "\n",
    "completed_filenames=[]\n",
    "\n",
    "with open('Potential_WGBH_tones_2887_classifier_4K_batch.csv') as csvfile:\n",
    "    csvreader = csv.reader(csvfile)\n",
    "    for row in csvreader:\n",
    "        try:\n",
    "            completed_filenames.append(row[0])\n",
    "        except:\n",
    "            print(\"Problem loading: \"+str(row))"
   ]
  },
  {
   "cell_type": "code",
   "execution_count": 7,
   "metadata": {
    "collapsed": true
   },
   "outputs": [],
   "source": [
    "try: os.mkdir('temp_clip')\n",
    "except: pass"
   ]
  },
  {
   "cell_type": "code",
   "execution_count": null,
   "metadata": {
    "collapsed": true
   },
   "outputs": [],
   "source": [
    "import random\n",
    "import csv\n",
    "\n",
    "import timeit\n",
    "\n",
    "errors=[]\n",
    "\n",
    "for media_path in media_paths: \n",
    "#for media_path in random.sample(media_paths,10):  ## Alternative for classifying \n",
    "                                                   ## a random subset\n",
    "    print(media_path)\n",
    "\n",
    "    ## Starting timer\n",
    "    tic=timeit.default_timer()\n",
    "    \n",
    "    try:\n",
    "        if media_path.split('/')[-1] not in completed_filenames: ## Checking whether file\n",
    "                                                                 ## been classified already\n",
    "\n",
    "            ## Creating temporary WAV excerpt and extracting features\n",
    "            clip_pathname = attk.subclip(media_path,0,80,'temp_clip/')  ## first 80 seconds\n",
    "            test_mfccs = attk.get_mfccs_and_deltas(clip_pathname)\n",
    "            \n",
    "            ## Classifying audio\n",
    "            results = extra_trees.predict(test_mfccs)\n",
    "            print(list(results[:150])+['...'])\n",
    "            \n",
    "            ## Smoothing and filtering output\n",
    "            smoothed_ranges = attk.labels_to_ranges( \\\n",
    "                        [round(item) for item in attk.smooth(results, window_len=10)], \\\n",
    "                        label=0)\n",
    "            \n",
    "            confirmed_tones=[]\n",
    "            \n",
    "            if len(smoothed_ranges)>0:\n",
    "                for pair in smoothed_ranges:\n",
    "                    start, end = pair\n",
    "                    if (end-start) > 5:\n",
    "                        start_time = (80.0/len(results))*start         \n",
    "                        end_time = (80.0/len(results))*(end+5)\n",
    "                        confirmed_tones.append((start_time,end_time))\n",
    "            \n",
    "            ## Writing positive classification ranges to CSV\n",
    "            csvfile = open('Potential_WGBH_tones_2887_classifier_4K_batch.csv','a')\n",
    "            csvwriter = csv.writer(csvfile)\n",
    "            \n",
    "            for pair in confirmed_tones:\n",
    "                start, end = pair\n",
    "                csvwriter.writerow([media_path.split('/')[-1],str(round(start,4)),str(round(end,4))])\n",
    "            \n",
    "            if len(confirmed_tones)==0:\n",
    "                csvwriter.writerow([media_path.split('/')[-1],'',''])\n",
    "            \n",
    "            csvfile.close()\n",
    "            \n",
    "            ## Deleting temporary WAV clip\n",
    "            try: os.remove(clip_pathname)\n",
    "            except: print \"** Error: Can't remove \"+clip_pathname\n",
    "\n",
    "    ## Printing and storing errors\n",
    "    except Exception as e:\n",
    "        error_pair=(media_path,e)\n",
    "        print(error_pair)\n",
    "        errors.append(error_pair)\n",
    "    \n",
    "    ## Printing time elapsed\n",
    "    print(\"Time elapsed: \"+str(timeit.default_timer() - tic))\n",
    "\n",
    "\n",
    "for item in errors:\n",
    "    print str(item)+'\\n'"
   ]
  },
  {
   "cell_type": "code",
   "execution_count": null,
   "metadata": {
    "collapsed": true
   },
   "outputs": [],
   "source": []
  },
  {
   "cell_type": "code",
   "execution_count": null,
   "metadata": {
    "collapsed": true
   },
   "outputs": [],
   "source": []
  },
  {
   "cell_type": "code",
   "execution_count": null,
   "metadata": {
    "collapsed": true
   },
   "outputs": [],
   "source": []
  },
  {
   "cell_type": "code",
   "execution_count": null,
   "metadata": {
    "collapsed": true
   },
   "outputs": [],
   "source": []
  },
  {
   "cell_type": "code",
   "execution_count": null,
   "metadata": {
    "collapsed": true
   },
   "outputs": [],
   "source": []
  },
  {
   "cell_type": "code",
   "execution_count": null,
   "metadata": {
    "collapsed": true
   },
   "outputs": [],
   "source": []
  },
  {
   "cell_type": "markdown",
   "metadata": {
    "collapsed": true
   },
   "source": [
    "## *Multiprocessing*"
   ]
  },
  {
   "cell_type": "code",
   "execution_count": 8,
   "metadata": {
    "collapsed": true
   },
   "outputs": [],
   "source": [
    "## Function version of the script above, for multithreading\n",
    "\n",
    "def classify_and_save(media_path):\n",
    "    \n",
    "    ## Starting timer\n",
    "    tic=timeit.default_timer()\n",
    "    \n",
    "    try:\n",
    "        if media_path.split('/')[-1] not in completed_filenames: ## Checking whether file\n",
    "                                                                 ## been classified already\n",
    "\n",
    "            ## Creating temporary WAV excerpt and extracting features\n",
    "            clip_pathname = attk.subclip(media_path,0,80,'temp_clip/')  ## first 80 seconds\n",
    "            test_mfccs = attk.get_mfccs_and_deltas(clip_pathname)\n",
    "            \n",
    "            ## Classifying audio\n",
    "            results = extra_trees.predict(test_mfccs)\n",
    "            print(list(results[:150])+['...'])\n",
    "            \n",
    "            ## Smoothing and filtering output\n",
    "            smoothed_ranges = attk.labels_to_ranges( \\\n",
    "                        [round(item) for item in attk.smooth(results, window_len=10)], \\\n",
    "                        label=0)\n",
    "            \n",
    "            confirmed_tones=[]\n",
    "            \n",
    "            if len(smoothed_ranges)>0:\n",
    "                for pair in smoothed_ranges:\n",
    "                    start, end = pair\n",
    "                    if (end-start) > 5:\n",
    "                        start_time = (80.0/len(results))*start         \n",
    "                        end_time = (80.0/len(results))*(end+5)\n",
    "                        confirmed_tones.append((start_time,end_time))\n",
    "            \n",
    "            ## Writing positive classification ranges to CSV\n",
    "            with open('Potential_WGBH_tones_2887_classifier_4K_batch.csv','a') as csvfile:\n",
    "                csvwriter = csv.writer(csvfile)\n",
    "            \n",
    "                for pair in confirmed_tones:\n",
    "                    start, end = pair\n",
    "                    csvwriter.writerow([media_path.split('/')[-1],str(round(start,4)),str(round(end,4))])\n",
    "            \n",
    "                if len(confirmed_tones)==0:\n",
    "                    csvwriter.writerow([media_path.split('/')[-1],'',''])\n",
    "            \n",
    "            ## Deleting temporary WAV clip\n",
    "            try: os.remove(clip_pathname)\n",
    "            except: print \"** Error: Can't remove \"+clip_pathname\n",
    "\n",
    "    ## Printing and storing errors\n",
    "    except Exception as e:\n",
    "        error_pair=(media_path,e)\n",
    "        print(error_pair)\n",
    "        errors.append(error_pair)\n",
    "    \n",
    "    time.sleep(random.random())\n",
    "    \n",
    "    ## Printing time elapsed\n",
    "    print(\"Time elapsed: \"+str(timeit.default_timer() - tic))\n",
    "    if float(timeit.default_timer() - tic) > 0.5:\n",
    "        print \"***\"\n",
    "\n"
   ]
  },
  {
   "cell_type": "code",
   "execution_count": 9,
   "metadata": {
    "collapsed": true
   },
   "outputs": [],
   "source": [
    "import random\n",
    "import csv\n",
    "import time\n",
    "import timeit\n",
    "\n",
    "errors=[]\n",
    "\n",
    "\n",
    "\n"
   ]
  },
  {
   "cell_type": "code",
   "execution_count": 10,
   "metadata": {},
   "outputs": [
    {
     "name": "stdout",
     "output_type": "stream",
     "text": [
      "4669\n"
     ]
    }
   ],
   "source": [
    "\n",
    "def update_completed_list():\n",
    "    completed_filenames=[]\n",
    "\n",
    "    with open('Potential_WGBH_tones_2887_classifier_4K_batch.csv') as csvfile:\n",
    "        csvreader = csv.reader(csvfile)\n",
    "        for row in csvreader:\n",
    "            try:\n",
    "                completed_filenames.append(row[0])\n",
    "            except:\n",
    "                print(\"Problem loading: \"+str(row))\n",
    "\n",
    "update_completed_list()\n",
    "print len(list(set(completed_filenames)))"
   ]
  },
  {
   "cell_type": "code",
   "execution_count": null,
   "metadata": {
    "collapsed": true
   },
   "outputs": [],
   "source": []
  },
  {
   "cell_type": "code",
   "execution_count": null,
   "metadata": {
    "collapsed": true
   },
   "outputs": [],
   "source": []
  },
  {
   "cell_type": "code",
   "execution_count": null,
   "metadata": {
    "collapsed": true
   },
   "outputs": [],
   "source": []
  },
  {
   "cell_type": "code",
   "execution_count": null,
   "metadata": {
    "collapsed": true
   },
   "outputs": [],
   "source": []
  },
  {
   "cell_type": "code",
   "execution_count": null,
   "metadata": {
    "collapsed": true
   },
   "outputs": [],
   "source": []
  },
  {
   "cell_type": "code",
   "execution_count": null,
   "metadata": {
    "collapsed": true
   },
   "outputs": [],
   "source": []
  },
  {
   "cell_type": "code",
   "execution_count": null,
   "metadata": {},
   "outputs": [],
   "source": [
    "%%capture\n",
    "\n",
    "# Classifying in parallel batches of 2\n",
    "\n",
    "import time\n",
    "\n",
    "from multiprocessing import Pool\n",
    "\n",
    "\n",
    "\n",
    "for i in range(1000):\n",
    "    tic=timeit.default_timer()\n",
    "    pool_media_paths=[]\n",
    "    \n",
    "    pool = Pool(2)\n",
    "    \n",
    "    for j in range(2):\n",
    "        media_path = random.choice(media_paths)\n",
    "        update_completed_list()\n",
    "        counter=0\n",
    "        while media_path.split('/')[-1] in completed_filenames:\n",
    "            media_path = random.choice(media_paths)\n",
    "            counter+=1\n",
    "            if counter>10000:\n",
    "                print(\"Looks like you might be done.\")\n",
    "                break\n",
    "                break\n",
    "                break\n",
    "        pool_media_paths.append(media_path)\n",
    "\n",
    "    print(pool_media_paths)\n",
    "    pool.map(classify_and_save, pool_media_paths)\n",
    "    print(\"Time elapsed: \"+str(timeit.default_timer() - tic))\n",
    "\n"
   ]
  },
  {
   "cell_type": "code",
   "execution_count": null,
   "metadata": {
    "collapsed": true
   },
   "outputs": [],
   "source": []
  },
  {
   "cell_type": "code",
   "execution_count": null,
   "metadata": {
    "collapsed": true
   },
   "outputs": [],
   "source": []
  },
  {
   "cell_type": "code",
   "execution_count": null,
   "metadata": {
    "collapsed": true
   },
   "outputs": [],
   "source": []
  },
  {
   "cell_type": "code",
   "execution_count": null,
   "metadata": {
    "collapsed": true
   },
   "outputs": [],
   "source": []
  },
  {
   "cell_type": "code",
   "execution_count": null,
   "metadata": {
    "collapsed": true
   },
   "outputs": [],
   "source": []
  },
  {
   "cell_type": "code",
   "execution_count": null,
   "metadata": {
    "collapsed": true
   },
   "outputs": [],
   "source": [
    "%%capture\n",
    "\n",
    "# Classifying in multithreaded batches of 4\n",
    "\n",
    "import time\n",
    "\n",
    "from multiprocessing import Process\n",
    "\n",
    "tic=timeit.default_timer()\n",
    "\n",
    "for i in range(100):\n",
    "    for j in range(4):\n",
    "        media_path = random.choice(media_paths)\n",
    "        update_completed_list()\n",
    "        counter=0\n",
    "        while media_path.split('/')[-1] in completed_filenames:\n",
    "            media_path = random.choice(media_paths)\n",
    "            counter+=1\n",
    "            if counter>10000:\n",
    "                print(\"Looks like you might be done.\")\n",
    "                break\n",
    "                break\n",
    "                break\n",
    "        print(media_path)\n",
    "        p = Process(target=classify_and_save, args=(media_path,))\n",
    "        p.start()\n",
    "        time.sleep(2.7)\n",
    "        print(\"*****\")\n",
    "    p.join()"
   ]
  },
  {
   "cell_type": "code",
   "execution_count": null,
   "metadata": {
    "collapsed": true
   },
   "outputs": [],
   "source": []
  },
  {
   "cell_type": "code",
   "execution_count": null,
   "metadata": {
    "collapsed": true
   },
   "outputs": [],
   "source": [
    "print(\"Time elapsed: \"+str(timeit.default_timer() - tic))"
   ]
  },
  {
   "cell_type": "code",
   "execution_count": null,
   "metadata": {
    "collapsed": true
   },
   "outputs": [],
   "source": [
    "print(errors)"
   ]
  },
  {
   "cell_type": "code",
   "execution_count": null,
   "metadata": {
    "collapsed": true
   },
   "outputs": [],
   "source": []
  }
 ],
 "metadata": {
  "kernelspec": {
   "display_name": "Python 2",
   "language": "python",
   "name": "python2"
  },
  "language_info": {
   "codemirror_mode": {
    "name": "ipython",
    "version": 2
   },
   "file_extension": ".py",
   "mimetype": "text/x-python",
   "name": "python",
   "nbconvert_exporter": "python",
   "pygments_lexer": "ipython2",
   "version": "2.7.6"
  }
 },
 "nbformat": 4,
 "nbformat_minor": 2
}
