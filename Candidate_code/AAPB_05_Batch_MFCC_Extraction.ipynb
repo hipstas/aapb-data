{
 "cells": [
  {
   "cell_type": "markdown",
   "metadata": {},
   "source": [
    "## Extract 64 Mel-frequency cepstral coefficients with Librosa\n",
    "- fft window size = 2048"
   ]
  },
  {
   "cell_type": "code",
   "execution_count": null,
   "metadata": {
    "collapsed": false
   },
   "outputs": [],
   "source": [
    "import librosa\n",
    "import pandas as pd  \n",
    "import numpy as np\n",
    "import os\n",
    "\n",
    "from __future__ import print_function  # for Python 3-style printing"
   ]
  },
  {
   "cell_type": "code",
   "execution_count": 2,
   "metadata": {
    "collapsed": false
   },
   "outputs": [],
   "source": [
    "## Takes WAV file path and returns a pandas dataframe containing normalized MFCC data\n",
    "\n",
    "def wav_to_mfcc(audio_path):\n",
    "    y, sr = librosa.load(audio_path)\n",
    "    # Let's make a mel-scaled power (energy-squared) spectrogram\n",
    "    S = librosa.feature.melspectrogram(y, sr=sr, n_mels=64, n_fft=2048)\n",
    "    # Convert to log scale (dB). We'll use the peak power as reference.\n",
    "    log_S = librosa.logamplitude(S, ref_power=np.max)\n",
    "    log_S_rotated=np.rot90(log_S,3)\n",
    "    log_S_df=pd.pandas.DataFrame(log_S_rotated)\n",
    "    log_S_df['Value']=audio_path.split(\"/\")[-1].split(\"|\")[0]\n",
    "    log_S_df['Basename']=audio_path.split(\"/\")[-1].split(\"|\")[-1].strip(\".wav\").strip(\".mp4\").strip(\".mp3\")\n",
    "    return log_S_df\n",
    "\n",
    "## Takes WAV file path and writes MFCC data to CSV in the current working directory\n",
    "\n",
    "def mfcc_out(audio_path):\n",
    "    mfcc_1=wav_to_mfcc(audio_path)\n",
    "    mfcc_1.to_csv(audio_path.replace('.wav','')+\".mfcc.csv\", index=False)\n"
   ]
  },
  {
   "cell_type": "code",
   "execution_count": 3,
   "metadata": {
    "collapsed": false
   },
   "outputs": [],
   "source": [
    "## Change to directory containing speech tag excerpts in WAV form\n",
    "\n",
    "wav_dir = os.path.expanduser('~/Dropbox/test_set_50_clips/')\n",
    "os.chdir(wav_dir)\n",
    "filenames=os.listdir('./')\n",
    "\n",
    "## \n",
    "\n",
    "for filename in filenames:\n",
    "    if \".wav\" in filename:\n",
    "        if filename.replace(\".wav\",\".mfcc.csv\") not in filenames:\n",
    "            try:\n",
    "                mfcc_out(filename)\n",
    "            except:\n",
    "                print(\"error: \"+filename)\n"
   ]
  },
  {
   "cell_type": "markdown",
   "metadata": {},
   "source": [
    "## Extract 13 Mel-frequency cepstral coefficients + 13 deltas + 13 delta-deltas\n",
    "- fft window size = 2048"
   ]
  },
  {
   "cell_type": "code",
   "execution_count": 4,
   "metadata": {
    "collapsed": true
   },
   "outputs": [],
   "source": [
    "## Takes WAV file path and returns a pandas dataframe containing 13 normalized MFCCs + deltas + delta-deltas\n",
    "\n",
    "def wav_to_mfcc_deltas(audio_path):\n",
    "    y, sr = librosa.load(audio_path)\n",
    "    S = librosa.feature.melspectrogram(y, sr=sr, n_mels=128, n_fft=2048)\n",
    "    log_S = librosa.logamplitude(S, ref_power=np.max)\n",
    "    mfcc = librosa.feature.mfcc(S=log_S, n_mfcc=13)\n",
    "    delta_mfcc  = librosa.feature.delta(mfcc)\n",
    "    delta2_mfcc = librosa.feature.delta(mfcc, order=2)\n",
    "    mfcc_all=pd.concat([pd.DataFrame(mfcc),pd.DataFrame(delta_mfcc),pd.DataFrame(delta2_mfcc)])\n",
    "    mfcc_rotated=np.rot90(mfcc_all,3)\n",
    "    mfcc_df=pd.pandas.DataFrame(mfcc_rotated)\n",
    "    mfcc_df['Value']=audio_path.split(\"/\")[-1].split(\"|\")[0]\n",
    "    mfcc_df['Basename']=audio_path.split(\"/\")[-1].split(\"|\")[-1].strip(\".wav\").strip(\".mp4\").strip(\".mp3\")\n",
    "    return mfcc_df\n",
    "\n",
    "## Takes WAV file path and writes MFCC data to CSV in the current working directory\n",
    "\n",
    "def mfcc_out_deltas(audio_path):\n",
    "    mfcc_1=wav_to_mfcc(audio_path)\n",
    "    mfcc_1.to_csv(audio_path.replace('.wav','')+\"_deltas.mfcc.csv\", index=False)\n"
   ]
  },
  {
   "cell_type": "code",
   "execution_count": 5,
   "metadata": {
    "collapsed": false
   },
   "outputs": [],
   "source": [
    "wav_dir = os.path.expanduser('~/Dropbox/test_set_50_clips/')\n",
    "os.chdir(wav_dir)\n",
    "filenames=os.listdir('./')\n",
    "\n",
    "\n",
    "for filename in filenames:\n",
    "    if \".wav\" in filename:\n",
    "        if filename.replace(\".wav\",\"_deltas.mfcc.csv\") not in filenames:\n",
    "            try:\n",
    "                mfcc_out_deltas(filename)\n",
    "            except:\n",
    "                print(\"error : \"+filename)\n"
   ]
  },
  {
   "cell_type": "code",
   "execution_count": null,
   "metadata": {
    "collapsed": true
   },
   "outputs": [],
   "source": []
  }
 ],
 "metadata": {
  "kernelspec": {
   "display_name": "Python 2",
   "language": "python",
   "name": "python2"
  },
  "language_info": {
   "codemirror_mode": {
    "name": "ipython",
    "version": 2
   },
   "file_extension": ".py",
   "mimetype": "text/x-python",
   "name": "python",
   "nbconvert_exporter": "python",
   "pygments_lexer": "ipython2",
   "version": "2.7.12"
  }
 },
 "nbformat": 4,
 "nbformat_minor": 0
}
