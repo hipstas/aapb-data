{
 "cells": [
  {
   "cell_type": "code",
   "execution_count": 69,
   "metadata": {},
   "outputs": [
    {
     "data": {
      "text/html": [
       "<div>\n",
       "<table border=\"1\" class=\"dataframe\">\n",
       "  <thead>\n",
       "    <tr style=\"text-align: right;\">\n",
       "      <th></th>\n",
       "      <th>Basename</th>\n",
       "      <th>Time_in</th>\n",
       "      <th>Duration</th>\n",
       "      <th>Value</th>\n",
       "      <th>Additional_label</th>\n",
       "    </tr>\n",
       "  </thead>\n",
       "  <tbody>\n",
       "    <tr>\n",
       "      <th>0</th>\n",
       "      <td>cpb-aacip-28-319s17sx3t__PRA_AAPP_BB1460_Marti...</td>\n",
       "      <td>1401</td>\n",
       "      <td>1</td>\n",
       "      <td>background</td>\n",
       "      <td>NaN</td>\n",
       "    </tr>\n",
       "    <tr>\n",
       "      <th>1</th>\n",
       "      <td>cpb-aacip-15-97940t7x__111486_</td>\n",
       "      <td>1045</td>\n",
       "      <td>1</td>\n",
       "      <td>King, Martin Luther</td>\n",
       "      <td>NaN</td>\n",
       "    </tr>\n",
       "    <tr>\n",
       "      <th>2</th>\n",
       "      <td>cpb-aacip-15-9gm81p0j__256757_</td>\n",
       "      <td>3299</td>\n",
       "      <td>1</td>\n",
       "      <td>King, Martin Luther</td>\n",
       "      <td>NaN</td>\n",
       "    </tr>\n",
       "  </tbody>\n",
       "</table>\n",
       "</div>"
      ],
      "text/plain": [
       "                                            Basename  Time_in  Duration  \\\n",
       "0  cpb-aacip-28-319s17sx3t__PRA_AAPP_BB1460_Marti...     1401         1   \n",
       "1                     cpb-aacip-15-97940t7x__111486_     1045         1   \n",
       "2                     cpb-aacip-15-9gm81p0j__256757_     3299         1   \n",
       "\n",
       "                 Value Additional_label  \n",
       "0           background              NaN  \n",
       "1  King, Martin Luther              NaN  \n",
       "2  King, Martin Luther              NaN  "
      ]
     },
     "execution_count": 69,
     "metadata": {},
     "output_type": "execute_result"
    }
   ],
   "source": [
    "import os\n",
    "import pandas as pd\n",
    "\n",
    "####################################################################################\n",
    "test_set_path=\"/Volumes/U/AAPB_Corpus_May_2017/Test_Sets/AAPB_Test_Haystack_King\"\n",
    "ground_truth_csv_path=\"/Volumes/U/AAPB_Corpus_May_2017/Test_Sets/AAPB_Test_Haystack_King/AAPB_Test_Haystack_King_ground_truth.pt_1.csv\"\n",
    "####################################################################################\n",
    "\n",
    "ground_truth = pd.read_csv(ground_truth_csv_path)\n",
    "ground_truth.head(3)"
   ]
  },
  {
   "cell_type": "code",
   "execution_count": 70,
   "metadata": {},
   "outputs": [
    {
     "data": {
      "text/html": [
       "<div>\n",
       "<table border=\"1\" class=\"dataframe\">\n",
       "  <thead>\n",
       "    <tr style=\"text-align: right;\">\n",
       "      <th></th>\n",
       "      <th>Time_in</th>\n",
       "      <th>Numeric_ID</th>\n",
       "      <th>Duration</th>\n",
       "      <th>Basename</th>\n",
       "    </tr>\n",
       "  </thead>\n",
       "  <tbody>\n",
       "    <tr>\n",
       "      <th>0</th>\n",
       "      <td>27</td>\n",
       "      <td>1</td>\n",
       "      <td>7</td>\n",
       "      <td>cpb-aacip-41-15bcch5q.h264</td>\n",
       "    </tr>\n",
       "    <tr>\n",
       "      <th>1</th>\n",
       "      <td>37</td>\n",
       "      <td>1</td>\n",
       "      <td>2</td>\n",
       "      <td>cpb-aacip-41-15bcch5q.h264</td>\n",
       "    </tr>\n",
       "    <tr>\n",
       "      <th>2</th>\n",
       "      <td>41</td>\n",
       "      <td>1</td>\n",
       "      <td>2</td>\n",
       "      <td>cpb-aacip-41-15bcch5q.h264</td>\n",
       "    </tr>\n",
       "  </tbody>\n",
       "</table>\n",
       "</div>"
      ],
      "text/plain": [
       "   Time_in  Numeric_ID  Duration                    Basename\n",
       "0       27           1         7  cpb-aacip-41-15bcch5q.h264\n",
       "1       37           1         2  cpb-aacip-41-15bcch5q.h264\n",
       "2       41           1         2  cpb-aacip-41-15bcch5q.h264"
      ]
     },
     "execution_count": 70,
     "metadata": {},
     "output_type": "execute_result"
    }
   ],
   "source": [
    "filename_delimiter=\"_Baldwin_GMM_UBM_smooth10_\"\n",
    "filename_delimiter='_svm_'\n",
    "filename_delimiter=\"_GMM_UBM_smooth20_\"\n",
    "filename_delimiter=\"_svm_King_UBM_2969x2s\"\n",
    "\n",
    "svm_output_files = [os.path.join(test_set_path,item) for item in os.listdir(test_set_path) if \\\n",
    "                                                                            (filename_delimiter in item)&('.csv' in item)&(item[0]!='.')]\n",
    "\n",
    "svm_output = pd.DataFrame()\n",
    "list_ = []\n",
    "\n",
    "for pathname in svm_output_files:\n",
    "    try:\n",
    "        basename = pathname.split('/')[-1].split(filename_delimiter)[0]\n",
    "        if basename[-6:]=='.16000':\n",
    "            basename = basename[:-6]\n",
    "        df = pd.read_csv(pathname,index_col=None)\n",
    "        df.columns=['Time_in','Numeric_ID','Duration']\n",
    "        df['Basename'] = basename\n",
    "        list_.append(df)\n",
    "    except:\n",
    "        pass      ## Because some files may be empty, we're letting errors pass.\n",
    "        \n",
    "        \n",
    "svm_output = pd.concat(list_, ignore_index=True)\n",
    "svm_output.head(3)"
   ]
  },
  {
   "cell_type": "code",
   "execution_count": 71,
   "metadata": {},
   "outputs": [
    {
     "data": {
      "text/plain": [
       "0    cpb-aacip-41-15bcch5q.h264\n",
       "1    cpb-aacip-41-15bcch5q.h264\n",
       "2    cpb-aacip-41-15bcch5q.h264\n",
       "Name: Basename, dtype: object"
      ]
     },
     "execution_count": 71,
     "metadata": {},
     "output_type": "execute_result"
    }
   ],
   "source": [
    "svm_output['Basename'][:3]"
   ]
  },
  {
   "cell_type": "code",
   "execution_count": 72,
   "metadata": {},
   "outputs": [
    {
     "data": {
      "text/plain": [
       "True"
      ]
     },
     "execution_count": 72,
     "metadata": {},
     "output_type": "execute_result"
    }
   ],
   "source": [
    "### Making sure we're dealing with the same sets of files ###\n",
    "\n",
    "sorted(list(set(list(ground_truth['Basename'])))) == sorted(list(set(list(svm_output['Basename']))))"
   ]
  },
  {
   "cell_type": "code",
   "execution_count": 73,
   "metadata": {},
   "outputs": [],
   "source": [
    "### Checks classifier output table to see whether the machine thinks a given 1-second clip is the speaker ###\n",
    "\n",
    "def classified_as_speaker(basename,time_in):\n",
    "    for index, row in svm_output[svm_output['Basename']==basename].iterrows():\n",
    "        row = svm_output.iloc[index]\n",
    "        if float(row['Time_in']) <= float(time_in) < (float(row['Time_in'])+float(row['Duration'])):\n",
    "            return True\n",
    "    return False"
   ]
  },
  {
   "cell_type": "code",
   "execution_count": 74,
   "metadata": {},
   "outputs": [],
   "source": [
    "### Generating confusion matrix ###\n",
    "\n",
    "true_pos=0.0\n",
    "true_neg=0.0\n",
    "false_pos=0.0\n",
    "false_neg=0.0\n",
    "\n",
    "\n",
    "for index, row in ground_truth.iterrows():\n",
    "    row = ground_truth.iloc[index]\n",
    "    classifier_pos = classified_as_speaker(row['Basename'],row['Time_in'])\n",
    "    ground_truth_pos = (row['Value']!='background')\n",
    "    if classifier_pos == ground_truth_pos == True:\n",
    "        true_pos+=1\n",
    "    elif classifier_pos == ground_truth_pos == False:\n",
    "        true_neg+=1\n",
    "    elif (classifier_pos != ground_truth_pos) & (classifier_pos == True):\n",
    "        false_pos+=1\n",
    "    elif (classifier_pos != ground_truth_pos) & (classifier_pos == False):\n",
    "        false_neg+=1\n",
    "\n",
    "   "
   ]
  },
  {
   "cell_type": "code",
   "execution_count": 75,
   "metadata": {},
   "outputs": [
    {
     "name": "stdout",
     "output_type": "stream",
     "text": [
      "_svm_King_UBM_2969x2s\n",
      "\n",
      "\n",
      "CONFUSION MATRIX\n",
      "71.0 | 56.0\n",
      "16.0 | 107.0\n",
      "\n",
      "Accuracy: 0.712\n",
      "\n",
      "\n",
      "Sensitivity, hit rate, recall, or true positive rate\n",
      "0.55905511811\n",
      "\n",
      "\n",
      "Specificity or true negative rate\n",
      "0.869918699187\n",
      "\n",
      "\n",
      "Precision or positive predictive value\n",
      "0.816091954023\n",
      "\n",
      "\n",
      "Negative predictive value\n",
      "0.656441717791\n",
      "\n",
      "\n",
      "Fall out or false positive rate\n",
      "0.130081300813\n",
      "\n",
      "\n",
      "False negative rate\n",
      "0.44094488189\n",
      "\n",
      "\n",
      "False discovery rate\n",
      "0.183908045977\n",
      "\n",
      "\n",
      "Overall accuracy\n",
      "0.712\n",
      "\n",
      "\n",
      "F1\n",
      "0.663551401869\n"
     ]
    }
   ],
   "source": [
    "print(filename_delimiter)\n",
    "print('\\n')\n",
    "\n",
    "\n",
    "print(\"CONFUSION MATRIX\")\n",
    "\n",
    "print(str(true_pos) +' | ' + str(false_neg))\n",
    "print(str(false_pos) +' | ' + str(true_neg))\n",
    "\n",
    "print('\\nAccuracy: '+str((true_pos+true_neg)/(true_pos+true_neg+false_pos+false_neg)))\n",
    "print('\\n')\n",
    "\n",
    "\n",
    "\n",
    "\n",
    "\n",
    "TP=true_pos\n",
    "TN=true_neg\n",
    "FP=false_pos\n",
    "FN=false_neg\n",
    "\n",
    "\n",
    "print('Sensitivity, hit rate, recall, or true positive rate')\n",
    "TPR = TP/(TP+FN)\n",
    "print(TPR)\n",
    "print('\\n')\n",
    "\n",
    "print('Specificity or true negative rate')\n",
    "TNR = TN/(TN+FP) \n",
    "print(TNR)\n",
    "print('\\n')\n",
    "\n",
    "\n",
    "print('Precision or positive predictive value')\n",
    "PPV = TP/(TP+FP)\n",
    "print(PPV)\n",
    "print('\\n')\n",
    "\n",
    "\n",
    "print('Negative predictive value')\n",
    "NPV = TN/(TN+FN)\n",
    "print(NPV)\n",
    "print('\\n')\n",
    "\n",
    "\n",
    "print('Fall out or false positive rate')\n",
    "FPR = FP/(FP+TN)\n",
    "print(FPR)\n",
    "print('\\n')\n",
    "\n",
    "print('False negative rate')\n",
    "FNR = FN/(TP+FN)\n",
    "print(FNR)\n",
    "print('\\n')\n",
    "\n",
    "print('False discovery rate')\n",
    "FDR = FP/(TP+FP)\n",
    "print(FDR)\n",
    "print('\\n')\n",
    "\n",
    "print('Overall accuracy')\n",
    "ACC = (TP+TN)/(TP+FP+FN+TN)\n",
    "print(ACC)\n",
    "print('\\n')\n",
    "\n",
    "print('F1')\n",
    "F1 = 2*((PPV*TPR)/(PPV+TPR))\n",
    "print(F1)"
   ]
  },
  {
   "cell_type": "code",
   "execution_count": null,
   "metadata": {},
   "outputs": [],
   "source": []
  },
  {
   "cell_type": "code",
   "execution_count": null,
   "metadata": {
    "collapsed": true
   },
   "outputs": [],
   "source": []
  },
  {
   "cell_type": "code",
   "execution_count": null,
   "metadata": {
    "collapsed": true
   },
   "outputs": [],
   "source": []
  },
  {
   "cell_type": "code",
   "execution_count": null,
   "metadata": {
    "collapsed": true
   },
   "outputs": [],
   "source": []
  },
  {
   "cell_type": "code",
   "execution_count": null,
   "metadata": {
    "collapsed": true
   },
   "outputs": [],
   "source": []
  },
  {
   "cell_type": "code",
   "execution_count": null,
   "metadata": {
    "collapsed": true
   },
   "outputs": [],
   "source": []
  }
 ],
 "metadata": {
  "kernelspec": {
   "display_name": "Python 2",
   "language": "python",
   "name": "python2"
  },
  "language_info": {
   "codemirror_mode": {
    "name": "ipython",
    "version": 2
   },
   "file_extension": ".py",
   "mimetype": "text/x-python",
   "name": "python",
   "nbconvert_exporter": "python",
   "pygments_lexer": "ipython2",
   "version": "2.7.12"
  }
 },
 "nbformat": 4,
 "nbformat_minor": 2
}
