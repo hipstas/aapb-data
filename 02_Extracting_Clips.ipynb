{
 "cells": [
  {
   "cell_type": "code",
   "execution_count": 22,
   "metadata": {
    "collapsed": true
   },
   "outputs": [],
   "source": [
    "import os\n",
    "import sys, getopt\n",
    "import time, datetime\n",
    "from pydub import AudioSegment\n",
    "import pydub\n",
    "import subprocess\n",
    "import pandas as pd\n",
    "import numpy as np\n",
    "import math\n",
    "from copy import copy\n",
    "from random import random\n",
    "\n",
    "os.chdir(os.path.expanduser('~/Dropbox/aapb-hipstas'))"
   ]
  },
  {
   "cell_type": "code",
   "execution_count": null,
   "metadata": {
    "collapsed": true
   },
   "outputs": [],
   "source": []
  },
  {
   "cell_type": "code",
   "execution_count": 2,
   "metadata": {},
   "outputs": [
    {
     "data": {
      "text/plain": [
       "3554"
      ]
     },
     "execution_count": 2,
     "metadata": {},
     "output_type": "execute_result"
    }
   ],
   "source": [
    "import glob\n",
    "import fnmatch\n",
    "import os\n",
    "\n",
    "matches = []\n",
    "audio_paths=[\"/Volumes/Turcich-2012/AAPB_Test_Haystack\",\\\n",
    "\"/Users/mclaugh/Desktop/AAPB_400_hrs_labeled/wav/\",\\\n",
    "\"/Volumes/McLaughlin-6TB-1/Extended_Corpus/\"]\n",
    "\n",
    "\n",
    "matches = []\n",
    "x_matches = []\n",
    "for dir_path in audio_paths:\n",
    "    for root, dirnames, filenames in os.walk(dir_path):\n",
    "        for filename in fnmatch.filter(filenames, '*.mp4'):\n",
    "            matches.append(os.path.join(root, filename))\n",
    "        for filename in fnmatch.filter(filenames, '*.mp3'):\n",
    "            matches.append(os.path.join(root, filename))\n",
    "        for filename in fnmatch.filter(filenames, '*.wav'):\n",
    "            matches.append(os.path.join(root, filename))\n",
    "\n",
    "\n",
    "len(matches)"
   ]
  },
  {
   "cell_type": "code",
   "execution_count": 3,
   "metadata": {},
   "outputs": [
    {
     "name": "stdout",
     "output_type": "stream",
     "text": [
      "/Volumes/McLaughlin-6TB-1/Extended_Corpus/Malcolm_X/cpb-aacip-15-579s51qt.h264.mp4\n"
     ]
    }
   ],
   "source": [
    "basename_to_path={}\n",
    "\n",
    "for pathname in matches:\n",
    "    basename=pathname.split('/')[-1][:-4]  # removing file extension and rest of path\n",
    "    basename_to_path[basename]=pathname\n",
    "\n",
    "print(basename_to_path['cpb-aacip-15-579s51qt.h264'])"
   ]
  },
  {
   "cell_type": "code",
   "execution_count": 4,
   "metadata": {},
   "outputs": [
    {
     "name": "stdout",
     "output_type": "stream",
     "text": [
      "/Users/mclaugh/Desktop/AAPB_400_hrs_labeled/wav/cpb-aacip-15-9995xnw4.wav\n"
     ]
    }
   ],
   "source": [
    "print(basename_to_path['cpb-aacip-15-9995xnw4'])"
   ]
  },
  {
   "cell_type": "code",
   "execution_count": null,
   "metadata": {
    "collapsed": true
   },
   "outputs": [],
   "source": []
  },
  {
   "cell_type": "code",
   "execution_count": 5,
   "metadata": {},
   "outputs": [
    {
     "data": {
      "text/html": [
       "<div>\n",
       "<table border=\"1\" class=\"dataframe\">\n",
       "  <thead>\n",
       "    <tr style=\"text-align: right;\">\n",
       "      <th></th>\n",
       "      <th>AAPB Unique Identifier (GUID)</th>\n",
       "      <th>Type</th>\n",
       "      <th>Value</th>\n",
       "      <th>class ID</th>\n",
       "      <th>Timecode IN</th>\n",
       "      <th>Timecode OUT</th>\n",
       "      <th>Tag Duration</th>\n",
       "      <th>File Duration</th>\n",
       "      <th>SonyCi ID</th>\n",
       "      <th>Filename</th>\n",
       "    </tr>\n",
       "  </thead>\n",
       "  <tbody>\n",
       "    <tr>\n",
       "      <th>2984</th>\n",
       "      <td>NaN</td>\n",
       "      <td>NaN</td>\n",
       "      <td>Nixon, Richard</td>\n",
       "      <td>Richard Nixon</td>\n",
       "      <td>2378.884354</td>\n",
       "      <td>2389.031474</td>\n",
       "      <td>10.147120</td>\n",
       "      <td>3544.062</td>\n",
       "      <td>NaN</td>\n",
       "      <td>cpb-aacip-75-88qbzvhx.h264</td>\n",
       "    </tr>\n",
       "    <tr>\n",
       "      <th>2985</th>\n",
       "      <td>NaN</td>\n",
       "      <td>NaN</td>\n",
       "      <td>Nixon, Richard</td>\n",
       "      <td>Richard Nixon</td>\n",
       "      <td>2433.962086</td>\n",
       "      <td>2439.674195</td>\n",
       "      <td>5.712109</td>\n",
       "      <td>3544.062</td>\n",
       "      <td>NaN</td>\n",
       "      <td>cpb-aacip-75-88qbzvhx.h264</td>\n",
       "    </tr>\n",
       "  </tbody>\n",
       "</table>\n",
       "</div>"
      ],
      "text/plain": [
       "     AAPB Unique Identifier (GUID) Type           Value       class ID  \\\n",
       "2984                           NaN  NaN  Nixon, Richard  Richard Nixon   \n",
       "2985                           NaN  NaN  Nixon, Richard  Richard Nixon   \n",
       "\n",
       "      Timecode IN  Timecode OUT  Tag Duration  File Duration SonyCi ID  \\\n",
       "2984  2378.884354   2389.031474     10.147120       3544.062       NaN   \n",
       "2985  2433.962086   2439.674195      5.712109       3544.062       NaN   \n",
       "\n",
       "                        Filename  \n",
       "2984  cpb-aacip-75-88qbzvhx.h264  \n",
       "2985  cpb-aacip-75-88qbzvhx.h264  "
      ]
     },
     "execution_count": 5,
     "metadata": {},
     "output_type": "execute_result"
    }
   ],
   "source": [
    "aapb_metadata_all=pd.read_csv(\"AAPB_ARLO_All_170412.csv\")\n",
    "aapb_metadata_all.tail(2)"
   ]
  },
  {
   "cell_type": "code",
   "execution_count": 6,
   "metadata": {},
   "outputs": [
    {
     "name": "stdout",
     "output_type": "stream",
     "text": [
      "nan\n",
      "nan\n",
      "nan\n",
      "nan\n",
      "nan\n"
     ]
    }
   ],
   "source": [
    "#Adding current pathname for each row\n",
    "\n",
    "aapb_metadata_all['Pathname']=''\n",
    "\n",
    "for i in range(len(aapb_metadata_all)):\n",
    "    row=aapb_metadata_all.iloc[i]\n",
    "    basename=row['Filename']\n",
    "    try:\n",
    "        #print(str(dur_dict[basename]))\n",
    "        aapb_metadata_all.set_value(i, 'Pathname', basename_to_path[basename])\n",
    "    except:\n",
    "        print(basename)\n",
    "    \n"
   ]
  },
  {
   "cell_type": "code",
   "execution_count": 7,
   "metadata": {},
   "outputs": [
    {
     "data": {
      "text/html": [
       "<div>\n",
       "<table border=\"1\" class=\"dataframe\">\n",
       "  <thead>\n",
       "    <tr style=\"text-align: right;\">\n",
       "      <th></th>\n",
       "      <th>AAPB Unique Identifier (GUID)</th>\n",
       "      <th>Type</th>\n",
       "      <th>Value</th>\n",
       "      <th>class ID</th>\n",
       "      <th>Timecode IN</th>\n",
       "      <th>Timecode OUT</th>\n",
       "      <th>Tag Duration</th>\n",
       "      <th>File Duration</th>\n",
       "      <th>SonyCi ID</th>\n",
       "      <th>Filename</th>\n",
       "      <th>Pathname</th>\n",
       "    </tr>\n",
       "  </thead>\n",
       "  <tbody>\n",
       "    <tr>\n",
       "      <th>0</th>\n",
       "      <td>cpb-aacip/500-j9609t48</td>\n",
       "      <td>Significant speaker voice</td>\n",
       "      <td>Kennedy, John F.</td>\n",
       "      <td>NaN</td>\n",
       "      <td>5.0</td>\n",
       "      <td>110.0</td>\n",
       "      <td>105.0</td>\n",
       "      <td>1739.184</td>\n",
       "      <td>6d54987efa73413cb3558c95baa907a6</td>\n",
       "      <td>cpb-aacip-500-j9609t48</td>\n",
       "      <td>/Volumes/McLaughlin-6TB-1/Extended_Corpus/John...</td>\n",
       "    </tr>\n",
       "    <tr>\n",
       "      <th>1</th>\n",
       "      <td>cpb-aacip/500-j9609t48</td>\n",
       "      <td>Sound quality</td>\n",
       "      <td>audience clapping</td>\n",
       "      <td>NaN</td>\n",
       "      <td>131.0</td>\n",
       "      <td>140.0</td>\n",
       "      <td>9.0</td>\n",
       "      <td>1739.184</td>\n",
       "      <td>6d54987efa73413cb3558c95baa907a6</td>\n",
       "      <td>cpb-aacip-500-j9609t48</td>\n",
       "      <td>/Volumes/McLaughlin-6TB-1/Extended_Corpus/John...</td>\n",
       "    </tr>\n",
       "    <tr>\n",
       "      <th>2</th>\n",
       "      <td>cpb-aacip/500-j9609t48</td>\n",
       "      <td>Significant speaker voice</td>\n",
       "      <td>Kennedy, John F.</td>\n",
       "      <td>NaN</td>\n",
       "      <td>119.0</td>\n",
       "      <td>254.0</td>\n",
       "      <td>135.0</td>\n",
       "      <td>1739.184</td>\n",
       "      <td>6d54987efa73413cb3558c95baa907a6</td>\n",
       "      <td>cpb-aacip-500-j9609t48</td>\n",
       "      <td>/Volumes/McLaughlin-6TB-1/Extended_Corpus/John...</td>\n",
       "    </tr>\n",
       "  </tbody>\n",
       "</table>\n",
       "</div>"
      ],
      "text/plain": [
       "  AAPB Unique Identifier (GUID)                       Type              Value  \\\n",
       "0        cpb-aacip/500-j9609t48  Significant speaker voice   Kennedy, John F.   \n",
       "1        cpb-aacip/500-j9609t48              Sound quality  audience clapping   \n",
       "2        cpb-aacip/500-j9609t48  Significant speaker voice   Kennedy, John F.   \n",
       "\n",
       "  class ID  Timecode IN  Timecode OUT  Tag Duration  File Duration  \\\n",
       "0      NaN          5.0         110.0         105.0       1739.184   \n",
       "1      NaN        131.0         140.0           9.0       1739.184   \n",
       "2      NaN        119.0         254.0         135.0       1739.184   \n",
       "\n",
       "                          SonyCi ID                Filename  \\\n",
       "0  6d54987efa73413cb3558c95baa907a6  cpb-aacip-500-j9609t48   \n",
       "1  6d54987efa73413cb3558c95baa907a6  cpb-aacip-500-j9609t48   \n",
       "2  6d54987efa73413cb3558c95baa907a6  cpb-aacip-500-j9609t48   \n",
       "\n",
       "                                            Pathname  \n",
       "0  /Volumes/McLaughlin-6TB-1/Extended_Corpus/John...  \n",
       "1  /Volumes/McLaughlin-6TB-1/Extended_Corpus/John...  \n",
       "2  /Volumes/McLaughlin-6TB-1/Extended_Corpus/John...  "
      ]
     },
     "execution_count": 7,
     "metadata": {},
     "output_type": "execute_result"
    }
   ],
   "source": [
    "aapb_metadata_all.head(3)"
   ]
  },
  {
   "cell_type": "code",
   "execution_count": 8,
   "metadata": {
    "collapsed": true
   },
   "outputs": [],
   "source": [
    "# finding all \"Value\" labels\n",
    "label_values=sorted([str(item) for item in list(set(list(aapb_metadata_all['Value'])))])\n",
    "label_values.remove('nan')"
   ]
  },
  {
   "cell_type": "code",
   "execution_count": 10,
   "metadata": {
    "collapsed": true
   },
   "outputs": [],
   "source": [
    "\n",
    "#x_table.head(2)"
   ]
  },
  {
   "cell_type": "code",
   "execution_count": null,
   "metadata": {
    "collapsed": true
   },
   "outputs": [],
   "source": []
  },
  {
   "cell_type": "code",
   "execution_count": 11,
   "metadata": {
    "collapsed": true
   },
   "outputs": [],
   "source": [
    "aapb_metadata_all_split=pd.DataFrame(columns=['AAPB Unique Identifier (GUID)', 'Type', 'Value', 'class ID',\\\n",
    "       'Timecode IN', 'Timecode OUT', 'Tag Duration', 'File Duration',\\\n",
    "       'SonyCi ID', 'Filename', 'Pathname'])\n",
    "\n",
    "\n",
    "\n",
    "for value in label_values:\n",
    "\n",
    "    x_table=aapb_metadata_all[aapb_metadata_all['Value']==value]\n",
    "\n",
    "    table=[]\n",
    "    for index, rowref in x_table.iterrows():\n",
    "    \n",
    "        num_clips=math.trunc(float(row['Tag Duration'])/2) #checking how many solid 2-second clips we can extract\n",
    "        #print(num_clips)\n",
    "        #break\n",
    "        row_list=list(aapb_metadata_all.iloc[index])\n",
    "        series_start=row[\"Timecode IN\"]\n",
    "        list_of_lists=[]\n",
    "    \n",
    "        for i in range(num_clips):\n",
    "            row_list[4]=float(row_list[4])+(2.0*i)\n",
    "            row_list[5]=float(row_list[4])+(2.0*i)+2\n",
    "            row_list[6]=2.0\n",
    "            list_of_lists.append(copy(row_list))\n",
    "            #print(row_list)\n",
    "            table=pd.DataFrame(list_of_lists,columns=['AAPB Unique Identifier (GUID)', 'Type', 'Value', 'class ID',\\\n",
    "               'Timecode IN', 'Timecode OUT', 'Tag Duration', 'File Duration',\\\n",
    "               'SonyCi ID', 'Filename', 'Pathname'])\n",
    "    \n",
    "        #print(num_clips)\n",
    "        #extended_corpus_table=extended_corpus_table.append(table.dropna(),ignore_index=True)\n",
    "            aapb_metadata_all_split=aapb_metadata_all_split.append(table,ignore_index=True)"
   ]
  },
  {
   "cell_type": "code",
   "execution_count": 12,
   "metadata": {},
   "outputs": [
    {
     "data": {
      "text/html": [
       "<div>\n",
       "<table border=\"1\" class=\"dataframe\">\n",
       "  <thead>\n",
       "    <tr style=\"text-align: right;\">\n",
       "      <th></th>\n",
       "      <th>AAPB Unique Identifier (GUID)</th>\n",
       "      <th>Type</th>\n",
       "      <th>Value</th>\n",
       "      <th>class ID</th>\n",
       "      <th>Timecode IN</th>\n",
       "      <th>Timecode OUT</th>\n",
       "      <th>Tag Duration</th>\n",
       "      <th>File Duration</th>\n",
       "      <th>SonyCi ID</th>\n",
       "      <th>Filename</th>\n",
       "      <th>Pathname</th>\n",
       "    </tr>\n",
       "  </thead>\n",
       "  <tbody>\n",
       "    <tr>\n",
       "      <th>0</th>\n",
       "      <td>cpb-aacip/28-td9n29pp9j</td>\n",
       "      <td>Significant speaker voice</td>\n",
       "      <td>Baldwin, James</td>\n",
       "      <td>NaN</td>\n",
       "      <td>32.0</td>\n",
       "      <td>34.0</td>\n",
       "      <td>2.0</td>\n",
       "      <td>1605.408</td>\n",
       "      <td>f965cf9612054347aabe2cbdf87cd487</td>\n",
       "      <td>cpb-aacip-28-td9n29pp9j__PRA_AAPP_BC0642_James...</td>\n",
       "      <td>/Volumes/McLaughlin-6TB-1/Extended_Corpus/Mart...</td>\n",
       "    </tr>\n",
       "    <tr>\n",
       "      <th>1</th>\n",
       "      <td>cpb-aacip/28-td9n29pp9j</td>\n",
       "      <td>Significant speaker voice</td>\n",
       "      <td>Baldwin, James</td>\n",
       "      <td>NaN</td>\n",
       "      <td>32.0</td>\n",
       "      <td>34.0</td>\n",
       "      <td>2.0</td>\n",
       "      <td>1605.408</td>\n",
       "      <td>f965cf9612054347aabe2cbdf87cd487</td>\n",
       "      <td>cpb-aacip-28-td9n29pp9j__PRA_AAPP_BC0642_James...</td>\n",
       "      <td>/Volumes/McLaughlin-6TB-1/Extended_Corpus/Mart...</td>\n",
       "    </tr>\n",
       "  </tbody>\n",
       "</table>\n",
       "</div>"
      ],
      "text/plain": [
       "  AAPB Unique Identifier (GUID)                       Type           Value  \\\n",
       "0       cpb-aacip/28-td9n29pp9j  Significant speaker voice  Baldwin, James   \n",
       "1       cpb-aacip/28-td9n29pp9j  Significant speaker voice  Baldwin, James   \n",
       "\n",
       "  class ID  Timecode IN  Timecode OUT  Tag Duration  File Duration  \\\n",
       "0      NaN         32.0          34.0           2.0       1605.408   \n",
       "1      NaN         32.0          34.0           2.0       1605.408   \n",
       "\n",
       "                          SonyCi ID  \\\n",
       "0  f965cf9612054347aabe2cbdf87cd487   \n",
       "1  f965cf9612054347aabe2cbdf87cd487   \n",
       "\n",
       "                                            Filename  \\\n",
       "0  cpb-aacip-28-td9n29pp9j__PRA_AAPP_BC0642_James...   \n",
       "1  cpb-aacip-28-td9n29pp9j__PRA_AAPP_BC0642_James...   \n",
       "\n",
       "                                            Pathname  \n",
       "0  /Volumes/McLaughlin-6TB-1/Extended_Corpus/Mart...  \n",
       "1  /Volumes/McLaughlin-6TB-1/Extended_Corpus/Mart...  "
      ]
     },
     "execution_count": 12,
     "metadata": {},
     "output_type": "execute_result"
    }
   ],
   "source": [
    "aapb_metadata_all_split.head(2)"
   ]
  },
  {
   "cell_type": "code",
   "execution_count": 13,
   "metadata": {},
   "outputs": [
    {
     "data": {
      "text/html": [
       "<div>\n",
       "<table border=\"1\" class=\"dataframe\">\n",
       "  <thead>\n",
       "    <tr style=\"text-align: right;\">\n",
       "      <th></th>\n",
       "      <th>AAPB Unique Identifier (GUID)</th>\n",
       "      <th>Type</th>\n",
       "      <th>Value</th>\n",
       "      <th>class ID</th>\n",
       "      <th>Timecode IN</th>\n",
       "      <th>Timecode OUT</th>\n",
       "      <th>Tag Duration</th>\n",
       "      <th>File Duration</th>\n",
       "      <th>SonyCi ID</th>\n",
       "      <th>Filename</th>\n",
       "      <th>Pathname</th>\n",
       "    </tr>\n",
       "  </thead>\n",
       "  <tbody>\n",
       "    <tr>\n",
       "      <th>1160</th>\n",
       "      <td>cpb-aacip/298-21tdz5bv</td>\n",
       "      <td>Significant speaker voice</td>\n",
       "      <td>Bush, George W.</td>\n",
       "      <td>NaN</td>\n",
       "      <td>162.00</td>\n",
       "      <td>166.00</td>\n",
       "      <td>2.0</td>\n",
       "      <td>3643.535964</td>\n",
       "      <td>f5e61665177d41b7b4c30d77fe90161e</td>\n",
       "      <td>cpb-aacip-298-21tdz5bv.h264</td>\n",
       "      <td>/Users/mclaugh/Desktop/AAPB_400_hrs_labeled/wa...</td>\n",
       "    </tr>\n",
       "    <tr>\n",
       "      <th>1040</th>\n",
       "      <td>cpb-aacip/41-98mcw559</td>\n",
       "      <td>Significant speaker voice</td>\n",
       "      <td>Bush, George HW</td>\n",
       "      <td>NaN</td>\n",
       "      <td>328.00</td>\n",
       "      <td>332.00</td>\n",
       "      <td>2.0</td>\n",
       "      <td>773.759000</td>\n",
       "      <td>941468e3ce9f43abbb1d20116b7dca94</td>\n",
       "      <td>cpb-aacip-41-98mcw559.h264</td>\n",
       "      <td>/Volumes/McLaughlin-6TB-1/Extended_Corpus/Rona...</td>\n",
       "    </tr>\n",
       "    <tr>\n",
       "      <th>7736</th>\n",
       "      <td>NaN</td>\n",
       "      <td>NaN</td>\n",
       "      <td>applause</td>\n",
       "      <td>Applause</td>\n",
       "      <td>3484.88</td>\n",
       "      <td>3488.88</td>\n",
       "      <td>2.0</td>\n",
       "      <td>3885.552000</td>\n",
       "      <td>NaN</td>\n",
       "      <td>cpb-aacip-28-9z90863j5g__PRA_AAPP_BB2011_Free_...</td>\n",
       "      <td>/Volumes/McLaughlin-6TB-1/Extended_Corpus/Jame...</td>\n",
       "    </tr>\n",
       "  </tbody>\n",
       "</table>\n",
       "</div>"
      ],
      "text/plain": [
       "     AAPB Unique Identifier (GUID)                       Type  \\\n",
       "1160        cpb-aacip/298-21tdz5bv  Significant speaker voice   \n",
       "1040         cpb-aacip/41-98mcw559  Significant speaker voice   \n",
       "7736                           NaN                        NaN   \n",
       "\n",
       "                Value  class ID  Timecode IN  Timecode OUT  Tag Duration  \\\n",
       "1160  Bush, George W.       NaN       162.00        166.00           2.0   \n",
       "1040  Bush, George HW       NaN       328.00        332.00           2.0   \n",
       "7736         applause  Applause      3484.88       3488.88           2.0   \n",
       "\n",
       "      File Duration                         SonyCi ID  \\\n",
       "1160    3643.535964  f5e61665177d41b7b4c30d77fe90161e   \n",
       "1040     773.759000  941468e3ce9f43abbb1d20116b7dca94   \n",
       "7736    3885.552000                               NaN   \n",
       "\n",
       "                                               Filename  \\\n",
       "1160                        cpb-aacip-298-21tdz5bv.h264   \n",
       "1040                         cpb-aacip-41-98mcw559.h264   \n",
       "7736  cpb-aacip-28-9z90863j5g__PRA_AAPP_BB2011_Free_...   \n",
       "\n",
       "                                               Pathname  \n",
       "1160  /Users/mclaugh/Desktop/AAPB_400_hrs_labeled/wa...  \n",
       "1040  /Volumes/McLaughlin-6TB-1/Extended_Corpus/Rona...  \n",
       "7736  /Volumes/McLaughlin-6TB-1/Extended_Corpus/Jame...  "
      ]
     },
     "execution_count": 13,
     "metadata": {},
     "output_type": "execute_result"
    }
   ],
   "source": [
    "aapb_metadata_all_split.sample(n=3)"
   ]
  },
  {
   "cell_type": "code",
   "execution_count": 14,
   "metadata": {
    "collapsed": true
   },
   "outputs": [],
   "source": [
    "##writing csv\n",
    "aapb_metadata_all_split.to_csv('AAPB_ARLO_All_170412_2_sec_segs.csv')"
   ]
  },
  {
   "cell_type": "code",
   "execution_count": 15,
   "metadata": {},
   "outputs": [
    {
     "name": "stdout",
     "output_type": "stream",
     "text": [
      "/Volumes/McLaughlin-6TB-1/Dropbox/aapb-hipstas\r\n"
     ]
    }
   ],
   "source": [
    "!pwd"
   ]
  },
  {
   "cell_type": "code",
   "execution_count": 16,
   "metadata": {},
   "outputs": [
    {
     "data": {
      "text/plain": [
       "'/Volumes/McLaughlin-6TB-1/Extended_Corpus/Martin_Luther_King_1/cpb-aacip-28-td9n29pp9j__PRA_AAPP_BC0642_James_Baldwin_on_Angela_Davis_.mp3'"
      ]
     },
     "execution_count": 16,
     "metadata": {},
     "output_type": "execute_result"
    }
   ],
   "source": [
    "row=aapb_metadata_all_split.iloc[9]\n",
    "row[\"Pathname\"]"
   ]
  },
  {
   "cell_type": "code",
   "execution_count": 17,
   "metadata": {
    "collapsed": true
   },
   "outputs": [],
   "source": [
    "os.chdir('/Volumes/McLaughlin-6TB-1/Dropbox/aapb-hipstas/Model_training_clips')"
   ]
  },
  {
   "cell_type": "code",
   "execution_count": null,
   "metadata": {
    "collapsed": true
   },
   "outputs": [],
   "source": []
  },
  {
   "cell_type": "code",
   "execution_count": 18,
   "metadata": {
    "collapsed": true
   },
   "outputs": [],
   "source": [
    "\n",
    "def extract_clips(x_table):\n",
    "    for unique_audio_path in sorted(list(set(list(x_table['Pathname'])))):\n",
    "        inputfile=unique_audio_path\n",
    "        if os.path.exists(inputfile):\n",
    "            if inputfile.lower()[-4:].lower() in ('.wav','.mp3','.mp4'):\n",
    "                wav_source=True\n",
    "                if inputfile.lower()[-4:]=='.mp4':     # Creates a temporary WAV\n",
    "                    wav_source=False                         # if input is MP4\n",
    "                    temp_filename=inputfile.split('/')[-1]+'_temp.wav'\n",
    "                    audio_path='/var/tmp/'+temp_filename   # Pathname for temp WAV\n",
    "                    subprocess.call(['ffmpeg', '-y', '-i', inputfile, audio_path]) # '-y' option overwrites existing file if present\n",
    "                else:\n",
    "                    audio_path=inputfile\n",
    "\n",
    "                song=None\n",
    "                from pydub import AudioSegment\n",
    "                \n",
    "                if inputfile[-4:].lower()=='.mp3':\n",
    "                    song = AudioSegment.from_mp3(audio_path)\n",
    "                else:\n",
    "                    song = AudioSegment.from_wav(audio_path)\n",
    "\n",
    "\n",
    "        for index, rowref in x_table[x_table['Pathname']==unique_audio_path].iterrows():\n",
    "            row=aapb_metadata_all_split.iloc[index] ## Ref to master split table\n",
    "            time_in=row['Timecode IN']\n",
    "            clip_duration=row['Tag Duration']\n",
    "            inputfile=row['Pathname']\n",
    "            basename=row['Filename']\n",
    "            dir_name=row['Value']\n",
    "            \n",
    "            try: os.mkdir(dir_name)\n",
    "            except: pass\n",
    "\n",
    "        \n",
    "            from pydub import AudioSegment \n",
    "            start_msec = float(time_in) * 1000.0\n",
    "            duration_msec = float(clip_duration) * 1000\n",
    "            clip_pathname=basename+'.start_'+str(time_in)[:8]+'.dur_2s.wav'\n",
    "            if not os.path.exists(os.path.join(dir_name,clip_pathname)):\n",
    "                clip_data = song[start_msec:start_msec+duration_msec]\n",
    "                clip_data=clip_data.set_channels(1)\n",
    "                clip_data.export(os.path.join(dir_name,clip_pathname), format=\"wav\")\n",
    "\n",
    "        try:\n",
    "            if wav_source==False:\n",
    "                os.remove(audio_path)\n",
    "        except: pass\n",
    "\n",
    "    print(\"*** All segments extracted! ***\")\n",
    "\n"
   ]
  },
  {
   "cell_type": "code",
   "execution_count": null,
   "metadata": {
    "collapsed": true
   },
   "outputs": [],
   "source": [
    "len(aapb_metadata_all_split[aapb_metadata_all_split['Value']==name])"
   ]
  },
  {
   "cell_type": "code",
   "execution_count": 19,
   "metadata": {},
   "outputs": [
    {
     "name": "stdout",
     "output_type": "stream",
     "text": [
      "*** All segments extracted! ***\n"
     ]
    }
   ],
   "source": [
    "##### Running the Random Clip Extractor #####\n",
    "\n",
    "name=\"Baldwin, James\"\n",
    "num_clips=846     ## number of 2-second clips desired\n",
    "\n",
    "x_table=aapb_metadata_all_split[aapb_metadata_all_split['Value']==name].sample(n=num_clips)\n",
    "\n",
    "extract_clips(x_table)\n",
    "\n"
   ]
  },
  {
   "cell_type": "code",
   "execution_count": null,
   "metadata": {
    "collapsed": true
   },
   "outputs": [],
   "source": [
    "#extract_clips(x_table)"
   ]
  },
  {
   "cell_type": "code",
   "execution_count": null,
   "metadata": {
    "collapsed": true
   },
   "outputs": [],
   "source": [
    "# Get files not included\n",
    "\n",
    "subset_paths=set(list(x_table[\"Pathname\"]))\n",
    "all_paths=set(list(aapb_metadata_all_split[aapb_metadata_all_split['Value']==name][\"Pathname\"]))\n",
    "list(all_paths-subset_paths)"
   ]
  },
  {
   "cell_type": "code",
   "execution_count": null,
   "metadata": {
    "collapsed": true
   },
   "outputs": [],
   "source": []
  },
  {
   "cell_type": "code",
   "execution_count": null,
   "metadata": {
    "collapsed": true
   },
   "outputs": [],
   "source": []
  },
  {
   "cell_type": "code",
   "execution_count": null,
   "metadata": {
    "collapsed": true
   },
   "outputs": [],
   "source": []
  },
  {
   "cell_type": "code",
   "execution_count": null,
   "metadata": {
    "collapsed": true
   },
   "outputs": [],
   "source": []
  },
  {
   "cell_type": "code",
   "execution_count": 39,
   "metadata": {},
   "outputs": [
    {
     "data": {
      "text/plain": [
       "285"
      ]
     },
     "execution_count": 39,
     "metadata": {},
     "output_type": "execute_result"
    }
   ],
   "source": [
    "## Loading table of labeled 2-second audio segments\n",
    "\n",
    "aapb_metadata_all_split_1=pd.read_csv(\"/Volumes/McLaughlin-6TB-1/Dropbox/aapb-hipstas/AAPB_ARLO_All_170412_2_sec_segs.csv\")\n",
    "aapb_metadata_all_split_1.tail(1)\n",
    "\n",
    "len(list(aapb_metadata_all_split_1[aapb_metadata_all_split_1['Value']==\"King, Martin Luther\"]['Filename']))"
   ]
  },
  {
   "cell_type": "code",
   "execution_count": 40,
   "metadata": {},
   "outputs": [
    {
     "data": {
      "text/plain": [
       "95"
      ]
     },
     "execution_count": 40,
     "metadata": {},
     "output_type": "execute_result"
    }
   ],
   "source": [
    "\n",
    "## Loading table of labeled 2-second audio segments\n",
    "\n",
    "aapb_metadata_all_0=pd.read_csv(\"/Volumes/McLaughlin-6TB-1/Dropbox/aapb-hipstas/AAPB_ARLO_All_170412.csv\")\n",
    "aapb_metadata_all_0.tail(1)\n",
    "\n",
    "len(list(aapb_metadata_all_0[aapb_metadata_all_0['Value']==\"King, Martin Luther\"]['Filename']))"
   ]
  },
  {
   "cell_type": "code",
   "execution_count": null,
   "metadata": {
    "collapsed": true
   },
   "outputs": [],
   "source": []
  },
  {
   "cell_type": "code",
   "execution_count": null,
   "metadata": {
    "collapsed": true
   },
   "outputs": [],
   "source": []
  }
 ],
 "metadata": {
  "kernelspec": {
   "display_name": "Python 3",
   "language": "python",
   "name": "python3"
  },
  "language_info": {
   "codemirror_mode": {
    "name": "ipython",
    "version": 3
   },
   "file_extension": ".py",
   "mimetype": "text/x-python",
   "name": "python",
   "nbconvert_exporter": "python",
   "pygments_lexer": "ipython3",
   "version": "3.6.0"
  }
 },
 "nbformat": 4,
 "nbformat_minor": 2
}
