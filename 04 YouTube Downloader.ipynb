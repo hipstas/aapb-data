{
 "cells": [
  {
   "cell_type": "code",
   "execution_count": 16,
   "metadata": {
    "collapsed": true
   },
   "outputs": [],
   "source": [
    "import os\n",
    "\n",
    "yt_dir=\"/Volumes/McLaughlin-6TB-1/Dropbox/aapb-hipstas/YouTube_corpus\"\n",
    "\n",
    "os.chdir(yt_dir)"
   ]
  },
  {
   "cell_type": "code",
   "execution_count": 17,
   "metadata": {
    "collapsed": true
   },
   "outputs": [],
   "source": [
    "value=\"X, Malcolm\""
   ]
  },
  {
   "cell_type": "code",
   "execution_count": 18,
   "metadata": {},
   "outputs": [
    {
     "data": {
      "text/plain": [
       "['https://www.youtube.com/watch?v=3vlaBVGB_7Y',\n",
       " 'https://www.youtube.com/watch?v=P2VDub9L2ls',\n",
       " 'https://www.youtube.com/watch?v=ZUVzyvWUsjQ',\n",
       " 'https://www.youtube.com/watch?v=EEeLoKyZiDw',\n",
       " 'https://www.youtube.com/watch?v=kz6vll_cjg4',\n",
       " 'https://www.youtube.com/watch?v=lx7RecMy2og',\n",
       " 'https://www.youtube.com/watch?v=tNygOA_rELE',\n",
       " 'https://www.youtube.com/watch?v=WDEL96igPAA',\n",
       " 'https://www.youtube.com/watch?v=cQb0f8kBXbQ',\n",
       " 'https://www.youtube.com/watch?v=uMM77od6PyA']"
      ]
     },
     "execution_count": 18,
     "metadata": {},
     "output_type": "execute_result"
    }
   ],
   "source": [
    "yt_urls=open(value+'.txt').read().splitlines()\n",
    "yt_urls"
   ]
  },
  {
   "cell_type": "code",
   "execution_count": 19,
   "metadata": {},
   "outputs": [],
   "source": [
    "try: os.mkdir(value)\n",
    "except: pass\n",
    "os.chdir('./'+value)\n",
    "\n",
    "for url in yt_urls:\n",
    "    os.system(\"youtube-dl --extract-audio --audio-format wav \"+url)\n",
    "\n",
    "os.chdir(yt_dir)"
   ]
  },
  {
   "cell_type": "code",
   "execution_count": null,
   "metadata": {},
   "outputs": [],
   "source": []
  },
  {
   "cell_type": "code",
   "execution_count": null,
   "metadata": {
    "collapsed": true
   },
   "outputs": [],
   "source": []
  },
  {
   "cell_type": "code",
   "execution_count": null,
   "metadata": {
    "collapsed": true
   },
   "outputs": [],
   "source": []
  }
 ],
 "metadata": {
  "kernelspec": {
   "display_name": "Python 3",
   "language": "python",
   "name": "python3"
  },
  "language_info": {
   "codemirror_mode": {
    "name": "ipython",
    "version": 3
   },
   "file_extension": ".py",
   "mimetype": "text/x-python",
   "name": "python",
   "nbconvert_exporter": "python",
   "pygments_lexer": "ipython3",
   "version": "3.6.0"
  }
 },
 "nbformat": 4,
 "nbformat_minor": 2
}
